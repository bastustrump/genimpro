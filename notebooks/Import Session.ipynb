{
 "metadata": {
  "name": "",
  "signature": "sha256:79b670c71f20d4dadfa6c1e54a1c3eb32740b8aab8efabdd3a96b472fd1aa97e"
 },
 "nbformat": 3,
 "nbformat_minor": 0,
 "worksheets": [
  {
   "cells": [
    {
     "cell_type": "code",
     "collapsed": false,
     "input": [
      "cd /Users/bastus/Desktop/Forschungsprojekt/genimpro/"
     ],
     "language": "python",
     "metadata": {},
     "outputs": [
      {
       "output_type": "stream",
       "stream": "stdout",
       "text": [
        "/Users/bastus/Desktop/Forschungsprojekt/genimpro\n"
       ]
      }
     ],
     "prompt_number": 3
    },
    {
     "cell_type": "code",
     "collapsed": false,
     "input": [
      "ls import"
     ],
     "language": "python",
     "metadata": {},
     "outputs": [
      {
       "output_type": "stream",
       "stream": "stdout",
       "text": [
        "0001 A C-1.aiff  0001 B C-1.aiff  0002 A C.aiff    0003 A B-1.aiff  0003 A B.aiff    0003 B C.aiff\r\n",
        "0001 A C.aiff    0001 B C.aiff    0002 B C.aiff    0003 A B-2.aif   0003 A C.aiff    0004 A B.aiff\r\n"
       ]
      }
     ],
     "prompt_number": 4
    },
    {
     "cell_type": "code",
     "collapsed": false,
     "input": [
      "import sqlite3 as lite\n",
      "import sys\n",
      "import os\n",
      "import aifc\n",
      "import struct\n",
      "import uuid\n",
      "import array\n",
      "import pprint"
     ],
     "language": "python",
     "metadata": {},
     "outputs": [],
     "prompt_number": 10
    },
    {
     "cell_type": "code",
     "collapsed": false,
     "input": [
      "audiofile=\"import/0001 A C-1.aiff\"\n",
      "a=aifc.open(audiofile,\"r\")\n",
      "data = a.readframes(a.getnframes())\n",
      "num_samples = a.getnframes() * a.getnchannels()"
     ],
     "language": "python",
     "metadata": {},
     "outputs": [],
     "prompt_number": 11
    },
    {
     "cell_type": "code",
     "collapsed": false,
     "input": [
      "if a.getsampwidth() == 1:\n",
      "    unpacked_samples = struct.unpack(str(num_samples)+'b', data)\n",
      "    unpacked_samples = [x * 256 for x in unpacked_samples]\n",
      "elif a.getsampwidth() == 2:\n",
      "    unpacked_samples = struct.unpack(str(num_samples)+'h', data)\n",
      "else:\n",
      "    raise Exception(\"Sorry, wrong samplewidth\")"
     ],
     "language": "python",
     "metadata": {},
     "outputs": [],
     "prompt_number": 7
    },
    {
     "cell_type": "code",
     "collapsed": false,
     "input": [
      "filenames= []\n",
      "channel=0\n",
      "sessionID=2"
     ],
     "language": "python",
     "metadata": {},
     "outputs": [],
     "prompt_number": 8
    },
    {
     "cell_type": "code",
     "collapsed": false,
     "input": [
      "unpacked_channel = [unpacked_samples[i] for i in range(channel, num_samples, 2)]"
     ],
     "language": "python",
     "metadata": {},
     "outputs": [],
     "prompt_number": 9
    },
    {
     "cell_type": "code",
     "collapsed": false,
     "input": [
      "filenames.append(str(sessionID) +  \"/\" + str(uuid.uuid4()) + \".aiff\")"
     ],
     "language": "python",
     "metadata": {},
     "outputs": [],
     "prompt_number": 10
    },
    {
     "cell_type": "code",
     "collapsed": false,
     "input": [
      "path = str(sessionID) + \"/\"\n",
      "if not os.path.exists(path): os.makedirs(path)"
     ],
     "language": "python",
     "metadata": {},
     "outputs": [],
     "prompt_number": 11
    },
    {
     "cell_type": "code",
     "collapsed": false,
     "input": [
      "b=aifc.open(filenames[channel],\"w\")\n",
      "b.setnchannels(1)\n",
      "b.setsampwidth(a.getsampwidth())\n",
      "b.setframerate(a.getframerate())\n",
      "packed_channel = struct.pack(str(len(unpacked_channel))+'h',*unpacked_channel)\n",
      "b.writeframes(packed_channel)\n",
      "b.close()"
     ],
     "language": "python",
     "metadata": {},
     "outputs": [],
     "prompt_number": 12
    },
    {
     "cell_type": "code",
     "collapsed": false,
     "input": [
      "db = lite.connect('genImpro.db')\n",
      "c = db.cursor() \n",
      "pp = pprint.PrettyPrinter(indent=4)"
     ],
     "language": "python",
     "metadata": {},
     "outputs": [],
     "prompt_number": 17
    },
    {
     "cell_type": "code",
     "collapsed": false,
     "input": [
      "c.execute(\"select id,name,instrument from players\")\n",
      "players = c.fetchall()\n",
      "\n",
      "pp.pprint(players)"
     ],
     "language": "python",
     "metadata": {},
     "outputs": [
      {
       "output_type": "stream",
       "stream": "stdout",
       "text": [
        "[   (1, u'Marius Werner', u'snaredrum'),\n",
        "    (2, u'Felix Bratfisch', u'snaredrum'),\n",
        "    (3, u'Felix Uttenreuter', u'snaredrum'),\n",
        "    (4, u'Sarah Rempe', u'snaredrum'),\n",
        "    (5, u'Tobias Birke', u'snaredrum'),\n",
        "    (6, u'Martin Weigert\\n\\n', u'recorder'),\n",
        "    (7, u'Caroline Hausen', u'recorder'),\n",
        "    (8, u'Johanna Steinborn', u'recorder')]\n"
       ]
      }
     ],
     "prompt_number": 18
    },
    {
     "cell_type": "code",
     "collapsed": false,
     "input": [
      "def importAudio(audiofile,sessionID):\n",
      "    \n",
      "    if not (audiofile.lower().endswith(\"aiff\") | audiofile.lower().endswith(\"aif\")):\n",
      "        raise Exception(\"Sorry, wrong fileformat\")\n",
      "    \n",
      "    print \"audiofile %s\" % (audiofile)\n",
      "    \n",
      "    a=aifc.open(audiofile,\"r\")\n",
      "    data = a.readframes(a.getnframes())\n",
      "    num_samples = a.getnframes() * a.getnchannels()\n",
      "    \n",
      "    if a.getsampwidth() == 1:\n",
      "        unpacked_samples = struct.unpack(str(num_samples)+'b', data)\n",
      "        unpacked_samples = [x * 256 for x in unpacked_samples]\n",
      "    elif a.getsampwidth() == 2:\n",
      "        unpacked_samples = struct.unpack(str(num_samples)+'h', data)\n",
      "    else:\n",
      "        raise Exception(\"Sorry, wrong samplewidth\")\n",
      "\n",
      "    channel=0\n",
      "    \n",
      "    sqlcommand = \"INSERT INTO recordings ('sessionID','key') VALUES (%i,'%s');\" % (sessionID,audiofile)\n",
      "    #print sqlcommand\n",
      "    c.execute(sqlcommand)\n",
      "    db.commit()\n",
      "    \n",
      "    recordingID = c.lastrowid \n",
      "    \n",
      "    print \"Recording \" + str(recordingID) + \" in session \" + str(sessionID)\n",
      "    \n",
      "    for channel in range(0,a.getnchannels()):\n",
      "        unpacked_channel = [unpacked_samples[i] for i in range(channel, num_samples, 2)]\n",
      "        filename = str(sessionID) +  \"/\" + str(uuid.uuid4()) + \".aiff\"\n",
      "        b=aifc.open(filename,\"w\")\n",
      "        b.setnchannels(1)\n",
      "        b.setsampwidth(a.getsampwidth())\n",
      "        b.setframerate(a.getframerate())\n",
      "        packed_channel = struct.pack(str(len(unpacked_channel))+'h',*unpacked_channel)\n",
      "        b.writeframes(packed_channel)\n",
      "        b.close()\n",
      "        \n",
      "        playerID = raw_input(\"PlayerID for channel \" + str(channel) + \":\")\n",
      "        playerID=int(playerID)\n",
      "        \n",
      "        if (any(player[0] == playerID for player in players)):\n",
      "            sqlcommand = \"INSERT INTO tracks ('recordingID','playerID','audiofile') VALUES (%i,'%i','%s');\" % (recordingID,playerID,filename)\n",
      "            #print sqlcommand\n",
      "            c.execute(sqlcommand)\n",
      "            db.commit()\n",
      "            player = [player for player in players if player[0] == playerID][0]\n",
      "            print player\n",
      "            print \"    Channel \" + str(channel) + \": \" + player[1] + \" on \" + player[2]\n",
      "        else:\n",
      "            raise Exception(\"Sorry, wrong player ID\")\n",
      "        \n",
      "    a.close()\n"
     ],
     "language": "python",
     "metadata": {},
     "outputs": [],
     "prompt_number": 28
    },
    {
     "cell_type": "code",
     "collapsed": false,
     "input": [
      "importAudio(\"import/0001 A C-1.aiff\",2)"
     ],
     "language": "python",
     "metadata": {},
     "outputs": [
      {
       "output_type": "stream",
       "stream": "stdout",
       "text": [
        "audiofile import/0001 A C-1.aiff\n",
        "INSERT INTO recordings ('sessionID','key') VALUES (2,'import/0001 A C-1.aiff');"
       ]
      },
      {
       "output_type": "stream",
       "stream": "stdout",
       "text": [
        "\n",
        "Recording 100 in session 2\n"
       ]
      },
      {
       "name": "stdout",
       "output_type": "stream",
       "stream": "stdout",
       "text": [
        "PlayerID for channel 0:3\n"
       ]
      },
      {
       "output_type": "stream",
       "stream": "stdout",
       "text": [
        "INSERT INTO tracks ('recordingID','playerID','audiofile') VALUES (100,'3','2/768a2cac-6b22-4027-ad44-5731398e79ab.aiff');\n",
        "(3, u'Felix Uttenreuter', u'snaredrum')\n",
        "    Channel 0: Felix Uttenreuter on snaredrum\n"
       ]
      },
      {
       "name": "stdout",
       "output_type": "stream",
       "stream": "stdout",
       "text": [
        "PlayerID for channel 1:4\n"
       ]
      },
      {
       "output_type": "stream",
       "stream": "stdout",
       "text": [
        "INSERT INTO tracks ('recordingID','playerID','audiofile') VALUES (100,'4','2/64c89957-b76e-49ec-acbc-c1fbf300fc27.aiff');\n",
        "(4, u'Sarah Rempe', u'snaredrum')\n",
        "    Channel 1: Sarah Rempe on snaredrum\n"
       ]
      }
     ],
     "prompt_number": 29
    }
   ],
   "metadata": {}
  }
 ]
}