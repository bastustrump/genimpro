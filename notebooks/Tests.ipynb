{
 "cells": [
  {
   "cell_type": "code",
   "execution_count": 1,
   "metadata": {
    "collapsed": false
   },
   "outputs": [
    {
     "name": "stdout",
     "output_type": "stream",
     "text": [
      "/Users/bastus/Desktop/Forschungsprojekt/genimpro\n"
     ]
    }
   ],
   "source": [
    "cd /Users/bastus/Desktop/Forschungsprojekt/genimpro"
   ]
  },
  {
   "cell_type": "code",
   "execution_count": 2,
   "metadata": {
    "collapsed": false
   },
   "outputs": [
    {
     "name": "stderr",
     "output_type": "stream",
     "text": [
      "/Library/Python/2.7/site-packages/matplotlib/font_manager.py:273: UserWarning: Matplotlib is building the font cache using fc-list. This may take a moment.\n",
      "  warnings.warn('Matplotlib is building the font cache using fc-list. This may take a moment.')\n"
     ]
    },
    {
     "name": "stdout",
     "output_type": "stream",
     "text": [
      "Populating the interactive namespace from numpy and matplotlib\n"
     ]
    }
   ],
   "source": [
    "\n",
    "%run importwrapper.py\n",
    "%pylab inline"
   ]
  },
  {
   "cell_type": "code",
   "execution_count": 3,
   "metadata": {
    "collapsed": false
   },
   "outputs": [
    {
     "data": {
      "text/plain": [
       "([1, 6, 2, 8, 1, 13],\n",
       " [['Centroid', 'Inharmonicity', 'SpectralRoughness', 'ZeroCrossingRate'],\n",
       "  ['Density',\n",
       "   'RhythmicComplexity',\n",
       "   'RhythmicFlatness',\n",
       "   'RhythmicStability',\n",
       "   'RhythmicTempo',\n",
       "   'RhythmicUniformity'],\n",
       "  ['DynamicComplexity',\n",
       "   'DynamicGlobalLoudness',\n",
       "   'DynamicKurtosis',\n",
       "   'DynamicSkewness',\n",
       "   'DynamicSpread'],\n",
       "  ['MelodicComplexity', 'MelodicSpread', 'MelodicRoot'],\n",
       "  ['HarmonicSpread',\n",
       "   'HPCP 0',\n",
       "   'HPCP 1',\n",
       "   'HPCP 2',\n",
       "   'HPCP 3',\n",
       "   'HPCP 4',\n",
       "   'HPCP 5',\n",
       "   'HPCP 6',\n",
       "   'HPCP 7',\n",
       "   'HPCP 8',\n",
       "   'HPCP 9',\n",
       "   'HPCP 10',\n",
       "   'HPCP 11'],\n",
       "  ['Interval 0',\n",
       "   'Interval 1',\n",
       "   'Interval 2',\n",
       "   'Interval 3',\n",
       "   'Interval 4',\n",
       "   'Interval 5',\n",
       "   'Interval 6',\n",
       "   'Interval 7',\n",
       "   'Interval 8',\n",
       "   'Interval 9',\n",
       "   'Interval 10',\n",
       "   'Interval 11']])"
      ]
     },
     "execution_count": 3,
     "metadata": {},
     "output_type": "execute_result"
    }
   ],
   "source": [
    "genimpro.recordings.getGenome()"
   ]
  },
  {
   "cell_type": "code",
   "execution_count": null,
   "metadata": {
    "collapsed": true
   },
   "outputs": [],
   "source": []
  }
 ],
 "metadata": {
  "kernelspec": {
   "display_name": "Python 2",
   "language": "python",
   "name": "python2"
  },
  "language_info": {
   "codemirror_mode": {
    "name": "ipython",
    "version": 2
   },
   "file_extension": ".py",
   "mimetype": "text/x-python",
   "name": "python",
   "nbconvert_exporter": "python",
   "pygments_lexer": "ipython2",
   "version": "2.7.12"
  }
 },
 "nbformat": 4,
 "nbformat_minor": 1
}
