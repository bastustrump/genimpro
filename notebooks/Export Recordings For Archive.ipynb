{
 "cells": [
  {
   "cell_type": "code",
   "execution_count": 2,
   "metadata": {
    "collapsed": false
   },
   "outputs": [],
   "source": [
    "import pydub\n",
    "import cStringIO\n",
    "import StringIO\n",
    "import base64\n",
    "import os"
   ]
  },
  {
   "cell_type": "code",
   "execution_count": 3,
   "metadata": {
    "collapsed": false
   },
   "outputs": [
    {
     "name": "stdout",
     "output_type": "stream",
     "text": [
      "/Users/bastus/Desktop/Forschungsprojekt/genimpro\n"
     ]
    }
   ],
   "source": [
    "cd /Users/bastus/Desktop/Forschungsprojekt/genimpro"
   ]
  },
  {
   "cell_type": "code",
   "execution_count": 4,
   "metadata": {
    "collapsed": false
   },
   "outputs": [
    {
     "name": "stderr",
     "output_type": "stream",
     "text": [
      "/Library/Python/2.7/site-packages/matplotlib/font_manager.py:273: UserWarning: Matplotlib is building the font cache using fc-list. This may take a moment.\n",
      "  warnings.warn('Matplotlib is building the font cache using fc-list. This may take a moment.')\n"
     ]
    },
    {
     "name": "stdout",
     "output_type": "stream",
     "text": [
      "Populating the interactive namespace from numpy and matplotlib\n"
     ]
    }
   ],
   "source": [
    "%run importwrapper.py\n",
    "%pylab inline"
   ]
  },
  {
   "cell_type": "code",
   "execution_count": 5,
   "metadata": {
    "collapsed": false,
    "slideshow": {
     "slide_type": "slide"
    }
   },
   "outputs": [],
   "source": [
    "recordings = genimpro.recordings.listRecodings()"
   ]
  },
  {
   "cell_type": "code",
   "execution_count": 6,
   "metadata": {
    "collapsed": false
   },
   "outputs": [],
   "source": [
    "import subprocess"
   ]
  },
  {
   "cell_type": "code",
   "execution_count": null,
   "metadata": {
    "collapsed": false
   },
   "outputs": [
    {
     "name": "stdout",
     "output_type": "stream",
     "text": [
      "144.058\n",
      "226.778\n",
      "402.12\n",
      "144.135\n",
      "240.718\n",
      "368.473\n",
      "143.508\n",
      "308.54\n",
      "364.95\n",
      "117.54\n",
      "280.93\n",
      "535.263\n",
      "242.585\n",
      "244.835\n",
      "506.305\n",
      "157.295\n",
      "212.643\n",
      "428.763\n",
      "195.033\n",
      "381.118\n",
      "707.288\n",
      "203.393\n",
      "207.968\n",
      "383.173\n",
      "154.45\n",
      "271.138\n",
      "383.04\n",
      "241.323\n",
      "260.36\n",
      "551.465\n",
      "367.552\n",
      "188.64\n",
      "122.605\n",
      "321.675\n",
      "201.517\n",
      "138.413\n",
      "319.328\n",
      "358.227\n",
      "353.243\n",
      "484.584\n",
      "153.003\n",
      "65.515\n",
      "80.491\n",
      "63.008\n",
      "54.539\n",
      "23.669\n",
      "58.048\n",
      "99.968\n",
      "48.757\n",
      "44.096\n",
      "112.139\n",
      "116.503\n",
      "70.656\n",
      "10.453\n",
      "58.667\n",
      "31.296\n",
      "97.728\n",
      "37.824\n",
      "26.549\n",
      "16.885\n",
      "98.539\n",
      "36.263\n",
      "37.856\n",
      "49.739\n",
      "40.373\n",
      "75.456\n",
      "23.115\n",
      "61.547\n",
      "57.323\n",
      "83.573\n",
      "59.179\n",
      "58.517\n",
      "58.699\n",
      "42.773\n",
      "48.693\n",
      "98.485\n",
      "70.635\n",
      "54.56\n",
      "126.549\n",
      "23.029\n",
      "75.381\n",
      "40.352\n",
      "26.517\n",
      "37.781\n",
      "49.763\n",
      "61.525\n",
      "34.667\n",
      "36.577\n",
      "12.128\n",
      "75.909\n",
      "31.328\n",
      "69.237\n",
      "80.219\n",
      "97.771\n",
      "112.053\n",
      "78.741\n",
      "57.461\n",
      "124.491\n",
      "16.832\n",
      "30.56\n",
      "25.515\n",
      "86.464\n",
      "59.264\n",
      "39.445\n",
      "52.555\n",
      "34.645\n",
      "44.661\n",
      "47.744\n",
      "119.296\n",
      "44.064\n",
      "97.749\n",
      "63.04\n",
      "61.589\n",
      "34.827\n",
      "67.381\n",
      "112.085\n",
      "13.525\n",
      "57.483\n",
      "97.483\n",
      "124.512\n",
      "23.084\n",
      "25.504\n",
      "75.403\n",
      "80.24\n",
      "30.667\n",
      "62.688\n",
      "80.523\n",
      "34.485\n",
      "40.373\n",
      "83.492\n",
      "53.397\n",
      "42.795\n",
      "53.44\n",
      "97.557\n",
      "62.72\n",
      "12.149\n",
      "26.581\n",
      "86.443\n",
      "23.691\n",
      "37.899\n",
      "119.264\n",
      "31.317\n",
      "34.699\n",
      "69.216\n",
      "65.493\n",
      "57.248\n"
     ]
    }
   ],
   "source": [
    "for recordingID in recordings:\n",
    "    recording = genimpro.recordings.getRecordingDetails(recordingID)\n",
    "    filename = recording[4][0][2]\n",
    "    aiffAudio = pydub.AudioSegment.from_file(filename,\"aiff\")\n",
    "    print len(aiffAudio)/1000.0"
   ]
  },
  {
   "cell_type": "markdown",
   "metadata": {},
   "source": [
    "#### Convert all recordings to MP3"
   ]
  },
  {
   "cell_type": "code",
   "execution_count": 19,
   "metadata": {
    "collapsed": false
   },
   "outputs": [],
   "source": [
    "def archiveRecording(recordingID):\n",
    "    recording = genimpro.recordings.getRecordingDetails(recordingID)\n",
    "    \n",
    "    exportPath = \"soundcell-editor/peaks.js/files/\" #\"archive/\"\n",
    "    \n",
    "    listenFilename = exportPath + str(recordingID) + \".mp3\"\n",
    "    \n",
    "    tracksAudio=[]\n",
    "    for i,track in enumerate(recording[4]):\n",
    "        filename = track[2]\n",
    "        \n",
    "        #mp3filename = os.path.splitext(filename)[0] + \".mp3\"\n",
    "        aiffAudio = pydub.AudioSegment.from_file(filename,\"aiff\")\n",
    "        aiffAudio = aiffAudio + 24\n",
    "        #aiffAudio.export(mp3filename, format=\"mp3\")\n",
    "        \n",
    "        aiffAudio.export(exportPath + str(recordingID) + \"-\" + str(i) + \".mp3\",\"mp3\")\n",
    "        subprocess.call(\"/usr/local/bin/audiowaveform -i \" + exportPath + str(recordingID) + \"-\" + str(i) + \".mp3\" + \" -o \" + exportPath + str(recordingID) + \"-\" + str(i) + \".dat -b 8 -z 128\",shell=True)\n",
    "        subprocess.call(\"/usr/local/bin/audiowaveform -i \" + exportPath + str(recordingID) + \"-\" + str(i) + \".mp3\" + \" -o \" + exportPath + str(recordingID) + \"-\" + str(i) + \".json -b 8 -z 128\",shell=True)\n",
    "        \n",
    "        \n",
    "        #tracksAudio.append(aiffAudio)\n",
    "    return   \n",
    "    left = tracksAudio[0].pan(-1.0)\n",
    "    right = tracksAudio[1].pan(1.0)\n",
    "    \n",
    "    left = left\n",
    "    right = right\n",
    "    \n",
    "    combined = left.overlay(right)\n",
    "\n",
    "    combined.export(listenFilename, format='mp3')"
   ]
  },
  {
   "cell_type": "code",
   "execution_count": 20,
   "metadata": {
    "collapsed": false
   },
   "outputs": [],
   "source": [
    "archiveRecording(10)"
   ]
  },
  {
   "cell_type": "code",
   "execution_count": null,
   "metadata": {
    "collapsed": true
   },
   "outputs": [],
   "source": [
    "for recordingID in recordings:\n",
    "    archiveRecording(recodringID)"
   ]
  },
  {
   "cell_type": "code",
   "execution_count": 70,
   "metadata": {
    "collapsed": false
   },
   "outputs": [],
   "source": [
    "for recordingID in recordings:\n",
    "    recording = genimpro.recordings.getRecordingDetails(recordingID)\n",
    "    \n",
    "    listenFilename = \"archive/\" + str(recordingID) + \".wav\"\n",
    "    \n",
    "    tracksAudio=[]\n",
    "    for track in recording[4]:\n",
    "        filename = track[2]\n",
    "\n",
    "        #mp3filename = os.path.splitext(filename)[0] + \".mp3\"\n",
    "        \n",
    "        aiffAudio = pydub.AudioSegment.from_file(filename,\"aiff\")\n",
    "        #aiffAudio.export(mp3filename, format=\"mp3\")\n",
    "        tracksAudio.append(aiffAudio)\n",
    "        \n",
    "    left = tracksAudio[0].pan(-1.0)\n",
    "    right = tracksAudio[1].pan(1.0)\n",
    "    \n",
    "    left = left\n",
    "    right = right\n",
    "    \n",
    "    combined = left.overlay(right)\n",
    "\n",
    "    combined.export(listenFilename, format='wav')\n",
    "        \n",
    "        "
   ]
  }
 ],
 "metadata": {
  "kernelspec": {
   "display_name": "Python 2",
   "language": "python",
   "name": "python2"
  },
  "language_info": {
   "codemirror_mode": {
    "name": "ipython",
    "version": 2
   },
   "file_extension": ".py",
   "mimetype": "text/x-python",
   "name": "python",
   "nbconvert_exporter": "python",
   "pygments_lexer": "ipython2",
   "version": "2.7.12"
  }
 },
 "nbformat": 4,
 "nbformat_minor": 0
}
