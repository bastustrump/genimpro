{
 "metadata": {
  "name": "",
  "signature": "sha256:f1397376ef0e6566ea05056f82157a97a5a0c89a96c415692497f5658dad5633"
 },
 "nbformat": 3,
 "nbformat_minor": 0,
 "worksheets": [
  {
   "cells": [
    {
     "cell_type": "markdown",
     "metadata": {},
     "source": [
      "<h1 align=\"center\">Gruppierung von Klangereignissen zu Klangfolgen</h1>"
     ]
    },
    {
     "cell_type": "markdown",
     "metadata": {},
     "source": [
      "<br><h2 align=\"center\">3. Kontinuierliche Entwicklung</h2>"
     ]
    },
    {
     "cell_type": "code",
     "collapsed": false,
     "input": [
      "%cd /Users/bastus/Desktop/Forschungsprojekt/genimpro"
     ],
     "language": "python",
     "metadata": {},
     "outputs": [
      {
       "output_type": "stream",
       "stream": "stdout",
       "text": [
        "/Users/bastus/Desktop/Forschungsprojekt/genimpro\n"
       ]
      }
     ],
     "prompt_number": 2
    },
    {
     "cell_type": "code",
     "collapsed": false,
     "input": [
      "%run importwrapper.py\n",
      "%pylab inline"
     ],
     "language": "python",
     "metadata": {},
     "outputs": [
      {
       "output_type": "stream",
       "stream": "stdout",
       "text": [
        "Populating the interactive namespace from numpy and matplotlib\n"
       ]
      }
     ],
     "prompt_number": 3
    },
    {
     "cell_type": "code",
     "collapsed": false,
     "input": [
      "#Vorbereitungen zur Analyse\n",
      "analysedTrack = genimpro.recordings.getRecordingDetails(93)[4][0]\n",
      "sonicevents = genimpro.analyseTrack(analysedTrack)\n",
      "audio = genimpro.recordings.getAudioForTrack(analysedTrack)"
     ],
     "language": "python",
     "metadata": {},
     "outputs": [
      {
       "output_type": "stream",
       "stream": "stdout",
       "text": [
        "    Marius Werner (snaredrum): 1/f199ef77-778a-4fa5-9326-f377388687a8.aiff\n"
       ]
      }
     ],
     "prompt_number": 4
    },
    {
     "cell_type": "code",
     "collapsed": false,
     "input": [],
     "language": "python",
     "metadata": {},
     "outputs": []
    }
   ],
   "metadata": {}
  }
 ]
}