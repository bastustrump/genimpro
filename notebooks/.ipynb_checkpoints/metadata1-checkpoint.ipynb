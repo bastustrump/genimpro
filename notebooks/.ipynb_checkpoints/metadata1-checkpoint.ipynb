{
 "metadata": {
  "name": "",
  "signature": "sha256:6f70d55e83d3cfda385bae218725a137a43d2c1eb7671b72e8e1116d24c3136d"
 },
 "nbformat": 3,
 "nbformat_minor": 0,
 "worksheets": [
  {
   "cells": [
    {
     "cell_type": "markdown",
     "metadata": {},
     "source": [
      "<h1 align=\"center\">Metadaten verwalten</h1><br>"
     ]
    },
    {
     "cell_type": "code",
     "collapsed": false,
     "input": [
      "cd /Users/bastus/Desktop/Forschungsprojekt/genimpro"
     ],
     "language": "python",
     "metadata": {},
     "outputs": [
      {
       "output_type": "stream",
       "stream": "stdout",
       "text": [
        "/Users/bastus/Desktop/Forschungsprojekt/genimpro\n"
       ]
      }
     ],
     "prompt_number": 1
    },
    {
     "cell_type": "code",
     "collapsed": false,
     "input": [
      "%run importwrapper.py\n",
      "%pylab inline"
     ],
     "language": "python",
     "metadata": {},
     "outputs": [
      {
       "output_type": "stream",
       "stream": "stdout",
       "text": [
        "Populating the interactive namespace from numpy and matplotlib\n"
       ]
      }
     ],
     "prompt_number": 2
    },
    {
     "cell_type": "code",
     "collapsed": false,
     "input": [
      "#Vorbereitungen zur Analyse\n",
      "analysedTrack = genimpro.recordings.getRecordingDetails(93)[4][0]\n",
      "sonicevents = genimpro.soniceventsForTrack(analysedTrack)\n",
      "audio = genimpro.recordings.getAudioForTrack(analysedTrack)"
     ],
     "language": "python",
     "metadata": {},
     "outputs": [
      {
       "output_type": "stream",
       "stream": "stdout",
       "text": [
        "    Marius Werner (snaredrum): 1/f199ef77-778a-4fa5-9326-f377388687a8.aiff\n"
       ]
      }
     ],
     "prompt_number": 3
    },
    {
     "cell_type": "code",
     "collapsed": false,
     "input": [
      "from genimpro import grouping"
     ],
     "language": "python",
     "metadata": {},
     "outputs": [],
     "prompt_number": 4
    },
    {
     "cell_type": "code",
     "collapsed": false,
     "input": [
      "sequences = grouping.sequencesForSonicevents(sonicevents)"
     ],
     "language": "python",
     "metadata": {},
     "outputs": [
      {
       "output_type": "stream",
       "stream": "stderr",
       "text": [
        "/System/Library/Frameworks/Python.framework/Versions/2.7/Extras/lib/python/scipy/ndimage/interpolation.py:532: UserWarning: From scipy 0.13.0, the output shape of zoom() is calculated with round() instead of int() - for these inputs the size of the returned array has changed.\n",
        "  \"the returned array has changed.\", UserWarning)\n"
       ]
      }
     ],
     "prompt_number": 5
    },
    {
     "cell_type": "markdown",
     "metadata": {},
     "source": [
      "*Sonicevents* in die Tabelle *tracks* der Datenbank schreiben"
     ]
    },
    {
     "cell_type": "code",
     "collapsed": false,
     "input": [
      "import sqlite3 as lite\n",
      "import json\n",
      "\n",
      "db = lite.connect('genImpro.db')\n",
      "c = db.cursor() "
     ],
     "language": "python",
     "metadata": {},
     "outputs": [],
     "prompt_number": 6
    },
    {
     "cell_type": "code",
     "collapsed": false,
     "input": [
      "def updateSoniceventsForTrack(track,sonicevents):\n",
      "    data = json.dumps(sonicevents)\n",
      "    \n",
      "    sqlcommand = \"UPDATE tracks SET sonicevents=%s where ID=%i\" % (repr(data),track[3])\n",
      "    c.execute(sqlcommand)\n",
      "    db.commit()\n",
      "    \n",
      "    print \"Updated %i sonicevents for track %i\" % (len(sonicevents),track[3])"
     ],
     "language": "python",
     "metadata": {},
     "outputs": [],
     "prompt_number": 7
    },
    {
     "cell_type": "code",
     "collapsed": false,
     "input": [
      "updateSoniceventsForTrack(analysedTrack,sonicevents)"
     ],
     "language": "python",
     "metadata": {},
     "outputs": [
      {
       "output_type": "stream",
       "stream": "stdout",
       "text": [
        "Updated 495 sonicevents for track 1\n"
       ]
      }
     ],
     "prompt_number": 8
    },
    {
     "cell_type": "markdown",
     "metadata": {},
     "source": [
      "<br>**Datenbank-Struktur**"
     ]
    },
    {
     "cell_type": "code",
     "collapsed": false,
     "input": [
      "c.execute(\"SELECT name FROM sqlite_master WHERE type='table';\")\n",
      "print(c.fetchall())"
     ],
     "language": "python",
     "metadata": {},
     "outputs": [
      {
       "output_type": "stream",
       "stream": "stdout",
       "text": [
        "[(u'sqlite_sequence',), (u'players',), (u'sessions',), (u'recordings',), (u'tracks',), (u'sequences',)]\n"
       ]
      }
     ],
     "prompt_number": 9
    },
    {
     "cell_type": "code",
     "collapsed": false,
     "input": [
      "meta = c.execute(\"PRAGMA table_info('sequences')\")\n",
      "for r in meta:\n",
      "    print r"
     ],
     "language": "python",
     "metadata": {},
     "outputs": [
      {
       "output_type": "stream",
       "stream": "stdout",
       "text": [
        "(0, u'ID', u'INTEGER', 1, None, 1)\n",
        "(1, u'trackID', u'INTEGER', 0, None, 0)\n",
        "(2, u'phenotype', u'TEXT', 0, None, 0)\n",
        "(3, u'genotype', u'TEXT', 0, None, 0)\n",
        "(4, u'start', u'INTEGER', 0, None, 0)\n",
        "(5, u'end', u'INTEGER', 0, None, 0)\n",
        "(6, u'events', u'TEXT', 0, None, 0)\n"
       ]
      }
     ],
     "prompt_number": 10
    },
    {
     "cell_type": "code",
     "collapsed": false,
     "input": [
      "def updateSequencesForTrack(track,sequences,sonicevents):\n",
      "    #clear sequences for track\n",
      "    sqlcommand = \"DELETE FROM sequences where trackID=%i\" % (track[3])\n",
      "    c.execute(sqlcommand)\n",
      "    db.commit()\n",
      "    \n",
      "    for sequence in sequences:\n",
      "        start = sonicevents[sequence[0]][\"start\"]\n",
      "        end = sonicevents[sequence[-1]][\"end\"]\n",
      "        events = json.dumps(sequence)\n",
      "        sqlcommand = \"INSERT INTO sequences (trackID,start,end,events) values (%i,%i,%i,%s)\" % (track[3],start,end,repr(events))\n",
      "        c.execute(sqlcommand)\n",
      "        db.commit()\n",
      "        \n",
      "    print \"Added %i sequences for track %i\" % (len(sequences),track[3])"
     ],
     "language": "python",
     "metadata": {},
     "outputs": [],
     "prompt_number": 11
    },
    {
     "cell_type": "code",
     "collapsed": false,
     "input": [
      "updateSequencesForTrack(analysedTrack,sequences,sonicevents)"
     ],
     "language": "python",
     "metadata": {},
     "outputs": [
      {
       "output_type": "stream",
       "stream": "stdout",
       "text": [
        "Added 97 sequences for track 1\n"
       ]
      }
     ],
     "prompt_number": 12
    },
    {
     "cell_type": "markdown",
     "metadata": {},
     "source": [
      "<br>**Daten auslesen**"
     ]
    },
    {
     "cell_type": "code",
     "collapsed": false,
     "input": [
      "def getSoniceventsForTrack(track):\n",
      "    sqlcommand = \"SELECT sonicevents FROM tracks where ID=%i\" % (track[3])\n",
      "    c.execute(sqlcommand)\n",
      "    data = c.fetchone()\n",
      "\n",
      "    return json.loads(data[0])"
     ],
     "language": "python",
     "metadata": {},
     "outputs": [],
     "prompt_number": 13
    },
    {
     "cell_type": "code",
     "collapsed": false,
     "input": [
      "sonicevents2 = getSoniceventsForTrack(analysedTrack)\n",
      "print len(sonicevents2)"
     ],
     "language": "python",
     "metadata": {},
     "outputs": [
      {
       "output_type": "stream",
       "stream": "stdout",
       "text": [
        "495\n"
       ]
      }
     ],
     "prompt_number": 14
    },
    {
     "cell_type": "code",
     "collapsed": false,
     "input": [
      "def getSequencesForTrack(track):\n",
      "    sqlcommand = \"SELECT events FROM sequences where trackID=%i\" % (track[3])\n",
      "    c.execute(sqlcommand)\n",
      "    data = c.fetchall()\n",
      "\n",
      "    sequences = []\n",
      "    \n",
      "    for sequence in data:\n",
      "        sequences.append(json.loads(sequence[0]))\n",
      "        \n",
      "    return sequences"
     ],
     "language": "python",
     "metadata": {},
     "outputs": [],
     "prompt_number": 15
    },
    {
     "cell_type": "code",
     "collapsed": false,
     "input": [
      "sequences = getSequencesForTrack(analysedTrack)\n",
      "print len(sequences)"
     ],
     "language": "python",
     "metadata": {},
     "outputs": [
      {
       "output_type": "stream",
       "stream": "stdout",
       "text": [
        "97\n"
       ]
      }
     ],
     "prompt_number": 16
    }
   ],
   "metadata": {}
  }
 ]
}