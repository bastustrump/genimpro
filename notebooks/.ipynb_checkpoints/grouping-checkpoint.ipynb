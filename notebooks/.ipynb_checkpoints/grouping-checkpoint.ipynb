{
 "metadata": {
  "name": "",
  "signature": "sha256:8d9f102ce624e98f698e5e56f8745962fd94640343913177182db5eee77e3f82"
 },
 "nbformat": 3,
 "nbformat_minor": 0,
 "worksheets": [
  {
   "cells": [
    {
     "cell_type": "markdown",
     "metadata": {},
     "source": [
      "<h1 align=\"center\">Gruppierung von Klangereignissen zu Klangfolgen</h1>"
     ]
    },
    {
     "cell_type": "markdown",
     "metadata": {},
     "source": [
      "<br><h2 align=\"center\">4. Zusammenfassung</h2>"
     ]
    },
    {
     "cell_type": "code",
     "collapsed": false,
     "input": [
      "%cd /Users/bastus/Desktop/Forschungsprojekt/genimpro"
     ],
     "language": "python",
     "metadata": {},
     "outputs": [
      {
       "output_type": "stream",
       "stream": "stdout",
       "text": [
        "/Users/bastus/Desktop/Forschungsprojekt/genimpro\n"
       ]
      }
     ],
     "prompt_number": 1
    },
    {
     "cell_type": "code",
     "collapsed": false,
     "input": [
      "%run importwrapper.py\n",
      "%pylab inline"
     ],
     "language": "python",
     "metadata": {},
     "outputs": [
      {
       "output_type": "stream",
       "stream": "stdout",
       "text": [
        "Populating the interactive namespace from numpy and matplotlib\n"
       ]
      }
     ],
     "prompt_number": 2
    },
    {
     "cell_type": "code",
     "collapsed": false,
     "input": [
      "#Vorbereitungen zur Analyse\n",
      "analysedTrack = genimpro.recordings.getRecordingDetails(93)[4][0]\n",
      "sonicevents = genimpro.analyseTrack(analysedTrack)\n",
      "audio = genimpro.recordings.getAudioForTrack(analysedTrack)"
     ],
     "language": "python",
     "metadata": {},
     "outputs": [],
     "prompt_number": 3
    },
    {
     "cell_type": "markdown",
     "metadata": {},
     "source": [
      "<br>Die Indikatoren zur Gruppierung werden nun zusammengefasst und untereinander gewichtet."
     ]
    },
    {
     "cell_type": "code",
     "collapsed": false,
     "input": [
      "from genimpro import grouping\n",
      "def plotGroupsWithPlayer(events,audio,combine=0):\n",
      "\n",
      "    samples = audio[events[0][\"start\"]:events[len(events)-1][\"end\"]]\n",
      "    startsample = events[0][\"start\"]\n",
      "    \n",
      "    t_audio = np.linspace(0, len(samples)/samplerate, num=len(samples))\n",
      "    \n",
      "    #create different colors for feature distinction\n",
      "    colors = cm.rainbow(np.linspace(0, 1, 8))\n",
      "    colorindex = 0\n",
      "    \n",
      "    fig = plt.figure(figsize=(70, 40), dpi=600)\n",
      "    ax1 = fig.add_subplot(221)\n",
      "    plt.xlabel('time (seconds)')\n",
      "    ax1.plot(t_audio,samples,'0.5',label=\"Audio Waveform\",linewidth=0.9)\n",
      "    trans = transforms.blended_transform_factory(ax1.transData, ax1.transAxes)\n",
      "            \n",
      "    sequences = {}\n",
      "    \n",
      "    sequences[\"proximity\"] = grouping.groupEventsByProximity(events) \n",
      "    sequences[\"similarity\"] = grouping.groupEventsBySimilarity(events,similarityMatrix,t=0.9) \n",
      "    sequences[\"continuity\"] = grouping.groupEventsByContinuity(events,t=4) \n",
      "    \n",
      "    for i in range (0,len(events)):\n",
      "        markBegin = (events[i][\"start\"]-startsample)/samplerate\n",
      "        markEnd = (events[i][\"start\"]-startsample+events[i][\"features\"][\"effLength\"])/samplerate\n",
      "        eventEnd = (events[i][\"start\"]-startsample + (events[i][\"end\"]-events[i][\"start\"]))/samplerate\n",
      "        ax1.axvline(x=markBegin,linewidth=1,color='r',alpha=0.3)\n",
      "        #ax1.text(markBegin+0.3, 0.05,'%i'% (i+1),bbox=dict(boxstyle='round', \\\n",
      "        #        facecolor='r', alpha=0.5),fontsize=14,horizontalalignment='left',transform=trans)\n",
      "    \n",
      "    for sequenceMode in sequences:\n",
      "        for n in range(0,len(sequences[sequenceMode])):\n",
      "            sequenceBegin = (events[sequences[sequenceMode][n][0]][\"start\"]-startsample)/samplerate\n",
      "            sequenceEnd = (events[sequences[sequenceMode][n][0]][\"start\"]-startsample + (events[sequences[sequenceMode][n][-1]][\"end\"]-events[sequences[sequenceMode][n][0]][\"start\"]))/samplerate        \n",
      "            ax1.axvspan(sequenceBegin,sequenceEnd, color=colors[3+colorindex], alpha=(((n+1)%2)*0.4+0.2),ymin=colorindex*0.3333,ymax=(colorindex+1)*0.3333)\n",
      "            #ax1.text(sequenceBegin+0.2, 0.9,'%i'% (n+1),bbox=dict(boxstyle='round', \\\n",
      "            #    facecolor=colors[3+colorindex], alpha=0.5),fontsize=14,horizontalalignment='left',transform=trans)       \n",
      "                    \n",
      "        plt.plot(0,0,color=colors[3+colorindex], label=sequenceMode,linewidth=10)\n",
      "        colorindex += 1\n",
      "        \n",
      "    if combine:\n",
      "        combinedSequences = combineGroups(sequences,events)\n",
      "        for n in range(0,len(combinedSequences)):\n",
      "            sequenceBegin = (events[combinedSequences[n][0]][\"start\"]-startsample)/samplerate\n",
      "            sequenceEnd = (events[combinedSequences[n][0]][\"start\"]-startsample + (events[combinedSequences[n][-1]][\"end\"]-events[combinedSequences[n][0]][\"start\"]))/samplerate        \n",
      "            ax1.axvline(x=sequenceEnd,linewidth=3,color=colors[3+colorindex])\n",
      "            #ax1.axvspan(sequenceBegin,sequenceEnd, color=colors[3+colorindex], alpha=(((n+1)%2)*0.4+0.2),ymin=colorindex*0.3333,ymax=(colorindex+1)*0.3333)\n",
      "            #ax1.text(sequenceBegin+0.2, 0.9,'%i'% (n+1),bbox=dict(boxstyle='round', \\\n",
      "            #    facecolor=colors[3+colorindex], alpha=0.5),fontsize=14,horizontalalignment='left',transform=trans)       \n",
      "                    \n",
      "        plt.plot(0,0,color=colors[3+colorindex], label=\"combined end mark\",linewidth=10)\n",
      "        colorindex += 1        \n",
      "        \n",
      "        \n",
      "    plt.legend(loc=4)\n",
      "            \n",
      "    wavPlayer(samples,samplerate)\n",
      "    \n",
      "    show()\n",
      "    IPython.core.display.display(HTML(\"<br>\"))"
     ],
     "language": "python",
     "metadata": {},
     "outputs": [],
     "prompt_number": 4
    },
    {
     "cell_type": "code",
     "collapsed": false,
     "input": [
      "plotGroupsWithPlayer(sonicevents[0:40],audio)"
     ],
     "language": "python",
     "metadata": {},
     "outputs": [
      {
       "ename": "TypeError",
       "evalue": "'NoneType' object has no attribute '__getitem__'",
       "output_type": "pyerr",
       "traceback": [
        "\u001b[0;31m---------------------------------------------------------------------------\u001b[0m\n\u001b[0;31mTypeError\u001b[0m                                 Traceback (most recent call last)",
        "\u001b[0;32m<ipython-input-6-0a38ccd120c0>\u001b[0m in \u001b[0;36m<module>\u001b[0;34m()\u001b[0m\n\u001b[0;32m----> 1\u001b[0;31m \u001b[0mplotGroupsWithPlayer\u001b[0m\u001b[0;34m(\u001b[0m\u001b[0msonicevents\u001b[0m\u001b[0;34m[\u001b[0m\u001b[0;36m0\u001b[0m\u001b[0;34m:\u001b[0m\u001b[0;36m40\u001b[0m\u001b[0;34m]\u001b[0m\u001b[0;34m,\u001b[0m\u001b[0maudio\u001b[0m\u001b[0;34m)\u001b[0m\u001b[0;34m\u001b[0m\u001b[0m\n\u001b[0m",
        "\u001b[0;31mTypeError\u001b[0m: 'NoneType' object has no attribute '__getitem__'"
       ]
      }
     ],
     "prompt_number": 6
    },
    {
     "cell_type": "code",
     "collapsed": false,
     "input": [
      "sonicevents = genimpro.recordings.getSoniceventsForTrack(analysedTrack)"
     ],
     "language": "python",
     "metadata": {},
     "outputs": [],
     "prompt_number": 14
    },
    {
     "cell_type": "code",
     "collapsed": false,
     "input": [
      "similarityMatrix = genimpro.grouping.similarityMatrixP(events)"
     ],
     "language": "python",
     "metadata": {},
     "outputs": [],
     "prompt_number": 19
    },
    {
     "cell_type": "code",
     "collapsed": false,
     "input": [
      "events = sonicevents\n",
      "sequences = {}\n",
      "sequences[\"proximity\"] = grouping.groupEventsByProximity(events) \n",
      "sequences[\"similarity\"] = grouping.groupEventsBySimilarity(events,similarityMatrix,t=0.4) \n",
      "sequences[\"continuity\"] = grouping.groupEventsByContinuity(events,t=3) "
     ],
     "language": "python",
     "metadata": {},
     "outputs": [],
     "prompt_number": 20
    },
    {
     "cell_type": "code",
     "collapsed": false,
     "input": [
      "[sequences[\"continuity\"][i][-1] for i in range(0,len(sequences[\"continuity\"]))]"
     ],
     "language": "python",
     "metadata": {},
     "outputs": [
      {
       "metadata": {},
       "output_type": "pyout",
       "prompt_number": 21,
       "text": [
        "[11,\n",
        " 32,\n",
        " 40,\n",
        " 53,\n",
        " 75,\n",
        " 88,\n",
        " 107,\n",
        " 117,\n",
        " 129,\n",
        " 144,\n",
        " 168,\n",
        " 192,\n",
        " 223,\n",
        " 229,\n",
        " 243,\n",
        " 250,\n",
        " 260,\n",
        " 268,\n",
        " 296,\n",
        " 306,\n",
        " 317,\n",
        " 328,\n",
        " 349,\n",
        " 355,\n",
        " 360,\n",
        " 370,\n",
        " 375,\n",
        " 385,\n",
        " 397,\n",
        " 411,\n",
        " 417,\n",
        " 440,\n",
        " 472,\n",
        " 493]"
       ]
      }
     ],
     "prompt_number": 21
    },
    {
     "cell_type": "code",
     "collapsed": false,
     "input": [
      "def combineGroups(sequences,events):\n",
      "    groupBeginnings = {}\n",
      "    groupEndings = {}\n",
      "    \n",
      "    for sequenceMode in sequences:\n",
      "        groupBeginnings[sequenceMode] = [sequences[sequenceMode][i][0] for i in range(0,len(sequences[sequenceMode]))]\n",
      "        groupEndings[sequenceMode] = [sequences[sequenceMode][i][-1] for i in range(0,len(sequences[sequenceMode]))]\n",
      "        \n",
      "    sequences = []\n",
      "    sequenceHypothesis = []\n",
      "    \n",
      "    for i in range(0,len(events)):\n",
      "        sequenceHypothesis.append(i)\n",
      "        \n",
      "        beginningsCount = 0\n",
      "        for sequenceMode in groupBeginnings:\n",
      "            if i in groupBeginnings[sequenceMode]:\n",
      "                beginningsCount += 1\n",
      "\n",
      "        endingsCount = 0\n",
      "        for sequenceMode in groupBeginnings:\n",
      "            if i in groupEndings[sequenceMode]:\n",
      "                endingsCount += 1   \n",
      "        \n",
      "        if ((endingsCount>1) & (len(sequenceHypothesis)>1)) | (endingsCount>2):\n",
      "            sequences.append(sequenceHypothesis)\n",
      "            sequenceHypothesis = []\n",
      "    \n",
      "    return sequences             "
     ],
     "language": "python",
     "metadata": {},
     "outputs": [],
     "prompt_number": 22
    },
    {
     "cell_type": "code",
     "collapsed": false,
     "input": [
      "plotGroupsWithPlayer(sonicevents[0:70],audio,combine=1)"
     ],
     "language": "python",
     "metadata": {},
     "outputs": [
      {
       "ename": "TypeError",
       "evalue": "groupEventsBySimilarity() takes at least 2 arguments (2 given)",
       "output_type": "pyerr",
       "traceback": [
        "\u001b[0;31m---------------------------------------------------------------------------\u001b[0m\n\u001b[0;31mTypeError\u001b[0m                                 Traceback (most recent call last)",
        "\u001b[0;32m<ipython-input-23-a72777597528>\u001b[0m in \u001b[0;36m<module>\u001b[0;34m()\u001b[0m\n\u001b[0;32m----> 1\u001b[0;31m \u001b[0mplotGroupsWithPlayer\u001b[0m\u001b[0;34m(\u001b[0m\u001b[0msonicevents\u001b[0m\u001b[0;34m[\u001b[0m\u001b[0;36m0\u001b[0m\u001b[0;34m:\u001b[0m\u001b[0;36m70\u001b[0m\u001b[0;34m]\u001b[0m\u001b[0;34m,\u001b[0m\u001b[0maudio\u001b[0m\u001b[0;34m,\u001b[0m\u001b[0mcombine\u001b[0m\u001b[0;34m=\u001b[0m\u001b[0;36m1\u001b[0m\u001b[0;34m)\u001b[0m\u001b[0;34m\u001b[0m\u001b[0m\n\u001b[0m",
        "\u001b[0;32m<ipython-input-4-d5732a1644a8>\u001b[0m in \u001b[0;36mplotGroupsWithPlayer\u001b[0;34m(events, audio, combine)\u001b[0m\n\u001b[1;32m     20\u001b[0m \u001b[0;34m\u001b[0m\u001b[0m\n\u001b[1;32m     21\u001b[0m     \u001b[0msequences\u001b[0m\u001b[0;34m[\u001b[0m\u001b[0;34m\"proximity\"\u001b[0m\u001b[0;34m]\u001b[0m \u001b[0;34m=\u001b[0m \u001b[0mgrouping\u001b[0m\u001b[0;34m.\u001b[0m\u001b[0mgroupEventsByProximity\u001b[0m\u001b[0;34m(\u001b[0m\u001b[0mevents\u001b[0m\u001b[0;34m)\u001b[0m\u001b[0;34m\u001b[0m\u001b[0m\n\u001b[0;32m---> 22\u001b[0;31m     \u001b[0msequences\u001b[0m\u001b[0;34m[\u001b[0m\u001b[0;34m\"similarity\"\u001b[0m\u001b[0;34m]\u001b[0m \u001b[0;34m=\u001b[0m \u001b[0mgrouping\u001b[0m\u001b[0;34m.\u001b[0m\u001b[0mgroupEventsBySimilarity\u001b[0m\u001b[0;34m(\u001b[0m\u001b[0mevents\u001b[0m\u001b[0;34m,\u001b[0m\u001b[0mt\u001b[0m\u001b[0;34m=\u001b[0m\u001b[0;36m0.9\u001b[0m\u001b[0;34m)\u001b[0m\u001b[0;34m\u001b[0m\u001b[0m\n\u001b[0m\u001b[1;32m     23\u001b[0m     \u001b[0msequences\u001b[0m\u001b[0;34m[\u001b[0m\u001b[0;34m\"continuity\"\u001b[0m\u001b[0;34m]\u001b[0m \u001b[0;34m=\u001b[0m \u001b[0mgrouping\u001b[0m\u001b[0;34m.\u001b[0m\u001b[0mgroupEventsByContinuity\u001b[0m\u001b[0;34m(\u001b[0m\u001b[0mevents\u001b[0m\u001b[0;34m,\u001b[0m\u001b[0mt\u001b[0m\u001b[0;34m=\u001b[0m\u001b[0;36m4\u001b[0m\u001b[0;34m)\u001b[0m\u001b[0;34m\u001b[0m\u001b[0m\n\u001b[1;32m     24\u001b[0m \u001b[0;34m\u001b[0m\u001b[0m\n",
        "\u001b[0;31mTypeError\u001b[0m: groupEventsBySimilarity() takes at least 2 arguments (2 given)"
       ]
      },
      {
       "metadata": {},
       "output_type": "display_data",
       "png": "[encoded data removed]",
       "text": [
        "<matplotlib.figure.Figure at 0x10ce4d490>"
       ]
      }
     ],
     "prompt_number": 23
    },
    {
     "cell_type": "markdown",
     "metadata": {},
     "source": [
      "\u00dcbersicht des gesamten Klangbeispiels:"
     ]
    },
    {
     "cell_type": "code",
     "collapsed": false,
     "input": [
      "n = 50\n",
      "for i in range(0,len(sonicevents),n):\n",
      "    if (len(sonicevents)-i)<n: \n",
      "        n=(len(sonicevents)-i)\n",
      "\n",
      "    plotGroupsWithPlayer(sonicevents[i:i+n],audio,combine=1)\n"
     ],
     "language": "python",
     "metadata": {},
     "outputs": []
    }
   ],
   "metadata": {}
  }
 ]
}