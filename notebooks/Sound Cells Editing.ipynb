{
 "cells": [
  {
   "cell_type": "code",
   "execution_count": 1,
   "metadata": {
    "collapsed": false
   },
   "outputs": [
    {
     "name": "stdout",
     "output_type": "stream",
     "text": [
      "/Users/bastus/Desktop/Forschungsprojekt/genimpro\n"
     ]
    }
   ],
   "source": [
    "cd /Users/bastus/Desktop/Forschungsprojekt/genimpro"
   ]
  },
  {
   "cell_type": "code",
   "execution_count": 2,
   "metadata": {
    "collapsed": false
   },
   "outputs": [
    {
     "name": "stderr",
     "output_type": "stream",
     "text": [
      "/Library/Python/2.7/site-packages/matplotlib/font_manager.py:273: UserWarning: Matplotlib is building the font cache using fc-list. This may take a moment.\n",
      "  warnings.warn('Matplotlib is building the font cache using fc-list. This may take a moment.')\n"
     ]
    },
    {
     "name": "stdout",
     "output_type": "stream",
     "text": [
      "Populating the interactive namespace from numpy and matplotlib\n"
     ]
    }
   ],
   "source": [
    "%run importwrapper.py\n",
    "%pylab inline\n",
    "samplerate=44100.0"
   ]
  },
  {
   "cell_type": "code",
   "execution_count": 5,
   "metadata": {
    "collapsed": false
   },
   "outputs": [],
   "source": [
    "import json\n",
    "def updateEditedCellsForRecording(recordingID):\n",
    "    track1 = genimpro.recordings.getRecordingDetails(recordingID,printDetails=1)[4][0]\n",
    "    track2 = genimpro.recordings.getRecordingDetails(recordingID,printDetails=1)[4][1]\n",
    "    \n",
    "    c.execute(\"select soundcells_edited from recordings where ID=%i\" % (recordingID))\n",
    "    values = c.fetchone()\n",
    "    if values==None:\n",
    "        raise Exception(\"No valid ID\")\n",
    "\n",
    "    cells = json.loads(values[0])\n",
    "    editedCells1 = cells[0]\n",
    "    editedCells2 = cells[1]\n",
    "    \n",
    "    if len(editedCells1)>0:\n",
    "        sqlcommand = \"DELETE FROM soundcells where trackID=%i\" % (track1[3])\n",
    "        c.execute(sqlcommand)\n",
    "        db.commit()\n",
    "        \n",
    "        for cell in sorted(editedCells1):\n",
    "            start = int(cell[0])  #sonicevents[sequence[0]][\"start\"]\n",
    "            end = int(cell[1])  #sonicevents[sequence[-1]][\"end\"]\n",
    "            events = \"\"\n",
    "            sqlcommand = \"INSERT INTO soundcells (trackID,start,end,events) values (%i,%i,%i,%s)\" % (track1[3],start,end,repr(events))\n",
    "            c.execute(sqlcommand)\n",
    "            db.commit()\n",
    "\n",
    "        print \"Added %i cells for track %i\" % (len(editedCells1),track1[3])\n",
    "       \n",
    "    \n",
    "    if len(editedCells2)>0:\n",
    "        sqlcommand = \"DELETE FROM soundcells where trackID=%i\" % (track2[3])\n",
    "        c.execute(sqlcommand)\n",
    "        db.commit()\n",
    "        \n",
    "        for cell in sorted(editedCells2):\n",
    "            start = int(cell[0])  #sonicevents[sequence[0]][\"start\"]\n",
    "            end = int(cell[1]) #sonicevents[sequence[-1]][\"end\"]\n",
    "            events = \"\"\n",
    "            sqlcommand = \"INSERT INTO soundcells (trackID,start,end,events) values (%i,%i,%i,%s)\" % (track2[3],start,end,repr(events))\n",
    "            c.execute(sqlcommand)\n",
    "            db.commit()\n",
    "\n",
    "        print \"Added %i cells for track %i\" % (len(editedCells2),track2[3])        \n",
    "    "
   ]
  },
  {
   "cell_type": "code",
   "execution_count": 8,
   "metadata": {
    "collapsed": false
   },
   "outputs": [
    {
     "name": "stdout",
     "output_type": "stream",
     "text": [
      "256 (../Testreihen/2015-10-17 Blind Date Aufnahmen/7 4 1713.aiff):\n",
      "    Gerhard Schäfer (soprano saxophone): 3/91f65585-ac59-425c-93ee-4f482cf035a8.aiff\n",
      "    Hans-Günter Brodmann (percussion): 3/f40b8b3b-2035-47ed-b8e4-836afdff05c5.aiff\n",
      "256 (../Testreihen/2015-10-17 Blind Date Aufnahmen/7 4 1713.aiff):\n",
      "    Gerhard Schäfer (soprano saxophone): 3/91f65585-ac59-425c-93ee-4f482cf035a8.aiff\n",
      "    Hans-Günter Brodmann (percussion): 3/f40b8b3b-2035-47ed-b8e4-836afdff05c5.aiff\n",
      "Added 26 cells for track 550\n",
      "Added 21 cells for track 551\n"
     ]
    }
   ],
   "source": [
    "import sqlite3 as lite\n",
    "\n",
    "db = lite.connect('genImpro.db')\n",
    "c = db.cursor() \n",
    "updateEditedCellsForRecording(256)"
   ]
  },
  {
   "cell_type": "code",
   "execution_count": 25,
   "metadata": {
    "collapsed": false
   },
   "outputs": [
    {
     "name": "stdout",
     "output_type": "stream",
     "text": [
      "38 (0003 A C.aiff):\n",
      "    Martin Weigert (recorder): 2/81cdc61a-8502-4700-b7e1-1e7f5c4052ae.aiff\n",
      "    Johanna Steinborn (recorder): 2/aee18a7c-4f2b-4c6c-bf70-99d919e4c6eb.aiff\n"
     ]
    }
   ],
   "source": [
    "track = genimpro.recordings.getRecordingDetails(38,printDetails=1)[4][0]\n",
    "audio = genimpro.recordings.getAudioForTrack(track)"
   ]
  },
  {
   "cell_type": "code",
   "execution_count": 41,
   "metadata": {
    "collapsed": false
   },
   "outputs": [],
   "source": [
    "cellBoundaries = getSoundcellsForTrack(track)"
   ]
  },
  {
   "cell_type": "code",
   "execution_count": 31,
   "metadata": {
    "collapsed": false
   },
   "outputs": [
    {
     "name": "stdout",
     "output_type": "stream",
     "text": [
      "[[206848, 483328], [689152, 791552], [1326763, 1848201], [1862656, 2163712], [2213888, 2243584], [2319360, 2348032], [2515968, 2793472], [2827264, 2959359], [3179520, 3210240], [3229696, 3249151], [3281920, 3445760], [3513344, 3518463], [3546112, 3553280], [3641343, 3665920], [3713024, 3776512], [3793920, 3864575], [3880960, 3906560], [3961856, 4036608], [4052992, 4063232], [4152320, 4461568], [4477952, 4599808], [4980736, 5191680], [5559296, 5661696], [6002688, 6083584], [6410239, 6657024], [6704128, 7310336], [7378944, 7989248], [8033279, 8379392], [8407040, 8725504], [8812544, 9327616], [9409536, 9972736], [10001408, 10377216], [10654720, 10935296], [10964992, 11162624], [11329536, 11453440], [11467775, 11532288], [11546624, 11589631], [11604992, 11891711], [11948032, 11973632], [12549120, 12564480], [12609536, 12634112], [12864512, 12911616], [12941312, 12980224], [12996607, 13006848], [13021184, 13264896], [13278208, 13566976], [13772800, 13785088], [13835263, 14422016], [14655487, 14688256], [14718975, 14782464], [15021055, 15046656]]\n"
     ]
    }
   ],
   "source": [
    "print cellBoundaries"
   ]
  },
  {
   "cell_type": "code",
   "execution_count": 44,
   "metadata": {
    "collapsed": false
   },
   "outputs": [
    {
     "data": {
      "text/html": [
       "\n",
       "    <body>\n",
       "    <audio controls=\"controls\" style=\"width:600px\" >\n",
       "      <source controls src=\"data:audio/mpeg;base64,SUQzBAAAAAAAFlRTU0UAAAAMAAADTGF2ZjU2LjEuMAD/+1DEAAPAAAGkAAAAIAAANIAAAARMQU1F\n",
       "My45OS41VVVVVVVVVVVVVVVVVVVVVVVVVVVVVVVVVVVVVVVVVVVVVVVVVVVVVVVVTEFNRTMuOTku\n",
       "NVVVVVVVVVVVVVVVVVVVVVVVVVVVVVVVVVVVVVVVVVVVVVVVVVVVVVVVVVVVVVVVVVVVVVVVVVVV\n",
       "VVVVVVVVVVVVVVVVVVVVVVVVVVVVVVVVVVVVVVVVVVVVVVVVVVVVVVVVVVVVVVVVVVVVVVVVVVVV\n",
       "VVVVVVVVVVVVVVVV//tSxF2DwAABpAAAACAAADSAAAAEVVVVVVVVVVVVVVVVVVVVVVVVVVVVVVVV\n",
       "VVVVVVVVVVVVVVVVVVVVVVVVVVVVVVVVVVVVVVVMQU1FMy45OS41VVVVVVVVVVVVVVVVVVVVVVVV\n",
       "VVVVVVVVVVVVVVVVVVVVVVVVVVVVVVVVVVVVVVVVVVVVVVVVVVVVVVVVVVVVVVVVVVVVVVVVVVVV\n",
       "VVVVVVVVVVVVVVVVVVVVVVVVVVVVVVVVVVVVVVVVVVVVVVVVVVVVVVVVVVVVVVVVVVX/+1LEoYPA\n",
       "AAGkAAAAIAAANIAAAARVVVVVVVVVVVVVVVVVVVVVVVVVVVVVVVVVVVVVVVVVVVVVVVVVVVVVVVVV\n",
       "VVVVVVVVVVVVVUxBTUUzLjk5LjVVVVVVVVVVVVVVVVVVVVVVVVVVVVVVVVVVVVVVVVVVVVVVVVVV\n",
       "VVVVVVVVVVVVVVVVVVVVVVVVVVVVVVVVVVVVVVVVVVVVVVVVVVVVVVVVVVVVVVVVVVVVVVVVVVVV\n",
       "VVVVVVVVVVVVVVVVVVVVVVVVVVVVVVVVVVVVVVVVVf/7UsShg8AAAaQAAAAgAAA0gAAABFVVVVVV\n",
       "VVVVVVVVVVVVVVVVVVVVVVVVVVVVVVVVVVVVVVVVVVVVVVVVVVVVVVVVVVVVVVVVTEFNRTMuOTku\n",
       "NVVVVVVVVVVVVVVVVVVVVVVVVVVVVVVVVVVVVVVVVVVVVVVVVVVVVVVVVVVVVVVVVVVVVVVVVVVV\n",
       "VVVVVVVVVVVVVVVVVVVVVVVVVVVVVVVVVVVVVVVVVVVVVVVVVVVVVVVVVVVVVVVVVVVVVVVVVVVV\n",
       "VVVVVVVVVVVVVVVV//tSxKGDwAABpAAAACAAADSAAAAEVVVVVVVVVVVVVVVVVVVVVVVVVVVVVVVV\n",
       "VVVVVVVVVVVVVVVVVVVVVVVVVVVVVVVVVVVVVVVMQU1FMy45OS41VVVVVVVVVVVVVVVVVVVVVVVV\n",
       "VVVVVVVVVVVVVVVVVVVVVVVVVVVVVVVVVVVVVVVVVVVVVVVVVVVVVVVVVVVVVVVVVVVVVVVVVVVV\n",
       "VVVVVVVVVVVVVVVVVVVVVVVVVVVVVVVVVVVVVVVVVVVVVVVVVVVVVVVVVVVVVVVVVVX/+1LEoYPA\n",
       "AAGkAAAAIAAANIAAAARVVVVVVVVVVVVVVVVVVVVVVVVVVVVVVVVVVVVVVVVVVVVVVVVVVVVVVVVV\n",
       "VVVVVVVVVVVVVTYgIAz0EhMoy17B4bS/AQErHxVO96NhgIEATLN0AFRrpcMuO2dShFB7GGMsnJt2\n",
       "2ds7gd0Ex11zzsQ5Vdty4vdlcbl9Z9GcPw6aKiuIy1tx6ZwGuUrOHEvSuN29UkYf+X1IxYlbtw/Q\n",
       "M7d+1KJZer09vf4Ybr09P3PusPzp7ef509PlKH8lkv/7UsShg8AAAaQAAAAgAAA0gAAABLZxFIm5\n",
       "dG4CgCuILQCK4jrD3HghTBTSKsMYhFK8bf+H7TgKDtvADOIEaWienW2AtOhvDzDGISZ22dxeVxun\n",
       "t6lEMTkNrscSrDcvoHYdyq1h+MY3G7dSklkvylEYquGu9l887bX3fn4gwxQBgjpoBFcPWqdp7cC/\n",
       "iABtIAfiwgAMAAABJAKV/xqMMFEFj28GbzMsz59WJx2NCwYC+PGHLR6LyYw9Z+plzqPzLG1JXIs5\n",
       "6NocYpiVdjGn9XMp//tSxKGDwAABpAAAACAAADSAAAAEPMRiUenOREP5hlR+6vQ0qULoh7lyZjDL\n",
       "Z+TyFyFiIWJc4iKIWOJHMx/IbLb9XPqSseahZSc8mGpERi0zlWcxkLoo+PGpRiRv///4vheBY///\n",
       "/AuPGYXf//////keJpjjKyW0SSI/PxWtKcJQJhI6eYmXLl/17VqhiTwrmBxALMikXoVIyONUWUYp\n",
       "Zfr//udP3DDuHM9UmPcN9sb1jlSc/9Yf//ukpLHPzzqcwuy/P9Ul7tychuRyilf+mnL/+1LE/4PA\n",
       "AAGkAAAAJBK21MKxgACm9czuUnM8LH6w3nnnhhhhhhzPOpKJZGJZjn+8LHM6fMoGSgIOcgTlC5//\n",
       "844mQgFFcrfkMklcqG6P/+WQuk3/4U8oQ5hSIP8qi2MljsEPZa5NM9hqz/N9qP5Oaxyp9VYvP4/n\n",
       "2kkb8IfaF/n/e/rzYr5s6xjO3sm942nB6BBAfjCpnNWxFE2+tqxI80rzF6Yz8Yx/qu3iZJ27hWva\n",
       "Z7G1u/rWW33q1rf6/+L6gPPrdM417/Ff/vW73pnWdf/7UsTbABKWERMZhQACUKWnZ5+AAGxq161h\n",
       "x4EfKBe9EXbdF/9uoCXZNT73/K9+v3uF+KxZQEwKTDj9fBxaY5Gm6pZUdmgnv7r94Vqk3jqpWzfe\n",
       "rhZq2d5XpWMUuMgyF1UU3TOpJqRW6V0XXPqLooILogegoJgX0k2OMYHHWWzNJzqRxq6aKCzqNI4Z\n",
       "jRE/kXTRUgePsa1MyaKToJrVfXXsUhwNZXr3U6zzoJunXWySKKk1jlEimFWp9SoWWHZlQCAiAN+B\n",
       "ffg2iQNQ46SKBlMa//tSxKSAEw2ZPALt7cJnsufUXlG5cCtY1hGt4dr61rPUvMmUIiAnKtRFm/fs\n",
       "VL///3O01JyvlVlsPy2W1cbmfLscC7zVJGla1dzpWuZ6R1FJJnUmHpOTAGbVkHWy3dS0LoqrQUnp\n",
       "+1JlsiTQc9NB1l5SKlM7La1F0F2+prDL/9dGukxkqbqVrpPTTNRbFRx/J9ias8KRmIAAAp9u1ZVL\n",
       "T4amxHEHBn2ItUsTteU09vtblarHkPTReJaLCLEKGgVetW7Xf/uGe8O1rmcuqzNLzG3/+1LEaQAS\n",
       "VZdBx/KNykiy5/i+Ubhrtbl8HI1GDtr1mt1I3S1pMjVcsi0uRYDRGhAxaPupmOvdNE6gyLIvdWui\n",
       "tFmHWFA60K9NG9KitBNaqkk2V/IKV0HWv/RSVZqaVqddsjBPqgySrmeIiHhlMCx8wsGcPIEiFUOB\n",
       "CYSg9U0jxoSSFDqXUBBD/b9d63TosqdZautMnjSf/87TOoHDzG5pNkk3JwPSpkSb//7X/2rHWRZb\n",
       "P////9X////+YO01NVURChayLDXw/HQKyw/y611hcP/7UsQ0gAqNlWvhtg3ROCGuvMWVcngghaA7\n",
       "Kz1omhcdb906dyNfDv/9aiqWQzlOilMHhEgDC1f///9yxEv///VvUgsIisJu3f//72fFA7UAFLAQ\n",
       "IbNZmfV1vON6yxFug+JQzA0pluUendv9DMMxJwUdk1hkseJ6YMWWkVItdVWYv52ZVR9w7jS/vlrX\n",
       "bjlROExqbkMAyGzLR5IEsySCa2rMTySjK0xU6JiznS6SJ1MT0JsH8gH0E2f/V0vo66S3KZo36tHv\n",
       "rV/bqot+3/19T+jd//tSxEEA0QmvJQfprcIYtWOU/jW5TLZ/ayTnwHAmXNrbp6P7Ugff1Dlb+zNe\n",
       "nzyoLGWf46uwStQBDo3fHBoSwXPxRNSe5V1llv/s9r46v6wrXrVr8pVMUl1ToukoXXb1rMTXWyF7\n",
       "mDJostBAjjQbgGOPNB6LrU77W0ujWtF06puMUoOnd9DVqWyaq/d3vVSR179v/7bLmsydlOzMmcWX\n",
       "laLqAAJgEpAJtNHhTY1i+adTuMyVCu7u5keR9yVFyBCBAM8LUHBU+iTQt/osy5p8sdv/+1LEF4IN\n",
       "SM8hJ9VrgWMZpFyaNXB6jn5cdeKQwi+XseyWy2t1/wx1W6pk1G1g3AOCG05GsqeeZKOpQCqHKnxQ\n",
       "L/87/peuPckJFSwWF3niIx4CMSAAXMrLEMLyX3a7l5Oig6rKqQRNRlABSQGzqCZlpR0hH66natTN\n",
       "S0m6mTTHwxNjFNbI1IUvWurXqqpOVCzD2eeRWtW+rnxOMc72JT/Lf/qoekwmZmQWACEIAD3Ju5M8\n",
       "dii/ut7pq8zXrSdNuyJsYi4wHDANRbEER3lM2Hpevf/7UsQUAA3xqxrU+gAJmafo5x8AAN7orSSe\n",
       "t9fTOMKEImfdr1OpV1at697KpGKBDSCv/VUtaLvVqfo161IIo61Ne32Uhb1Xr7N/Zv9q69SmRopJ\n",
       "JtmDGibrMzjwn/88f/40888MB3zr2sPPp+y2x+5vIYfGV2DSzbM3csxCcWAelaFZuVB+C9YEv+zJ\n",
       "h0hUa/7qQWmpaKBNFZX9n0NRkiXybUZ//t8ZA6XyIGqROV///+gak+gUzcvnDQwJz//lAxSkMUe/\n",
       "+FZBxUjafm2JUBko//tSxAcAC/EtThjaAAFhMC8/kqACUTyBzaMkgD5oFkjFEWQBYCbRagUDrQWQ\n",
       "EoI4g03aogySu3d0PUWvm7WQYjC1rFfnL1izSTUYutb10klnWVuqu/RbX9q69SvNvtbjzRwa730e\n",
       "iAqqqnljF293/bl/lZ7T2zSYM9ckEomLm5xNnEQLwZFvayJ3JSprIsxP6A1lt81ka3u//4vAaOf8\n",
       "z1ttbZ7ujFA09N3MbTN3qzecSiOSH6f//+24wuZJKjGWj/XRBNMNyCVdMOs4KPDoAHT/+1LECQAM\n",
       "LYFboslN0YeobLw5KXqHEefJ1zilnCikkeJIT6FLBmFdl1Oqi7uksyPJugZoI/rjZf+387/+wfbe\n",
       "qoyUXU9u59lxAAp/T/d/W5+exoTXqzLdfv/pfWVH5KlCDhZFSvEPMs7CHXnrohIlSjQnInx0jSMy\n",
       "wQYgpgglNDcqa1D7CWk6ruhVspisaILSZCh91MBM7Vz2Mrn7nf/wHBVzrWJpqnO5jmkx6GM+YzMc\n",
       "G4WX+n/0ZDJdWc8ZCQAQHYVX/+SVeZmZl5YBLIWoBP/7UsQFAAmpO3PkoOv5QCAptGWhcnooGx8k\n",
       "uUcvnjixdjgUBcST8x/jQEAvX86tPaGw800OWTox5QdAUd/NN/nf/VDjvq327e7e7Dxrf//ZUVHo\n",
       "zmjYcNyUlt1zATUlgBDSgrxb+Pa49AhIiBIIdSxa6dJX22O0KgHyrL2XXy32b+JFSvppMsOTx361\n",
       "DR1Nf89qlrEuJQahCBQBY6ip1j+LuY/ma/56U1UCKuATIAPLduelj70k2RZkTA+9VFFlTQZUEgAH\n",
       "brgHDSTUl83U45qd//tSxBQACQTBKSZRSYE7GCSkOh0wC015px4ki5fNZVdHdM//qppcQARvX6W/\n",
       "rT/3/////RSBCLApkIBhgxwxIEjqepLMG/QmRsJsAqFAARhRMQQvoIPVqmzD12sx17GucMkO9px+\n",
       "h3b/VzVNAcD7aAjD8qGCo2gsM/8zRQj//+vueKJQA8U4gBqKjkeJMXi5qjUo+gtSHegkYjHAY+IF\n",
       "Cxd5drzh4SH+7CNqD5QUBb2SpXWlKJ/0WNDon/Ux086sPfvzP//+zuQEKHhUiaABUgT/+1LEJoAJ\n",
       "MMEixNCpgSmYJKiYHTCqIggQm5OU2s3GuzNdutTOzpGBAQLgnA+z0UxVV6D5jObUqSt48BwkPmK1\n",
       "kVFVUU73/ZBFEorRY2tyvop/o///+62tRBgdLxEGIheLVu45WaOctP5v8O87XehlLBkHjgpZLfRK\n",
       "9Yw5KCdCwYcGDYAIVFTHAX54mzcwPOgmgh6d2Q7JqQf9loLdboNTNEEFl/cXP5yU+lGUcMOYfBsg\n",
       "Z/p3clcAPHFLHf3qvKEQ0ajNoAxw1Uqf+M5Wf3k8Kf/7UsQ6g8p4wTYDYgmBxiNoAC3BcBIXCi9Y\n",
       "ODS4TAaAuHzUvHzEmCuWi6TxUN+roqUiaE+TBeRV9jxDwvQFmCuy1si01QPslrZKt660Dg5himla\n",
       "2hZSvqdfmBUFuy9PqKJ/90p6FYfC+f/LIyqfR31oB+YMA4JrQFlMTyKLpL3WiUiJIsk3XUmifLJ5\n",
       "LptX6ll1m/Ui4boFwaM3qfSf0e2qUhsHj6H1/f/5kSFm3Vff//WaN////UaOpaImZh5EHLWU3L0a\n",
       "VkIcKRYTzxYfRNJX//tSxDWACnmLRKDWLcE0qq38VZ1+/mweI/xf/yxGV/mXUk+GneRfuqp8//pi\n",
       "YM////Z3CgtZF7+m3+mJgROszP6M3/fsLW/+ksdU/4H/7DkyTcAADaXyUVheKSrTDzNTTwwHd/1d\n",
       "SYsiO6pnohwhR9yNzzz//6HisPFv//0T4+NxGDL9l0v/+rqJZb72oaYx1v6TiotRHiXlnYAAAACw\n",
       "aJRCRG0KBaUbUcksFPrfh673V2k7cm5Mm2Z6xygRex3///uc5pjr5ymhENx4l///9hH/+1LEQwAJ\n",
       "WVVxoKjr8UkVaPycnTCIjoPTf/yoa9v5YGiWHSwNA0WBoe7IkgAkVGABgihqdie2PfO67ehqfk1H\n",
       "3eOO9TbXUDDDpFQnFoLWv1//jS77eyz6tNEYAosJlMWo1ZHt//QweAaGv///z1Gpb/+t31////7m\n",
       "tmQUGY2AEXGwyFVBUBZgY1zc0IxN0k99SYswCj0FEJVWj2wohxdG/IQobQXalN2U9iP7WdA+IBAG\n",
       "L9hGL6GE//1vsZ2elf/+jJ3IVQBFgBwQB8KJ5JXH1f/7UsRSgAnY5SuF5OuBJ5WltDoVMCNeXXMV\n",
       "rU/WgS4wQMpFD6jwfO2qRESC5h5D7egeBg6Dg1lbJcn/9Q6HgKKV/e65yWnpt/6k1vd87uT//pFb\n",
       "ZJY8OHwwKgADAEY0AAOt1XUGFXO/fZlpIuaIVqJUUKA+5dNT7P84ko89f48UcZPYov1Sy7v9hqx4\n",
       "ExbrLNf96i3W2+739bv//+qYWZSBFmwsJw2qL//Ab/giaXChHWdCfWELdxVv2uJkAKAJiTKSsl9N\n",
       "ZpJXNUsbpJRjXuAA//tSxGQAChytIyfQqYExFWRo+Z0wd/MIosEo5O6U4T51dLPocwYoYWE7+kNO\n",
       "0/sfZWA4WjidrNv/////UEFLFeqPGoPgwSOiRZ/ZdnuzfuRosITpxTeGBYCyaZkT2yqZk651zFvI\n",
       "jATdXKfK3Nv5UbObihLm47p/jEttwIr9IF4IWpK51v7xBEfCNpSnvimv/AeSv7a//98Uyxs8TGvf\n",
       "f+fq95In/+f/SVXx1MU5ztEf7y7lsafqRfreGdJE24EIZMiVEmkj2U35WNU9WAVMW9v/+1LEcwAK\n",
       "NI8xJ+BpQc0h5wAtPXAT9PGZmmzz/5jHCVOFj+qjolgc4iyKD2QuoI0PSJwqOc6ty+p129lIOZkk\n",
       "XXWj2SsipNFqv4sgvOu6alJ6mfXU31m3/6w6gQX9QAA22YTcEaT/+kDNMpnUn17DiBPCVfR+ggt1\n",
       "qTRS1p3nf+6v/8xIAww8S8ZPW2x43U/2o1F0UzNBIxTU5iyLUP/dQwRQ6rK9v/2KH/6zlCqAAAmY\n",
       "lAu3Pr1JN/zx4ThGYXnEB2CjhwcEK//+KV3eYlqrRf/7UsRugA1NQzwA8ivBOyhtNBa1fuaI+b/+\n",
       "Yj//QsF0IMtOV6q5hhZTm6T7jANyNVo9dv/6jH/0Z61OdrOYxwi0pv///NLUf/7eBNVIhhLI6Mcz\n",
       "EgJIE8bUDVzk6RccsE8iSOk3pGKKCa1JdR1NSC6LqVUrTQSdjXet00yTCLDxOG39dJ//Wsez/v//\n",
       "6mLz/9V0t02WpdMzLhtlm221gDRhJKCTKENFWFpxnjNglAgghHnNlAv5YO4UgZd8u5qrb/LW6wwD\n",
       "QaB8dfS1FqvKqvta//tSxG+ACo15feOhTfFSKGx0GDV/+tMLCe4S6/////9aKFjgVW71rDWdDvyo\n",
       "adKhoaCoLcvtYUGOsYCGpG0UpMlgiJkzs5cTPEWFDAPsFrJPIujbr2XSX4pElHaa1nPOecz/9onD\n",
       "AuNQjObNqarJNpRURRqGWtcvqomjvM/7///+tQEUlGRKYoyAQhzBBE4xaC3KxrstJai+N4IUgfdu\n",
       "qm8nED7KUoypPMJzyF5U4gK57XMt+ezuPQoQPmk26mF7XvsytW84vWGVezqf/93/td//+1LEeQAK\n",
       "dNVVpK0LsTua5vQZnXCW+OtSZJLdoLp1WEA0ktU1bdzSqJikmupbMSQjIBfJJF7sq9j7da13YXEl\n",
       "alzn6Oa//0AwCxEtYy2Zstpu58yOF3OLXt/91dbbb////SpS2W2kpuNokOVJj/KcVwrEPhRyeJRz\n",
       "ikHMIsDUcZbCCD5ftkV8arhfH3nETNJTj//9n3E78Nh4Wz7GfumZl5+7ZsULIQldOOMi4ONUWfe1\n",
       "hD9qej6SqqBqqqBS1JDewQq9wilEBgYkQuiMRyq1I//7UsSFgApc2y2h0UuBJhsm9GaddLEGcmy7\n",
       "J4pyCAhtACDseilHMy5uwQAUDhvAtOGpTF8bf7nkVAaGlAM8svp6Q1LYrQmTMtmiyiVjMuOshhEE\n",
       "SNGaAwwESE+tMpEgTi2L9MwMTdvskQAZsjC0YHqaZgozcvuZputnOuhHwJQLSkLqapB6mTUgy23Y\n",
       "zfMGs/k//l4YqkGSqgSdsu7uaFjb+7XK8ojb6KnMgCMJEarI4Mgt/5y5Wl8ogi5HK1BWnY1hzv0k\n",
       "uh5ksUgWlr7nIxUu//tSxJUACpClSae8ybJhJubkncl438MdZ90gcLBgi5BQMfQwSW000zkumZ4q\n",
       "mKRozKUq1ahIR4Io5QUgfMzc1c+fUs+dMUVF9aoJjPs9SkHXTOOtNE/1JOskV0E6aK011anVa/Qf\n",
       "/1ezbc+p5qZl5gEtlVkll86NeG3cgGmQiqRCCFWHC3iAGxyBl+2QaOhpXZ+v6dar0HmVbdf/8aTf\n",
       "9SkjrJL/3UMUl1qU3osZOitKp6S1pAphstf2dS0VLorU/l5FBv//+n+rq/V1qTNKYIn/+1LEfIAS\n",
       "eZM7IvJtwYsyLnyUNb6IiGBJHXW09/+WUVySo3CxIHUqW1dG3hQHWuFZf1yg5bfdRd/8GLV2+qkm\n",
       "mg6rNrd0cYQI7PrWbJ0TNI2VvprdY7CEXjZVqq2Wg1KlWfZJAFOE4OHN9v/6p1X/0f/mjeImHhQF\n",
       "QQdmqvPJRv54jJYAQEjtN2RUYmSzICngCVom3GNG29JSy6iXT7KQU7+WTru9S0jVJJBFVfvqDAQv\n",
       "mJ9Si6XTIvJ6bUHVD8TnWj+yq69/WJua///0WXHibv/7UsRfAAwJL2vkravxorJpPJo1uNXurrS/\n",
       "+l///+YvWICZh0BZXDWk6Zs9kydOL1WDSI4+Ys1DgoA0HwsxLzQToe59aBP0DBNZsm6/PD2Y3snN\n",
       "D6b//mY5vydMETRknS2dWo3E7HKYOvTRUta2q1rXMy+Xxapr///7F5J3/lf/oBpVNFeIgAAABlOR\n",
       "xONsogAFSuAGhQLVxr0uTwNoQkEAWgg6sWRHa/AIJqS0RhLC8zQtRwE1M155xsEgZ2dCALuSRv3+\n",
       "fi1LpXAsbp5cqsEC//tSxFiADEEvZ/TGgDJUH+e/MaAAok8EEqcPZ2Uyvl6/QVbjchkW80R/VaBo\n",
       "Nv2Klm/Uo7E7lbzs/r/x//7n3DuGErs463Zqxml/////8dc/m+/9b6n/0///6SIAB9DBgJkMBAQp\n",
       "6rCppUEQRMiIARKkRCoVComRIsWRIpWqhQtbGMYxjnjGMfJZEdEQNA1Bo8VBU8sFQ1Wdg06WBp6j\n",
       "0S8FTpUNQa1A16+V9X/61UxBTUUzLjk5LjVVVVVVVVVVVVVVVVVVVVVVVVVVVVVVVVX/+1LEOwPK\n",
       "aH8gvCSAAAAANIAAAARVVVVVVVVVVVVVVVVVVVVVVVVVVVVVVVVVVVVVVVVVVVVVVVVVVVVVVVVV\n",
       "VVVVVVVVVVVVVVVVVVVVVVVVVVVVVVVVVVVVVVVVVVVVVVVVVVVVVVVVVVVVVVVVVVVVVVVVVVVV\n",
       "VVVVVVVVVVVVVVVVVVVVVVVVVVVVVVVVVVVVVVVVVVVVVVVVVVVVVVVVVVVVVVVVVVVVVVVVVVVV\n",
       "VVVVVVVVVVVVVVVVVVVVVVVVVVVVVVVVVVVVVVVVVQ==\n",
       "\" type=\"audio/mpeg\" />\n",
       "      Your browser does not support the audio element.\n",
       "    </audio>\n",
       "    </body>\n",
       "    "
      ],
      "text/plain": [
       "<IPython.core.display.HTML object>"
      ]
     },
     "metadata": {},
     "output_type": "display_data"
    },
    {
     "data": {
      "image/png": "[encoded data removed]",
      "text/plain": [
       "<matplotlib.figure.Figure at 0x10dc12190>"
      ]
     },
     "metadata": {},
     "output_type": "display_data"
    }
   ],
   "source": [
    "cellAudio = audio[cellBoundaries[5][0]:cellBoundaries[5][1]]\n",
    "plt.plot(cellAudio)\n",
    "wavPlayer(cellAudio,samplerate)"
   ]
  }
 ],
 "metadata": {
  "kernelspec": {
   "display_name": "Python 2",
   "language": "python",
   "name": "python2"
  },
  "language_info": {
   "codemirror_mode": {
    "name": "ipython",
    "version": 2
   },
   "file_extension": ".py",
   "mimetype": "text/x-python",
   "name": "python",
   "nbconvert_exporter": "python",
   "pygments_lexer": "ipython2",
   "version": "2.7.12"
  }
 },
 "nbformat": 4,
 "nbformat_minor": 0
}
