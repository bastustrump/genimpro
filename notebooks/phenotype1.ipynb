{
 "metadata": {
  "name": "",
  "signature": "sha256:6a7070d0b490b2d65ae9648a9e7f06d19a2adcc654dfe1dbbe80347d0e053f53"
 },
 "nbformat": 3,
 "nbformat_minor": 0,
 "worksheets": [
  {
   "cells": [
    {
     "cell_type": "markdown",
     "metadata": {},
     "source": [
      "<h1 align=\"center\">Ph\u00e4notyp Struktur</h1><br>"
     ]
    },
    {
     "cell_type": "code",
     "collapsed": false,
     "input": [
      "cd /Users/bastus/Desktop/Forschungsprojekt/genimpro"
     ],
     "language": "python",
     "metadata": {},
     "outputs": [
      {
       "output_type": "stream",
       "stream": "stdout",
       "text": [
        "/Users/bastus/Desktop/Forschungsprojekt/genimpro\n"
       ]
      }
     ],
     "prompt_number": 2
    },
    {
     "cell_type": "code",
     "collapsed": false,
     "input": [
      "%run importwrapper.py\n",
      "%pylab inline"
     ],
     "language": "python",
     "metadata": {},
     "outputs": [
      {
       "output_type": "stream",
       "stream": "stdout",
       "text": [
        "Populating the interactive namespace from numpy and matplotlib\n"
       ]
      }
     ],
     "prompt_number": 3
    },
    {
     "cell_type": "code",
     "collapsed": false,
     "input": [
      "analysedTrack = genimpro.recordings.getRecordingDetails(93)[4][0]\n",
      "audio = genimpro.recordings.getAudioForTrack(analysedTrack)\n",
      "sonicevents = getSoniceventsForTrack(analysedTrack)\n",
      "sequences = getSequencesForTrack(analysedTrack)"
     ],
     "language": "python",
     "metadata": {},
     "outputs": []
    },
    {
     "cell_type": "markdown",
     "metadata": {},
     "source": [
      "<br>**Daten auslesen**"
     ]
    }
   ],
   "metadata": {}
  }
 ]
}