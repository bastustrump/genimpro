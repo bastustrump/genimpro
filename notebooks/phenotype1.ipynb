{
 "metadata": {
  "name": "",
  "signature": "sha256:10396dcbf0ab9cccd23d5f9c696a8476fd8d7ebf7b8063913368e59428fabc6d"
 },
 "nbformat": 3,
 "nbformat_minor": 0,
 "worksheets": [
  {
   "cells": [
    {
     "cell_type": "markdown",
     "metadata": {},
     "source": [
      "<h1 align=\"center\">Ph\u00e4notyp Struktur</h1><br>"
     ]
    },
    {
     "cell_type": "code",
     "collapsed": false,
     "input": [
      "cd /Users/bastus/Desktop/Forschungsprojekt/genimpro"
     ],
     "language": "python",
     "metadata": {},
     "outputs": [
      {
       "output_type": "stream",
       "stream": "stdout",
       "text": [
        "/Users/bastus/Desktop/Forschungsprojekt/genimpro\n"
       ]
      }
     ],
     "prompt_number": 3
    },
    {
     "cell_type": "code",
     "collapsed": false,
     "input": [
      "%run importwrapper.py\n",
      "%pylab inline"
     ],
     "language": "python",
     "metadata": {},
     "outputs": [
      {
       "output_type": "stream",
       "stream": "stdout",
       "text": [
        "Populating the interactive namespace from numpy and matplotlib\n"
       ]
      }
     ],
     "prompt_number": 4
    },
    {
     "cell_type": "markdown",
     "metadata": {},
     "source": [
      "**Metadaten auslesen**"
     ]
    },
    {
     "cell_type": "code",
     "collapsed": false,
     "input": [
      "analysedTrack = genimpro.recordings.getRecordingDetails(93)[4][0]\n",
      "audio = genimpro.recordings.getAudioForTrack(analysedTrack)\n",
      "sonicevents = genimpro.recordings.getSoniceventsForTrack(analysedTrack)\n",
      "sequences = genimpro.recordings.getSequencesForTrack(analysedTrack)"
     ],
     "language": "python",
     "metadata": {},
     "outputs": [],
     "prompt_number": 5
    },
    {
     "cell_type": "markdown",
     "metadata": {},
     "source": [
      "Der Ph\u00e4notyp einer Klangfolge fasst deren direkt wahrnehmbaren Eigenschaften in einer festen Struktur zusammen. Dabei werden folgende musikalischen Kategorien unterschieden:\n",
      "\n",
      "* __Dynamik__: Umfang und Mittelwert\n",
      "* __Rhythmik__: Tempo, Varianz\n",
      "* __Melodik__: Umfang, Zentrum, Varianz\n",
      "* __Harmonik__: Tonalit\u00e4t, Varianz\n",
      "* __Timbre__: Rauheit, Helligkeit\n",
      "\n",
      "<br>"
     ]
    },
    {
     "cell_type": "code",
     "collapsed": false,
     "input": [
      "import numpy as np\n",
      "def phenotypeForSequence(sequence,sonicevents):\n",
      "    \n",
      "    events = sonicevents[sequence[0]:sequence[-1]]\n",
      "    \n",
      "    sequenceAudio = audio[events[0][\"start\"]:events[-1][\"end\"]]\n",
      "    \n",
      "    sequenceFeatures = {}\n",
      "    sequenceFeatures[\"duration\"] = []\n",
      "    for feature in events[0][\"features\"]:\n",
      "        sequenceFeatures[feature] = []\n",
      "    \n",
      "    \n",
      "    for event in events:\n",
      "        sequenceFeatures[\"duration\"].append((event[\"end\"]-event[\"start\"])/samplerate)\n",
      "        for feature in event[\"features\"]:\n",
      "            if (type(event[\"features\"][feature])==type(dict())):\n",
      "                value = event[\"features\"][feature][\"mean\"]\n",
      "            else:\n",
      "                value = event[\"features\"][feature]\n",
      "                \n",
      "            sequenceFeatures[feature].append(value)\n",
      "    \n",
      "    attributesList = [\"dynamics\",\"rhythmics\",\"melodics\",\"harmonics\",\"timbre\"]\n",
      "    attributes = {}\n",
      "    \n",
      "    for attribute in attributesList:\n",
      "        attributes[attribute] = {}\n",
      "        \n",
      "    return sequenceFeatures, attributes, sequenceAudio\n"
     ],
     "language": "python",
     "metadata": {},
     "outputs": [],
     "prompt_number": 6
    },
    {
     "cell_type": "code",
     "collapsed": false,
     "input": [
      "sequenceFeatures, attributes, sequenceAudio = phenotypeForSequence(sequences[17],sonicevents)"
     ],
     "language": "python",
     "metadata": {},
     "outputs": [],
     "prompt_number": 7
    },
    {
     "cell_type": "markdown",
     "metadata": {},
     "source": [
      "<hr>"
     ]
    },
    {
     "cell_type": "markdown",
     "metadata": {},
     "source": [
      "**Dynamik**"
     ]
    },
    {
     "cell_type": "code",
     "collapsed": false,
     "input": [
      "attributes[\"dynamics\"][\"range\"] = abs(np.amax(sequenceFeatures[\"Loudness\"])-np.amin(sequenceFeatures[\"Loudness\"]))\n",
      "attributes[\"dynamics\"][\"median\"] = np.median(sequenceFeatures[\"Loudness\"])\n",
      "print attributes[\"dynamics\"]"
     ],
     "language": "python",
     "metadata": {},
     "outputs": [
      {
       "output_type": "stream",
       "stream": "stdout",
       "text": [
        "{'range': 0.9129868458151974, 'median': 0.08042532456403767}\n"
       ]
      }
     ],
     "prompt_number": 8
    },
    {
     "cell_type": "markdown",
     "metadata": {},
     "source": [
      "<hr>"
     ]
    },
    {
     "cell_type": "markdown",
     "metadata": {},
     "source": [
      "**Rhythmik**"
     ]
    },
    {
     "cell_type": "code",
     "collapsed": false,
     "input": [
      "microtime = np.amin(sequenceFeatures[\"duration\"])\n",
      "\n",
      "print sequenceFeatures[\"duration\"]"
     ],
     "language": "python",
     "metadata": {},
     "outputs": [
      {
       "output_type": "stream",
       "stream": "stdout",
       "text": [
        "[0.10275, 0.08058333333333334, 0.13233333333333333, 0.12933333333333333, 0.137, 0.4058333333333333, 0.12183333333333334, 0.26066666666666666, 0.14125, 0.25316666666666665, 0.12033333333333333, 0.2654166666666667, 0.1405]\n"
       ]
      }
     ],
     "prompt_number": 9
    },
    {
     "cell_type": "markdown",
     "metadata": {},
     "source": [
      "Wie sind die Teilungsverh\u00e4ltnisse der Mikrotime zu den Abst\u00e4nden der anderen Klangereignisse der Klangfolge?"
     ]
    },
    {
     "cell_type": "code",
     "collapsed": false,
     "input": [
      "sequenceFeatures[\"duration\"]/microtime"
     ],
     "language": "python",
     "metadata": {},
     "outputs": [
      {
       "metadata": {},
       "output_type": "pyout",
       "prompt_number": 10,
       "text": [
        "array([ 1.27507756,  1.        ,  1.64219235,  1.60496381,  1.70010341,\n",
        "        5.03619442,  1.51189245,  3.23474664,  1.75284385,  3.14167528,\n",
        "        1.49327818,  3.29369183,  1.74353671])"
       ]
      }
     ],
     "prompt_number": 10
    },
    {
     "cell_type": "code",
     "collapsed": false,
     "input": [
      "plt.hist(sequenceFeatures[\"duration\"]/microtime)"
     ],
     "language": "python",
     "metadata": {},
     "outputs": [
      {
       "metadata": {},
       "output_type": "pyout",
       "prompt_number": 11,
       "text": [
        "(array([ 2.,  7.,  0.,  0.,  0.,  3.,  0.,  0.,  0.,  1.]),\n",
        " array([ 1.        ,  1.40361944,  1.80723888,  2.21085832,  2.61447777,\n",
        "         3.01809721,  3.42171665,  3.82533609,  4.22895553,  4.63257497,\n",
        "         5.03619442]),\n",
        " <a list of 10 Patch objects>)"
       ]
      },
      {
       "metadata": {},
       "output_type": "display_data",
       "png": "[encoded data removed]",
       "text": [
        "<matplotlib.figure.Figure at 0x110d36550>"
       ]
      }
     ],
     "prompt_number": 11
    },
    {
     "cell_type": "code",
     "collapsed": false,
     "input": [
      "hist,bins = np.histogram(sequenceFeatures[\"duration\"]/microtime)"
     ],
     "language": "python",
     "metadata": {},
     "outputs": [],
     "prompt_number": 12
    },
    {
     "cell_type": "code",
     "collapsed": false,
     "input": [
      "attributes[\"rhythmics\"][\"variance\"] = float(len(hist[np.nonzero(hist)])) / len(sequenceFeatures[\"duration\"])"
     ],
     "language": "python",
     "metadata": {},
     "outputs": [],
     "prompt_number": 13
    },
    {
     "cell_type": "code",
     "collapsed": false,
     "input": [
      "attributes[\"rhythmics\"][\"tempo\"] = 60 / ((bins[np.argmax(hist)] + bins[np.argmax(hist)+1]) / 2.0)"
     ],
     "language": "python",
     "metadata": {},
     "outputs": [],
     "prompt_number": 14
    },
    {
     "cell_type": "code",
     "collapsed": false,
     "input": [
      "print attributes[\"rhythmics\"]"
     ],
     "language": "python",
     "metadata": {},
     "outputs": [
      {
       "output_type": "stream",
       "stream": "stdout",
       "text": [
        "{'variance': 0.3076923076923077, 'tempo': 37.373184321556252}\n"
       ]
      }
     ],
     "prompt_number": 15
    },
    {
     "cell_type": "markdown",
     "metadata": {},
     "source": [
      "<hr>"
     ]
    },
    {
     "cell_type": "markdown",
     "metadata": {},
     "source": [
      "**Melodik**"
     ]
    },
    {
     "cell_type": "code",
     "collapsed": false,
     "input": [
      "print sequenceFeatures[\"Pitch\"]"
     ],
     "language": "python",
     "metadata": {},
     "outputs": [
      {
       "output_type": "stream",
       "stream": "stdout",
       "text": [
        "[0.0, 33.64084139737216, 47.09547280365566, 0.0, 0.0, 0.0, 0.0, 41.72373835245768, 9.005628632336128, 11.721611870659721, 0.0, 0.0, 0.0]\n"
       ]
      }
     ],
     "prompt_number": 16
    },
    {
     "cell_type": "code",
     "collapsed": false,
     "input": [
      "pitches = np.asarray(sequenceFeatures[\"Pitch\"])\n",
      "detectedPitches = pitches[np.nonzero(sequenceFeatures[\"Pitch\"])]\n",
      "print detectedPitches"
     ],
     "language": "python",
     "metadata": {},
     "outputs": [
      {
       "output_type": "stream",
       "stream": "stdout",
       "text": [
        "[ 33.6408414   47.0954728   41.72373835   9.00562863  11.72161187]\n"
       ]
      }
     ],
     "prompt_number": 17
    },
    {
     "cell_type": "markdown",
     "metadata": {},
     "source": [
      "Konvertierung der Frequenz in Halbt\u00f6ne mit Nachkommastellen, um einen klareren Bezugspunkt und Vergleichbarkeit zu haben"
     ]
    },
    {
     "cell_type": "code",
     "collapsed": false,
     "input": [
      "Pitches = (log(detectedPitches) - log(tuningFrequency)) / log(2) * 12 + 69\n",
      "print Pitches"
     ],
     "language": "python",
     "metadata": {},
     "outputs": [
      {
       "output_type": "stream",
       "stream": "stdout",
       "text": [
        "[ 24.48938605  30.31388117  28.21724169   1.67360727   6.23687224]\n"
       ]
      }
     ],
     "prompt_number": 18
    },
    {
     "cell_type": "code",
     "collapsed": false,
     "input": [
      "plt.hist(Pitches)"
     ],
     "language": "python",
     "metadata": {},
     "outputs": [
      {
       "metadata": {},
       "output_type": "pyout",
       "prompt_number": 19,
       "text": [
        "(array([ 1.,  1.,  0.,  0.,  0.,  0.,  0.,  1.,  0.,  2.]),\n",
        " array([  1.67360727,   4.53763466,   7.40166205,  10.26568944,\n",
        "         13.12971683,  15.99374422,  18.85777161,  21.721799  ,\n",
        "         24.58582639,  27.44985378,  30.31388117]),\n",
        " <a list of 10 Patch objects>)"
       ]
      },
      {
       "metadata": {},
       "output_type": "display_data",
       "png": "[encoded data removed]",
       "text": [
        "<matplotlib.figure.Figure at 0x10f419710>"
       ]
      }
     ],
     "prompt_number": 19
    },
    {
     "cell_type": "code",
     "collapsed": false,
     "input": [
      "hist,bins = np.histogram(Pitches)"
     ],
     "language": "python",
     "metadata": {},
     "outputs": [],
     "prompt_number": 20
    },
    {
     "cell_type": "code",
     "collapsed": false,
     "input": [
      "attributes[\"melodics\"][\"variance\"] = float(len(hist[np.nonzero(hist)])) / len(Pitches)"
     ],
     "language": "python",
     "metadata": {},
     "outputs": [],
     "prompt_number": 21
    },
    {
     "cell_type": "code",
     "collapsed": false,
     "input": [
      "attributes[\"melodics\"][\"range\"] = abs(np.amax(Pitches)-np.amin(Pitches))\n",
      "attributes[\"melodics\"][\"median\"] = np.median(Pitches)"
     ],
     "language": "python",
     "metadata": {},
     "outputs": [],
     "prompt_number": 22
    },
    {
     "cell_type": "code",
     "collapsed": false,
     "input": [
      "print attributes[\"melodics\"]"
     ],
     "language": "python",
     "metadata": {},
     "outputs": [
      {
       "output_type": "stream",
       "stream": "stdout",
       "text": [
        "{'variance': 0.8, 'range': 28.640273902037954, 'median': 24.489386051068109}\n"
       ]
      }
     ],
     "prompt_number": 23
    },
    {
     "cell_type": "markdown",
     "metadata": {},
     "source": [
      "<hr>"
     ]
    },
    {
     "cell_type": "markdown",
     "metadata": {},
     "source": [
      "**Harmonik**"
     ]
    },
    {
     "cell_type": "code",
     "collapsed": false,
     "input": [
      "from essentia.standard import *\n",
      "\n",
      "spec = essentia.standard.Spectrum()\n",
      "SpectralPeaks = essentia.standard.SpectralPeaks(sampleRate=samplerate)\n",
      "HPCP = essentia.standard.HPCP(sampleRate=samplerate)\n",
      "Key = essentia.standard.Key()\n",
      "\n",
      "spectrum = spec(sequenceAudio)\n",
      "peaks = SpectralPeaks(spectrum)\n",
      "chroma = HPCP(peaks[0],peaks[1])\n",
      "key = Key(chroma)"
     ],
     "language": "python",
     "metadata": {},
     "outputs": [],
     "prompt_number": 24
    },
    {
     "cell_type": "code",
     "collapsed": false,
     "input": [
      "pitchClasses = ('A','A#','B','C','C#','D','D#','E','F','F#','G','G#')\n",
      "pitchPos = np.arange(len(pitchClasses))\n",
      "plt.bar(pitchPos,chroma,align='center')\n",
      "plt.xticks(pitchPos, pitchClasses)"
     ],
     "language": "python",
     "metadata": {},
     "outputs": [
      {
       "metadata": {},
       "output_type": "pyout",
       "prompt_number": 25,
       "text": [
        "([<matplotlib.axis.XTick at 0x10f419050>,\n",
        "  <matplotlib.axis.XTick at 0x10f4bb990>,\n",
        "  <matplotlib.axis.XTick at 0x10f422790>,\n",
        "  <matplotlib.axis.XTick at 0x10f65f110>,\n",
        "  <matplotlib.axis.XTick at 0x10f65f850>,\n",
        "  <matplotlib.axis.XTick at 0x10f65ff90>,\n",
        "  <matplotlib.axis.XTick at 0x10f663710>,\n",
        "  <matplotlib.axis.XTick at 0x10f663e50>,\n",
        "  <matplotlib.axis.XTick at 0x10f6655d0>,\n",
        "  <matplotlib.axis.XTick at 0x10f665d10>,\n",
        "  <matplotlib.axis.XTick at 0x10f667490>,\n",
        "  <matplotlib.axis.XTick at 0x10f667bd0>],\n",
        " <a list of 12 Text xticklabel objects>)"
       ]
      },
      {
       "metadata": {},
       "output_type": "display_data",
       "png": "[encoded data removed]",
       "text": [
        "<matplotlib.figure.Figure at 0x10f422fd0>"
       ]
      }
     ],
     "prompt_number": 25
    },
    {
     "cell_type": "code",
     "collapsed": false,
     "input": [
      "from scipy.signal import argrelmax\n",
      "\n",
      "chromaMaxima = argrelmax(chroma, order=2)"
     ],
     "language": "python",
     "metadata": {},
     "outputs": [],
     "prompt_number": 26
    },
    {
     "cell_type": "code",
     "collapsed": false,
     "input": [
      "len(chromaMaxima)"
     ],
     "language": "python",
     "metadata": {},
     "outputs": [
      {
       "metadata": {},
       "output_type": "pyout",
       "prompt_number": 27,
       "text": [
        "1"
       ]
      }
     ],
     "prompt_number": 27
    },
    {
     "cell_type": "code",
     "collapsed": false,
     "input": [
      "attributes[\"harmonics\"][\"variance\"] = float(len(chromaMaxima)) / len(chroma)"
     ],
     "language": "python",
     "metadata": {},
     "outputs": [],
     "prompt_number": 28
    },
    {
     "cell_type": "code",
     "collapsed": false,
     "input": [
      "print attributes[\"harmonics\"]"
     ],
     "language": "python",
     "metadata": {},
     "outputs": [
      {
       "output_type": "stream",
       "stream": "stdout",
       "text": [
        "{'variance': 0.08333333333333333}\n"
       ]
      }
     ],
     "prompt_number": 29
    },
    {
     "cell_type": "markdown",
     "metadata": {},
     "source": [
      "__Timbre__"
     ]
    },
    {
     "cell_type": "code",
     "collapsed": false,
     "input": [
      "print sequenceFeatures[\"SpectralCentroid\"]"
     ],
     "language": "python",
     "metadata": {},
     "outputs": [
      {
       "output_type": "stream",
       "stream": "stdout",
       "text": [
        "[0.128477237489022, 0.1335336710749702, 0.13987836754828128, 0.13606589809060096, 0.13487700105955203, 0.14201606863311358, 0.11733417741105526, 0.14359282418930283, 0.11629918989975278, 0.12124376087671235, 0.13538654901239336, 0.13706947914233394, 0.14855148284783903]\n"
       ]
      }
     ],
     "prompt_number": 30
    },
    {
     "cell_type": "code",
     "collapsed": false,
     "input": [
      "print sequenceFeatures[\"Roughness\"]"
     ],
     "language": "python",
     "metadata": {},
     "outputs": [
      {
       "output_type": "stream",
       "stream": "stdout",
       "text": [
        "[1.2831455484995106e-08, 0.00022295690988275138, 0.0012150454821374228, 0.0010062869982158935, 6.52882270514965e-05, 0.0022003315816804462, 0.0007396834870045887, 0.0013299716598567102, 0.00022507542971430755, 0.00045125009048552743, 0.0015909623126594387, 0.0006260960271545485, 0.001223959502413153]\n"
       ]
      }
     ],
     "prompt_number": 31
    },
    {
     "cell_type": "code",
     "collapsed": false,
     "input": [
      "attributes[\"timbre\"][\"roughness\"] = np.median(sequenceFeatures[\"Roughness\"])\n",
      "attributes[\"timbre\"][\"brightness\"] = np.median(sequenceFeatures[\"SpectralCentroid\"])"
     ],
     "language": "python",
     "metadata": {},
     "outputs": [],
     "prompt_number": 32
    },
    {
     "cell_type": "code",
     "collapsed": false,
     "input": [
      "print attributes[\"timbre\"]"
     ],
     "language": "python",
     "metadata": {},
     "outputs": [
      {
       "output_type": "stream",
       "stream": "stdout",
       "text": [
        "{'brightness': 0.13538654901239336, 'roughness': 0.00073968348700458866}\n"
       ]
      }
     ],
     "prompt_number": 33
    },
    {
     "cell_type": "markdown",
     "metadata": {},
     "source": [
      "<hr>"
     ]
    },
    {
     "cell_type": "markdown",
     "metadata": {},
     "source": [
      "**Abspeichern in der Datenbank**"
     ]
    },
    {
     "cell_type": "code",
     "collapsed": false,
     "input": [
      "pprint(attributes)"
     ],
     "language": "python",
     "metadata": {},
     "outputs": [
      {
       "output_type": "stream",
       "stream": "stdout",
       "text": [
        "{'dynamics': {'median': 0.08042532456403767, 'range': 0.9129868458151974},\n",
        " 'harmonics': {'variance': 0.08333333333333333},\n",
        " 'melodics': {'median': 24.489386051068109,\n",
        "              'range': 28.640273902037954,\n",
        "              'variance': 0.8},\n",
        " 'rhythmics': {'tempo': 37.373184321556252, 'variance': 0.3076923076923077},\n",
        " 'timbre': {'brightness': 0.13538654901239336,\n",
        "            'roughness': 0.00073968348700458866}}\n"
       ]
      }
     ],
     "prompt_number": 34
    },
    {
     "cell_type": "code",
     "collapsed": false,
     "input": [
      "def phenotypeForSequence(sequence,sonicevents,audio):\n",
      "    \n",
      "    events = sonicevents[sequence[0]:sequence[-1]]\n",
      "    \n",
      "    sequenceAudio = audio[events[0][\"start\"]:events[-1][\"end\"]]\n",
      "    \n",
      "    sequenceFeatures = {}\n",
      "    sequenceFeatures[\"duration\"] = []\n",
      "    for feature in events[0][\"features\"]:\n",
      "        sequenceFeatures[feature] = []\n",
      "    \n",
      "    \n",
      "    for event in events:\n",
      "        sequenceFeatures[\"duration\"].append((event[\"end\"]-event[\"start\"])/samplerate)\n",
      "        for feature in event[\"features\"]:\n",
      "            if (type(event[\"features\"][feature])==type(dict())):\n",
      "                value = event[\"features\"][feature][\"mean\"]\n",
      "            else:\n",
      "                value = event[\"features\"][feature]\n",
      "                \n",
      "            sequenceFeatures[feature].append(value)\n",
      "    \n",
      "    attributesList = [\"dynamics\",\"rhythmics\",\"melodics\",\"harmonics\",\"timbre\"]\n",
      "    attributes = {}\n",
      "    \n",
      "    for attribute in attributesList:\n",
      "        attributes[attribute] = {}\n",
      "        \n",
      "    attributes[\"dynamics\"][\"range\"] = abs(np.amax(sequenceFeatures[\"Loudness\"])-np.amin(sequenceFeatures[\"Loudness\"]))\n",
      "    attributes[\"dynamics\"][\"median\"] = np.median(sequenceFeatures[\"Loudness\"])\n",
      "\n",
      "        \n",
      "    microtime = np.amin(sequenceFeatures[\"duration\"])\n",
      "    hist,bins = np.histogram(sequenceFeatures[\"duration\"]/microtime)\n",
      "    attributes[\"rhythmics\"][\"variance\"] = float(len(hist[np.nonzero(hist)])) / len(sequenceFeatures[\"duration\"])\n",
      "    attributes[\"rhythmics\"][\"tempo\"] = 60 / ((bins[np.argmax(hist)] + bins[np.argmax(hist)+1]) / 2.0)\n",
      "\n",
      "    pitches = np.asarray(sequenceFeatures[\"Pitch\"])\n",
      "    detectedPitches = pitches[np.nonzero(sequenceFeatures[\"Pitch\"])]\n",
      "    Pitches = (np.log(detectedPitches) - np.log(tuningFrequency)) / np.log(2) * 12 + 69\n",
      "    if len(Pitches)>0:\n",
      "    \thist,bins = np.histogram(Pitches)\n",
      "    \tattributes[\"melodics\"][\"variance\"] = float(len(hist[np.nonzero(hist)])) / len(Pitches)\n",
      "    \tattributes[\"melodics\"][\"range\"] = abs(np.amax(Pitches)-np.amin(Pitches))\n",
      "    \tattributes[\"melodics\"][\"median\"] = np.median(Pitches)\n",
      "    else:\n",
      "    \tattributes[\"melodics\"][\"variance\"] = nan\n",
      "    \tattributes[\"melodics\"][\"range\"] = nan\n",
      "    \tattributes[\"melodics\"][\"median\"] = nan\n",
      "\n",
      "    spec = essentia.standard.Spectrum()\n",
      "    SpectralPeaks = essentia.standard.SpectralPeaks(sampleRate=samplerate)\n",
      "    HPCP = essentia.standard.HPCP(sampleRate=samplerate)\n",
      "    Key = essentia.standard.Key()\n",
      "\n",
      "    spectrum = spec(sequenceAudio)\n",
      "    peaks = SpectralPeaks(spectrum)\n",
      "    chroma = HPCP(peaks[0],peaks[1])\n",
      "    key = Key(chroma)\n",
      "\n",
      "    from scipy.signal import argrelmax\n",
      "\n",
      "    chromaMaxima = argrelmax(chroma, order=2)\n",
      "    attributes[\"harmonics\"][\"variance\"] = float(len(chromaMaxima)) / len(chroma)\n",
      "\n",
      "    attributes[\"timbre\"][\"roughness\"] = np.median(sequenceFeatures[\"Roughness\"])\n",
      "    attributes[\"timbre\"][\"brightness\"] = np.median(sequenceFeatures[\"SpectralCentroid\"])\n",
      "\n",
      "    return attributes"
     ],
     "language": "python",
     "metadata": {},
     "outputs": [],
     "prompt_number": 49
    },
    {
     "cell_type": "code",
     "collapsed": false,
     "input": [
      "phenotypes = []\n",
      "\n",
      "for i in range(0,len(sequences)):\n",
      "    phenotypes.append(phenotypeForSequence(sequences[i],sonicevents,audio))"
     ],
     "language": "python",
     "metadata": {},
     "outputs": [],
     "prompt_number": 50
    },
    {
     "cell_type": "code",
     "collapsed": false,
     "input": [
      "import json\n",
      "import sqlite3 as lite\n",
      "db = lite.connect('genImpro.db')\n",
      "c = db.cursor() \n",
      "\n",
      "def updatePhenotypesForTrack(track,sequences,phenotypes):\n",
      "    \n",
      "    for i in range(0,len(sequences)):\n",
      "        events = json.dumps(sequences[i])\n",
      "        phenotype = json.dumps(phenotypes[i])\n",
      "        sqlcommand = \"UPDATE sequences SET phenotype=%s where trackID=%i AND events=%s\" % (repr(phenotype),track[3],repr(events))\n",
      "        c.execute(sqlcommand)\n",
      "        db.commit()\n",
      "        \n",
      "    print \"Updated %i phenotypes for track %i\" % (len(phenotypes),track[3])"
     ],
     "language": "python",
     "metadata": {},
     "outputs": [],
     "prompt_number": 51
    },
    {
     "cell_type": "code",
     "collapsed": false,
     "input": [
      "updatePhenotypesForTrack(analysedTrack,sequences,phenotypes)"
     ],
     "language": "python",
     "metadata": {},
     "outputs": [
      {
       "output_type": "stream",
       "stream": "stdout",
       "text": [
        "Updated 97 phenotypes for track 1\n"
       ]
      }
     ],
     "prompt_number": 52
    },
    {
     "cell_type": "markdown",
     "metadata": {},
     "source": [
      "**Ph\u00e4notypen aus Datenbank auslesen**"
     ]
    },
    {
     "cell_type": "code",
     "collapsed": false,
     "input": [
      "def getPhenotypesForTrack(track):\n",
      "    sqlcommand = \"SELECT phenotype FROM sequences where trackID=%i\" % (track[3])\n",
      "    c.execute(sqlcommand)\n",
      "    data = c.fetchall()\n",
      "\n",
      "    phenotypes = []\n",
      "    \n",
      "    for phenotype in data:\n",
      "        phenotypes.append(json.loads(phenotype[0]))\n",
      "        \n",
      "    return phenotypes"
     ],
     "language": "python",
     "metadata": {},
     "outputs": [],
     "prompt_number": 39
    },
    {
     "cell_type": "code",
     "collapsed": false,
     "input": [
      "phenotypes2 = getPhenotypesForTrack(analysedTrack)"
     ],
     "language": "python",
     "metadata": {},
     "outputs": [],
     "prompt_number": 40
    },
    {
     "cell_type": "code",
     "collapsed": false,
     "input": [
      "len(phenotypes2)"
     ],
     "language": "python",
     "metadata": {},
     "outputs": [
      {
       "metadata": {},
       "output_type": "pyout",
       "prompt_number": 41,
       "text": [
        "97"
       ]
      }
     ],
     "prompt_number": 41
    }
   ],
   "metadata": {}
  }
 ]
}