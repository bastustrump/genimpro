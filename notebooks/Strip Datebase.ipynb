{
 "metadata": {
  "name": "",
  "signature": "sha256:de20482c09cfc945ccbbbb3f24e6ac8c5cec9af73f60e18b63d9ceadc6f70517"
 },
 "nbformat": 3,
 "nbformat_minor": 0,
 "worksheets": [
  {
   "cells": [
    {
     "cell_type": "code",
     "collapsed": false,
     "input": [
      "cd /Users/bastus/Desktop/Forschungsprojekt/genimpro"
     ],
     "language": "python",
     "metadata": {},
     "outputs": [
      {
       "output_type": "stream",
       "stream": "stdout",
       "text": [
        "/Users/bastus/Desktop/Forschungsprojekt/genimpro\n"
       ]
      }
     ],
     "prompt_number": 1
    },
    {
     "cell_type": "code",
     "collapsed": false,
     "input": [
      "import sqlite3 as lite\n",
      "import json\n",
      "\n",
      "db = lite.connect('genImpro-stripped.db')\n",
      "c = db.cursor() "
     ],
     "language": "python",
     "metadata": {},
     "outputs": [],
     "prompt_number": 3
    },
    {
     "cell_type": "code",
     "collapsed": false,
     "input": [
      "meta = c.execute(\"PRAGMA table_info('tracks')\")\n",
      "for r in meta:\n",
      "    print r"
     ],
     "language": "python",
     "metadata": {},
     "outputs": [
      {
       "output_type": "stream",
       "stream": "stdout",
       "text": [
        "(0, u'ID', u'INTEGER', 1, None, 1)\n",
        "(1, u'recordingID', u'INTEGER', 0, None, 0)\n",
        "(2, u'playerID', u'INTEGER', 0, None, 0)\n",
        "(3, u'audiofile', u'TEXT', 0, None, 0)\n",
        "(4, u'sonicevents', u'TEXT', 0, None, 0)\n"
       ]
      }
     ],
     "prompt_number": 4
    },
    {
     "cell_type": "code",
     "collapsed": false,
     "input": [
      "sqlcommand = \"Update tracks SET sonicevents=NULL\"\n",
      "c.execute(sqlcommand)\n",
      "db.commit()"
     ],
     "language": "python",
     "metadata": {},
     "outputs": [],
     "prompt_number": 6
    }
   ],
   "metadata": {}
  }
 ]
}