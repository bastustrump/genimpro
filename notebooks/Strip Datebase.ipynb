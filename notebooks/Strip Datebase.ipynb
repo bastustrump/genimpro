{
 "metadata": {
  "name": "",
  "signature": "sha256:a7fd6bab63dd975a2d34d4524cd77730b37bec1b42e0cc7df353fdfcaaba4227"
 },
 "nbformat": 3,
 "nbformat_minor": 0,
 "worksheets": [
  {
   "cells": [
    {
     "cell_type": "code",
     "collapsed": false,
     "input": [
      "cd /Users/bastus/Desktop/Forschungsprojekt/genimpro"
     ],
     "language": "python",
     "metadata": {},
     "outputs": [
      {
       "output_type": "stream",
       "stream": "stdout",
       "text": [
        "/Users/bastus/Desktop/Forschungsprojekt/genimpro\n"
       ]
      }
     ],
     "prompt_number": 5
    },
    {
     "cell_type": "code",
     "collapsed": false,
     "input": [
      "import sqlite3 as lite\n",
      "import json\n",
      "\n",
      "db = lite.connect('genImpro.db')\n",
      "c = db.cursor() "
     ],
     "language": "python",
     "metadata": {},
     "outputs": [],
     "prompt_number": 6
    },
    {
     "cell_type": "code",
     "collapsed": false,
     "input": [
      "meta = c.execute(\"PRAGMA table_info('tracks')\")\n",
      "for r in meta:\n",
      "    print r"
     ],
     "language": "python",
     "metadata": {},
     "outputs": [
      {
       "output_type": "stream",
       "stream": "stdout",
       "text": [
        "(0, u'ID', u'INTEGER', 1, None, 1)\n",
        "(1, u'recordingID', u'INTEGER', 0, None, 0)\n",
        "(2, u'playerID', u'INTEGER', 0, None, 0)\n",
        "(3, u'audiofile', u'TEXT', 0, None, 0)\n",
        "(4, u'sonicevents', u'TEXT', 0, None, 0)\n"
       ]
      }
     ],
     "prompt_number": 7
    },
    {
     "cell_type": "code",
     "collapsed": false,
     "input": [
      "sqlcommand = \"Update tracks SET sonicevents=NULL\"\n",
      "c.execute(sqlcommand)\n",
      "db.commit()"
     ],
     "language": "python",
     "metadata": {},
     "outputs": [],
     "prompt_number": 10
    },
    {
     "cell_type": "code",
     "collapsed": false,
     "input": [
      "sqlcommand = \"VACUUM\"\n",
      "c.execute(sqlcommand)\n",
      "db.commit()"
     ],
     "language": "python",
     "metadata": {},
     "outputs": [],
     "prompt_number": 11
    }
   ],
   "metadata": {}
  }
 ]
}