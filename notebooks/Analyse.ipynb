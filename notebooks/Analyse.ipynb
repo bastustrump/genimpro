{
 "metadata": {
  "name": "",
  "signature": "sha256:15e7ce0f211d411a25cfa815bac99b50d488f28aa8ec3ec5ee6f73474cd71941"
 },
 "nbformat": 3,
 "nbformat_minor": 0,
 "worksheets": [
  {
   "cells": [
    {
     "cell_type": "code",
     "collapsed": false,
     "input": [
      "cd /Users/bastus/Desktop/Forschungsprojekt/genimpro"
     ],
     "language": "python",
     "metadata": {},
     "outputs": [
      {
       "output_type": "stream",
       "stream": "stdout",
       "text": [
        "/Users/bastus/Desktop/Forschungsprojekt/genimpro\n"
       ]
      }
     ],
     "prompt_number": 1
    },
    {
     "cell_type": "code",
     "collapsed": false,
     "input": [
      "%run importwrapper.py\n",
      "%pylab inline"
     ],
     "language": "python",
     "metadata": {},
     "outputs": [
      {
       "output_type": "stream",
       "stream": "stdout",
       "text": [
        "Populating the interactive namespace from numpy and matplotlib\n"
       ]
      }
     ],
     "prompt_number": 2
    },
    {
     "cell_type": "code",
     "collapsed": false,
     "input": [
      "def analyseTrack(track,updateAll=0):\n",
      "    \n",
      "    audio = genimpro.recordings.getAudioForTrack(track)\n",
      "    sonicevents = genimpro.recordings.getSoniceventsForTrack(track)\n",
      "    sequences = genimpro.recordings.getSequencesForTrack(track)\n",
      "    phenotypes = genimpro.recordings.getPhenotypesForTrack(track)\n",
      "    genotypes = genimpro.recordings.getGenotypesForTrack(track)\n",
      "    \n",
      "    if (sonicevents==None) | updateAll:\n",
      "        sonicevents = genimpro.soniceventsForTrack(track)\n",
      "        genimpro.recordings.updateSoniceventsForTrack(track,sonicevents)\n",
      "        \n",
      "        sequences = genimpro.grouping.sequencesForSonicevents(sonicevents)\n",
      "        genimpro.recordings.updateSequencesForTrack(track,sequences,sonicevents)\n",
      "        \n",
      "        phenotypes = genimpro.phenotypesForSequences(sequences,sonicevents,audio)\n",
      "        genimpro.recordings.updatePhenotypesForTrack(track,sequences,phenotypes)\n",
      "\n",
      "        genotypes = genimpro.genotypesForSequences(phenotypes)\n",
      "        genimpro.recordings.updateGenotypesForTrack(track,sequences,genotypes)\n",
      "\n",
      "        return\n",
      "        \n",
      "    if (sequences==None) | updateAll:\n",
      "        sequences = genimpro.grouping.sequencesForSonicevents(sonicevents)\n",
      "        genimpro.recordings.updateSequencesForTrack(track,sequences,sonicevents)\n",
      "    \n",
      "        phenotypes = genimpro.phenotypesForSequences(sequences,sonicevents,audio)\n",
      "        genimpro.recordings.updatePhenotypesForTrack(track,sequences,phenotypes)\n",
      "\n",
      "        genotypes = genimpro.genotypesForSequences(phenotypes)\n",
      "        genimpro.recordings.updateGenotypesForTrack(track,sequences,genotypes)\n",
      "        \n",
      "        return\n",
      "        \n",
      "    if (phenotypes==None) | updateAll:\n",
      "        phenotypes = genimpro.phenotypesForSequences(sequences,sonicevents,audio)\n",
      "        genimpro.recordings.updatePhenotypesForTrack(track,sequences,phenotypes)   \n",
      "\n",
      "        genotypes = genimpro.genotypesForSequences(phenotypes)\n",
      "        genimpro.recordings.updateGenotypesForTrack(track,sequences,genotypes)\n",
      "\n",
      "        return\n",
      "\n",
      "    if (genotypes==None) | updateAll: \n",
      "\n",
      "        genotypes = genimpro.genotypesForSequences(phenotypes)\n",
      "        genimpro.recordings.updateGenotypesForTrack(track,sequences,genotypes)        \n",
      "        \n"
     ],
     "language": "python",
     "metadata": {},
     "outputs": [],
     "prompt_number": 3
    },
    {
     "cell_type": "code",
     "collapsed": false,
     "input": [
      "def addRelations(track):\n",
      "    (genotypes,sequenceData) = genimpro.recordings.prepareDataForRelations(track[3])\n",
      "    sequences = genimpro.recordings.getSequencesForTrack(track)\n",
      "    relations = genimpro.calculateRelationsForGenotypes(genotypes,sequenceData)\n",
      "    relations = relations[0:len(sequences)]\n",
      "    genimpro.recordings.updateRelationsForTrack(track,sequences,relations)\n"
     ],
     "language": "python",
     "metadata": {},
     "outputs": [],
     "prompt_number": 4
    },
    {
     "cell_type": "code",
     "collapsed": false,
     "input": [
      "def analyseRecording(recordingID,updateAll=0):\n",
      "\n",
      "    recordingDetails = genimpro.recordings.getRecordingDetails(recordingID)\n",
      "    print \"Analysing ID %i: %s on %s:\" % (recordingDetails[0],recordingDetails[1],recordingDetails[2])\n",
      "\n",
      "    for track in recordingDetails[4]:\n",
      "        analyseTrack(track,updateAll=updateAll)\n",
      "    \n",
      "    for track in recordingDetails[4]:\n",
      "        addRelations(track)"
     ],
     "language": "python",
     "metadata": {},
     "outputs": [],
     "prompt_number": 15
    },
    {
     "cell_type": "code",
     "collapsed": false,
     "input": [
      "def analyseSession(sessionID):\n",
      "    recordings = genimpro.recordings.listRecodings(sessionID)\n",
      "    for recordingID in recordings:\n",
      "        analyseRecording(recordingID)"
     ],
     "language": "python",
     "metadata": {},
     "outputs": [],
     "prompt_number": 12
    },
    {
     "cell_type": "code",
     "collapsed": false,
     "input": [
      "analyseSession(2)"
     ],
     "language": "python",
     "metadata": {},
     "outputs": [
      {
       "output_type": "stream",
       "stream": "stdout",
       "text": [
        "select ID from recordings where sessionID=2\n",
        "ID 127: recorder on 2015-08-20 10:00:\n",
        "    Martin Weigert (recorder): 2/664e3329-b099-49ad-a139-c8b791242115.aiff\n",
        "    Johanna Steinborn (recorder): 2/2ad882dd-932b-4573-8811-96829a37d973.aiff\n",
        "ID 128: recorder on 2015-08-20 10:00:\n",
        "    Martin Weigert (recorder): 2/a977e983-d8bf-4d2d-86a7-def3357c1ff1.aiff\n",
        "    Johanna Steinborn (recorder): 2/01a53253-14e0-4323-895d-289a9a0eeb14.aiff\n",
        "ID 129: recorder on 2015-08-20 10:00:\n",
        "    Caroline Hausen (recorder): 2/9d4102b2-9e75-41ae-9222-12ba51bbbcb0.aiff\n",
        "    Johanna Steinborn (recorder): 2/5feeb19c-987a-4b64-b37f-34c6932adf90.aiff\n",
        "ID 130: recorder on 2015-08-20 10:00:\n",
        "    Caroline Hausen (recorder): 2/573a1bc9-089b-4856-a726-a5050269c261.aiff\n",
        "    Johanna Steinborn (recorder): 2/d40da0d4-2613-460e-a075-8f71a8c23cae.aiff\n",
        "ID 131: recorder on 2015-08-20 10:00:\n",
        "    Martin Weigert (recorder): 2/791f2a90-0ec4-4681-a1d7-ca6914fdc066.aiff\n",
        "    Johanna Steinborn (recorder): 2/d947e18b-acce-4301-878f-a586a6209a20.aiff\n",
        "ID 132: recorder on 2015-08-20 10:00:\n",
        "    Caroline Hausen (recorder): 2/d83f6b48-49a3-422b-a183-71937b406855.aiff\n",
        "    Johanna Steinborn (recorder): 2/3f8cf447-c34d-4794-af3e-b73d7ab2f34e.aiff\n",
        "ID 133: recorder on 2015-08-20 10:00:\n",
        "    Martin Weigert (recorder): 2/6c79816a-01ff-4742-8462-3ebba84b7eb8.aiff\n",
        "    Caroline Hausen (recorder): 2/b264c1d3-1737-4df1-99c3-b62e27dfcbf7.aiff\n",
        "ID 134: recorder on 2015-08-20 10:00:\n",
        "    Martin Weigert (recorder): 2/60ea534e-663b-4b29-b7e7-10ef0dd5d6c7.aiff\n",
        "    Caroline Hausen (recorder): 2/2ec91bb1-5f22-4478-85f4-844f7b5e1329.aiff\n",
        "ID 135: recorder on 2015-08-20 10:00:\n",
        "    Martin Weigert (recorder): 2/81cdc61a-8502-4700-b7e1-1e7f5c4052ae.aiff\n",
        "    Johanna Steinborn (recorder): 2/aee18a7c-4f2b-4c6c-bf70-99d919e4c6eb.aiff\n",
        "ID 136: recorder on 2015-08-20 10:00:\n",
        "    Caroline Hausen (recorder): 2/77da74df-6993-48f5-9954-37d6af69c8ec.aiff\n",
        "    Johanna Steinborn (recorder): 2/9980f7c1-b445-41e4-b00e-d1adbb66d9f7.aiff\n",
        "ID 137: recorder on 2015-08-20 10:00:\n",
        "    Martin Weigert (recorder): 2/7e145d94-8e2c-4f92-a975-ac755964cda9.aiff\n",
        "    Caroline Hausen (recorder): 2/75a49c6e-23c7-45ff-bdbc-5bc96797256a.aiff\n",
        "ID 127: recorder on 2015-08-20 10:00:\n",
        "    Johanna Steinborn (recorder): 2/2ad882dd-932b-4573-8811-96829a37d973.aiff"
       ]
      },
      {
       "output_type": "stream",
       "stream": "stdout",
       "text": [
        "\n",
        "    319 onsets found"
       ]
      },
      {
       "output_type": "stream",
       "stream": "stdout",
       "text": [
        "\n",
        "Updated 316 sonicevents for track 64"
       ]
      },
      {
       "output_type": "stream",
       "stream": "stdout",
       "text": [
        "\n",
        "Added 35 sequences for track 64"
       ]
      },
      {
       "output_type": "stream",
       "stream": "stdout",
       "text": [
        "\n",
        "Updated 35 phenotypes for track 64"
       ]
      },
      {
       "output_type": "stream",
       "stream": "stdout",
       "text": [
        "\n",
        "Updated 35 genotypes for track 64"
       ]
      },
      {
       "output_type": "stream",
       "stream": "stdout",
       "text": [
        "\n",
        "Updated relations for track 63"
       ]
      },
      {
       "output_type": "stream",
       "stream": "stdout",
       "text": [
        "\n",
        "Updated relations for track 64"
       ]
      },
      {
       "output_type": "stream",
       "stream": "stdout",
       "text": [
        "\n",
        "ID 128: recorder on 2015-08-20 10:00:\n",
        "    Martin Weigert (recorder): 2/a977e983-d8bf-4d2d-86a7-def3357c1ff1.aiff"
       ]
      },
      {
       "output_type": "stream",
       "stream": "stdout",
       "text": [
        "\n",
        "    89 onsets found"
       ]
      },
      {
       "output_type": "stream",
       "stream": "stdout",
       "text": [
        "\n",
        "Updated 89 sonicevents for track 65"
       ]
      },
      {
       "output_type": "stream",
       "stream": "stdout",
       "text": [
        "\n",
        "Added 22 sequences for track 65"
       ]
      },
      {
       "output_type": "stream",
       "stream": "stdout",
       "text": [
        "\n",
        "Updated 22 phenotypes for track 65"
       ]
      },
      {
       "output_type": "stream",
       "stream": "stdout",
       "text": [
        "\n",
        "Updated 22 genotypes for track 65"
       ]
      },
      {
       "output_type": "stream",
       "stream": "stdout",
       "text": [
        "\n",
        "    Johanna Steinborn (recorder): 2/01a53253-14e0-4323-895d-289a9a0eeb14.aiff"
       ]
      },
      {
       "output_type": "stream",
       "stream": "stdout",
       "text": [
        "\n",
        "    84 onsets found"
       ]
      },
      {
       "output_type": "stream",
       "stream": "stdout",
       "text": [
        "\n",
        "Updated 84 sonicevents for track 66"
       ]
      },
      {
       "output_type": "stream",
       "stream": "stdout",
       "text": [
        "\n",
        "Added 14 sequences for track 66"
       ]
      },
      {
       "output_type": "stream",
       "stream": "stdout",
       "text": [
        "\n",
        "Updated 14 phenotypes for track 66"
       ]
      },
      {
       "output_type": "stream",
       "stream": "stdout",
       "text": [
        "\n",
        "Updated 14 genotypes for track 66"
       ]
      },
      {
       "output_type": "stream",
       "stream": "stdout",
       "text": [
        "\n",
        "Updated relations for track 65"
       ]
      },
      {
       "output_type": "stream",
       "stream": "stdout",
       "text": [
        "\n",
        "Updated relations for track 66"
       ]
      },
      {
       "output_type": "stream",
       "stream": "stdout",
       "text": [
        "\n",
        "ID 129: recorder on 2015-08-20 10:00:\n",
        "    Caroline Hausen (recorder): 2/9d4102b2-9e75-41ae-9222-12ba51bbbcb0.aiff"
       ]
      },
      {
       "output_type": "stream",
       "stream": "stdout",
       "text": [
        "\n",
        "    237 onsets found"
       ]
      },
      {
       "output_type": "stream",
       "stream": "stdout",
       "text": [
        "\n",
        "Updated 237 sonicevents for track 67"
       ]
      },
      {
       "output_type": "stream",
       "stream": "stdout",
       "text": [
        "\n",
        "Added 32 sequences for track 67"
       ]
      },
      {
       "output_type": "stream",
       "stream": "stdout",
       "text": [
        "\n",
        "Updated 32 phenotypes for track 67"
       ]
      },
      {
       "output_type": "stream",
       "stream": "stdout",
       "text": [
        "\n",
        "Updated 32 genotypes for track 67"
       ]
      },
      {
       "output_type": "stream",
       "stream": "stdout",
       "text": [
        "\n",
        "    Johanna Steinborn (recorder): 2/5feeb19c-987a-4b64-b37f-34c6932adf90.aiff"
       ]
      },
      {
       "output_type": "stream",
       "stream": "stdout",
       "text": [
        "\n",
        "    212 onsets found"
       ]
      },
      {
       "output_type": "stream",
       "stream": "stdout",
       "text": [
        "\n",
        "Updated 212 sonicevents for track 68"
       ]
      },
      {
       "output_type": "stream",
       "stream": "stdout",
       "text": [
        "\n",
        "Added 30 sequences for track 68"
       ]
      },
      {
       "output_type": "stream",
       "stream": "stdout",
       "text": [
        "\n",
        "Updated 30 phenotypes for track 68"
       ]
      },
      {
       "output_type": "stream",
       "stream": "stdout",
       "text": [
        "\n",
        "Updated 30 genotypes for track 68"
       ]
      },
      {
       "output_type": "stream",
       "stream": "stdout",
       "text": [
        "\n",
        "Updated relations for track 67"
       ]
      },
      {
       "output_type": "stream",
       "stream": "stdout",
       "text": [
        "\n",
        "Updated relations for track 68"
       ]
      },
      {
       "output_type": "stream",
       "stream": "stdout",
       "text": [
        "\n",
        "ID 130: recorder on 2015-08-20 10:00:\n",
        "    Caroline Hausen (recorder): 2/573a1bc9-089b-4856-a726-a5050269c261.aiff"
       ]
      },
      {
       "output_type": "stream",
       "stream": "stdout",
       "text": [
        "\n",
        "    166 onsets found"
       ]
      },
      {
       "output_type": "stream",
       "stream": "stdout",
       "text": [
        "\n",
        "Updated 166 sonicevents for track 69"
       ]
      },
      {
       "output_type": "stream",
       "stream": "stdout",
       "text": [
        "\n",
        "Added 34 sequences for track 69"
       ]
      },
      {
       "output_type": "stream",
       "stream": "stdout",
       "text": [
        "\n",
        "Updated 34 phenotypes for track 69"
       ]
      },
      {
       "output_type": "stream",
       "stream": "stdout",
       "text": [
        "\n",
        "Updated 34 genotypes for track 69"
       ]
      },
      {
       "output_type": "stream",
       "stream": "stdout",
       "text": [
        "\n",
        "    Johanna Steinborn (recorder): 2/d40da0d4-2613-460e-a075-8f71a8c23cae.aiff"
       ]
      },
      {
       "output_type": "stream",
       "stream": "stdout",
       "text": [
        "\n",
        "    312 onsets found"
       ]
      },
      {
       "output_type": "stream",
       "stream": "stdout",
       "text": [
        "\n",
        "Updated 312 sonicevents for track 70"
       ]
      },
      {
       "output_type": "stream",
       "stream": "stdout",
       "text": [
        "\n",
        "Added 58 sequences for track 70"
       ]
      },
      {
       "output_type": "stream",
       "stream": "stdout",
       "text": [
        "\n",
        "Updated 58 phenotypes for track 70"
       ]
      },
      {
       "output_type": "stream",
       "stream": "stdout",
       "text": [
        "\n",
        "Updated 58 genotypes for track 70"
       ]
      },
      {
       "output_type": "stream",
       "stream": "stdout",
       "text": [
        "\n",
        "Updated relations for track 69"
       ]
      },
      {
       "output_type": "stream",
       "stream": "stdout",
       "text": [
        "\n",
        "Updated relations for track 70"
       ]
      },
      {
       "output_type": "stream",
       "stream": "stdout",
       "text": [
        "\n",
        "ID 131: recorder on 2015-08-20 10:00:\n",
        "    Martin Weigert (recorder): 2/791f2a90-0ec4-4681-a1d7-ca6914fdc066.aiff"
       ]
      },
      {
       "output_type": "stream",
       "stream": "stdout",
       "text": [
        "\n",
        "    361 onsets found"
       ]
      },
      {
       "output_type": "stream",
       "stream": "stdout",
       "text": [
        "\n",
        "Updated 361 sonicevents for track 71"
       ]
      },
      {
       "output_type": "stream",
       "stream": "stdout",
       "text": [
        "\n",
        "Added 62 sequences for track 71"
       ]
      },
      {
       "output_type": "stream",
       "stream": "stdout",
       "text": [
        "\n",
        "Updated 62 phenotypes for track 71"
       ]
      },
      {
       "output_type": "stream",
       "stream": "stdout",
       "text": [
        "\n",
        "Updated 62 genotypes for track 71"
       ]
      },
      {
       "output_type": "stream",
       "stream": "stdout",
       "text": [
        "\n",
        "    Johanna Steinborn (recorder): 2/d947e18b-acce-4301-878f-a586a6209a20.aiff"
       ]
      },
      {
       "output_type": "stream",
       "stream": "stdout",
       "text": [
        "\n",
        "    379 onsets found"
       ]
      },
      {
       "output_type": "stream",
       "stream": "stdout",
       "text": [
        "\n",
        "Updated 378 sonicevents for track 72"
       ]
      },
      {
       "output_type": "stream",
       "stream": "stdout",
       "text": [
        "\n",
        "Added 51 sequences for track 72"
       ]
      },
      {
       "output_type": "stream",
       "stream": "stdout",
       "text": [
        "\n",
        "Updated 51 phenotypes for track 72"
       ]
      },
      {
       "output_type": "stream",
       "stream": "stdout",
       "text": [
        "\n",
        "Updated 51 genotypes for track 72"
       ]
      },
      {
       "output_type": "stream",
       "stream": "stdout",
       "text": [
        "\n",
        "Updated relations for track 71"
       ]
      },
      {
       "output_type": "stream",
       "stream": "stdout",
       "text": [
        "\n",
        "Updated relations for track 72"
       ]
      },
      {
       "output_type": "stream",
       "stream": "stdout",
       "text": [
        "\n",
        "ID 132: recorder on 2015-08-20 10:00:\n",
        "    Caroline Hausen (recorder): 2/d83f6b48-49a3-422b-a183-71937b406855.aiff"
       ]
      },
      {
       "output_type": "stream",
       "stream": "stdout",
       "text": [
        "\n",
        "    234 onsets found"
       ]
      },
      {
       "output_type": "stream",
       "stream": "stdout",
       "text": [
        "\n",
        "Updated 234 sonicevents for track 73"
       ]
      },
      {
       "output_type": "stream",
       "stream": "stdout",
       "text": [
        "\n",
        "Added 40 sequences for track 73"
       ]
      },
      {
       "output_type": "stream",
       "stream": "stdout",
       "text": [
        "\n",
        "Updated 40 phenotypes for track 73"
       ]
      },
      {
       "output_type": "stream",
       "stream": "stdout",
       "text": [
        "\n",
        "Updated 40 genotypes for track 73"
       ]
      },
      {
       "output_type": "stream",
       "stream": "stdout",
       "text": [
        "\n",
        "    Johanna Steinborn (recorder): 2/3f8cf447-c34d-4794-af3e-b73d7ab2f34e.aiff"
       ]
      },
      {
       "output_type": "stream",
       "stream": "stdout",
       "text": [
        "\n",
        "    250 onsets found"
       ]
      },
      {
       "output_type": "stream",
       "stream": "stdout",
       "text": [
        "\n",
        "Updated 250 sonicevents for track 74"
       ]
      },
      {
       "output_type": "stream",
       "stream": "stdout",
       "text": [
        "\n",
        "Added 40 sequences for track 74"
       ]
      },
      {
       "output_type": "stream",
       "stream": "stdout",
       "text": [
        "\n",
        "Updated 40 phenotypes for track 74"
       ]
      },
      {
       "output_type": "stream",
       "stream": "stdout",
       "text": [
        "\n",
        "Updated 40 genotypes for track 74"
       ]
      },
      {
       "output_type": "stream",
       "stream": "stdout",
       "text": [
        "\n",
        "Updated relations for track 73"
       ]
      },
      {
       "output_type": "stream",
       "stream": "stdout",
       "text": [
        "\n",
        "Updated relations for track 74"
       ]
      },
      {
       "output_type": "stream",
       "stream": "stdout",
       "text": [
        "\n",
        "ID 133: recorder on 2015-08-20 10:00:\n",
        "    Caroline Hausen (recorder): 2/b264c1d3-1737-4df1-99c3-b62e27dfcbf7.aiff"
       ]
      },
      {
       "output_type": "stream",
       "stream": "stdout",
       "text": [
        "\n",
        "    405 onsets found"
       ]
      },
      {
       "output_type": "stream",
       "stream": "stdout",
       "text": [
        "\n",
        "Updated 404 sonicevents for track 76"
       ]
      },
      {
       "output_type": "stream",
       "stream": "stdout",
       "text": [
        "\n",
        "Added 58 sequences for track 76"
       ]
      },
      {
       "output_type": "stream",
       "stream": "stdout",
       "text": [
        "\n",
        "Updated 58 phenotypes for track 76"
       ]
      },
      {
       "output_type": "stream",
       "stream": "stdout",
       "text": [
        "\n",
        "Updated 58 genotypes for track 76"
       ]
      },
      {
       "output_type": "stream",
       "stream": "stdout",
       "text": [
        "\n",
        "Updated relations for track 75"
       ]
      },
      {
       "output_type": "stream",
       "stream": "stdout",
       "text": [
        "\n",
        "Updated relations for track 76"
       ]
      },
      {
       "output_type": "stream",
       "stream": "stdout",
       "text": [
        "\n",
        "ID 134: recorder on 2015-08-20 10:00:\n",
        "    Martin Weigert (recorder): 2/60ea534e-663b-4b29-b7e7-10ef0dd5d6c7.aiff"
       ]
      },
      {
       "output_type": "stream",
       "stream": "stdout",
       "text": [
        "\n",
        "    536 onsets found"
       ]
      },
      {
       "output_type": "stream",
       "stream": "stdout",
       "text": [
        "\n",
        "Updated 536 sonicevents for track 77"
       ]
      },
      {
       "output_type": "stream",
       "stream": "stdout",
       "text": [
        "\n",
        "Added 76 sequences for track 77"
       ]
      },
      {
       "output_type": "stream",
       "stream": "stdout",
       "text": [
        "\n",
        "Updated 76 phenotypes for track 77"
       ]
      },
      {
       "output_type": "stream",
       "stream": "stdout",
       "text": [
        "\n",
        "Updated 76 genotypes for track 77"
       ]
      },
      {
       "output_type": "stream",
       "stream": "stdout",
       "text": [
        "\n",
        "    Caroline Hausen (recorder): 2/2ec91bb1-5f22-4478-85f4-844f7b5e1329.aiff"
       ]
      },
      {
       "output_type": "stream",
       "stream": "stdout",
       "text": [
        "\n",
        "    253 onsets found"
       ]
      },
      {
       "output_type": "stream",
       "stream": "stdout",
       "text": [
        "\n",
        "Updated 253 sonicevents for track 78"
       ]
      },
      {
       "output_type": "stream",
       "stream": "stdout",
       "text": [
        "\n",
        "Added 32 sequences for track 78"
       ]
      },
      {
       "output_type": "stream",
       "stream": "stdout",
       "text": [
        "\n",
        "Updated 32 phenotypes for track 78"
       ]
      },
      {
       "output_type": "stream",
       "stream": "stdout",
       "text": [
        "\n",
        "Updated 32 genotypes for track 78"
       ]
      },
      {
       "output_type": "stream",
       "stream": "stdout",
       "text": [
        "\n",
        "Updated relations for track 77"
       ]
      },
      {
       "output_type": "stream",
       "stream": "stdout",
       "text": [
        "\n",
        "Updated relations for track 78"
       ]
      },
      {
       "output_type": "stream",
       "stream": "stdout",
       "text": [
        "\n",
        "ID 135: recorder on 2015-08-20 10:00:\n",
        "    Martin Weigert (recorder): 2/81cdc61a-8502-4700-b7e1-1e7f5c4052ae.aiff"
       ]
      },
      {
       "output_type": "stream",
       "stream": "stdout",
       "text": [
        "\n",
        "    568 onsets found"
       ]
      },
      {
       "output_type": "stream",
       "stream": "stdout",
       "text": [
        "\n",
        "Updated 564 sonicevents for track 79"
       ]
      },
      {
       "output_type": "stream",
       "stream": "stdout",
       "text": [
        "\n",
        "Added 72 sequences for track 79"
       ]
      },
      {
       "output_type": "stream",
       "stream": "stdout",
       "text": [
        "\n",
        "Updated 72 phenotypes for track 79"
       ]
      },
      {
       "output_type": "stream",
       "stream": "stdout",
       "text": [
        "\n",
        "Updated 72 genotypes for track 79"
       ]
      },
      {
       "output_type": "stream",
       "stream": "stdout",
       "text": [
        "\n",
        "    Johanna Steinborn (recorder): 2/aee18a7c-4f2b-4c6c-bf70-99d919e4c6eb.aiff"
       ]
      },
      {
       "output_type": "stream",
       "stream": "stdout",
       "text": [
        "\n",
        "    417 onsets found"
       ]
      },
      {
       "output_type": "stream",
       "stream": "stdout",
       "text": [
        "\n",
        "Updated 417 sonicevents for track 80"
       ]
      },
      {
       "output_type": "stream",
       "stream": "stdout",
       "text": [
        "\n",
        "Added 48 sequences for track 80"
       ]
      },
      {
       "output_type": "stream",
       "stream": "stdout",
       "text": [
        "\n",
        "Updated 48 phenotypes for track 80"
       ]
      },
      {
       "output_type": "stream",
       "stream": "stdout",
       "text": [
        "\n",
        "Updated 48 genotypes for track 80"
       ]
      },
      {
       "output_type": "stream",
       "stream": "stdout",
       "text": [
        "\n",
        "Updated relations for track 79"
       ]
      },
      {
       "output_type": "stream",
       "stream": "stdout",
       "text": [
        "\n",
        "Updated relations for track 80"
       ]
      },
      {
       "output_type": "stream",
       "stream": "stdout",
       "text": [
        "\n",
        "ID 136: recorder on 2015-08-20 10:00:\n",
        "    Caroline Hausen (recorder): 2/77da74df-6993-48f5-9954-37d6af69c8ec.aiff"
       ]
      },
      {
       "output_type": "stream",
       "stream": "stdout",
       "text": [
        "\n",
        "    703 onsets found"
       ]
      },
      {
       "output_type": "stream",
       "stream": "stdout",
       "text": [
        "\n",
        "Updated 699 sonicevents for track 81"
       ]
      },
      {
       "output_type": "stream",
       "stream": "stdout",
       "text": [
        "\n",
        "Added 116 sequences for track 81"
       ]
      },
      {
       "output_type": "stream",
       "stream": "stdout",
       "text": [
        "\n",
        "Updated 116 phenotypes for track 81"
       ]
      },
      {
       "output_type": "stream",
       "stream": "stdout",
       "text": [
        "\n",
        "Updated 116 genotypes for track 81"
       ]
      },
      {
       "output_type": "stream",
       "stream": "stdout",
       "text": [
        "\n",
        "    Johanna Steinborn (recorder): 2/9980f7c1-b445-41e4-b00e-d1adbb66d9f7.aiff"
       ]
      },
      {
       "output_type": "stream",
       "stream": "stdout",
       "text": [
        "\n",
        "    673 onsets found"
       ]
      },
      {
       "output_type": "stream",
       "stream": "stdout",
       "text": [
        "\n",
        "Updated 670 sonicevents for track 82"
       ]
      },
      {
       "output_type": "stream",
       "stream": "stdout",
       "text": [
        "\n",
        "Added 97 sequences for track 82"
       ]
      },
      {
       "output_type": "stream",
       "stream": "stdout",
       "text": [
        "\n",
        "Updated 97 phenotypes for track 82"
       ]
      },
      {
       "output_type": "stream",
       "stream": "stdout",
       "text": [
        "\n",
        "Updated 97 genotypes for track 82"
       ]
      },
      {
       "output_type": "stream",
       "stream": "stdout",
       "text": [
        "\n",
        "Updated relations for track 81"
       ]
      },
      {
       "output_type": "stream",
       "stream": "stdout",
       "text": [
        "\n",
        "Updated relations for track 82"
       ]
      },
      {
       "output_type": "stream",
       "stream": "stdout",
       "text": [
        "\n",
        "ID 137: recorder on 2015-08-20 10:00:\n",
        "    Martin Weigert (recorder): 2/7e145d94-8e2c-4f92-a975-ac755964cda9.aiff"
       ]
      },
      {
       "output_type": "stream",
       "stream": "stdout",
       "text": [
        "\n",
        "    200 onsets found"
       ]
      },
      {
       "output_type": "stream",
       "stream": "stdout",
       "text": [
        "\n",
        "Updated 199 sonicevents for track 83"
       ]
      },
      {
       "output_type": "stream",
       "stream": "stdout",
       "text": [
        "\n",
        "Added 29 sequences for track 83"
       ]
      },
      {
       "output_type": "stream",
       "stream": "stdout",
       "text": [
        "\n",
        "Updated 29 phenotypes for track 83"
       ]
      },
      {
       "output_type": "stream",
       "stream": "stdout",
       "text": [
        "\n",
        "Updated 29 genotypes for track 83"
       ]
      },
      {
       "output_type": "stream",
       "stream": "stdout",
       "text": [
        "\n",
        "    Caroline Hausen (recorder): 2/75a49c6e-23c7-45ff-bdbc-5bc96797256a.aiff"
       ]
      },
      {
       "output_type": "stream",
       "stream": "stdout",
       "text": [
        "\n",
        "    176 onsets found"
       ]
      },
      {
       "output_type": "stream",
       "stream": "stdout",
       "text": [
        "\n",
        "Updated 176 sonicevents for track 84"
       ]
      },
      {
       "output_type": "stream",
       "stream": "stdout",
       "text": [
        "\n",
        "Added 21 sequences for track 84"
       ]
      },
      {
       "output_type": "stream",
       "stream": "stdout",
       "text": [
        "\n",
        "Updated 21 phenotypes for track 84"
       ]
      },
      {
       "output_type": "stream",
       "stream": "stdout",
       "text": [
        "\n",
        "Updated 21 genotypes for track 84"
       ]
      },
      {
       "output_type": "stream",
       "stream": "stdout",
       "text": [
        "\n",
        "Updated relations for track 83"
       ]
      },
      {
       "output_type": "stream",
       "stream": "stdout",
       "text": [
        "\n",
        "Updated relations for track 84"
       ]
      },
      {
       "output_type": "stream",
       "stream": "stdout",
       "text": [
        "\n"
       ]
      }
     ],
     "prompt_number": 16
    },
    {
     "cell_type": "code",
     "collapsed": false,
     "input": [
      "track = genimpro.recordings.getRecordingDetails(122)[4][0]"
     ],
     "language": "python",
     "metadata": {},
     "outputs": [],
     "prompt_number": 6
    },
    {
     "cell_type": "code",
     "collapsed": false,
     "input": [
      "sonicevents = genimpro.soniceventsForTrack(track)"
     ],
     "language": "python",
     "metadata": {},
     "outputs": []
    },
    {
     "cell_type": "code",
     "collapsed": false,
     "input": [],
     "language": "python",
     "metadata": {},
     "outputs": [
      {
       "output_type": "stream",
       "stream": "stdout",
       "text": [
        "ID 93: pretest snaredrum on 2014-11-25 10:00:\n",
        "Updated relations for track 1"
       ]
      },
      {
       "output_type": "stream",
       "stream": "stdout",
       "text": [
        "\n",
        "Updated relations for track 2"
       ]
      },
      {
       "output_type": "stream",
       "stream": "stdout",
       "text": [
        "\n",
        "ID 94: pretest snaredrum on 2014-11-25 10:00:\n",
        "Updated relations for track 3"
       ]
      },
      {
       "output_type": "stream",
       "stream": "stdout",
       "text": [
        "\n",
        "Updated relations for track 4"
       ]
      },
      {
       "output_type": "stream",
       "stream": "stdout",
       "text": [
        "\n",
        "ID 95: pretest snaredrum on 2014-11-25 10:00:\n",
        "Updated relations for track 5"
       ]
      },
      {
       "output_type": "stream",
       "stream": "stdout",
       "text": [
        "\n",
        "Updated relations for track 6"
       ]
      },
      {
       "output_type": "stream",
       "stream": "stdout",
       "text": [
        "\n",
        "ID 96: pretest snaredrum on 2014-11-25 10:00:\n",
        "Updated relations for track 7"
       ]
      },
      {
       "output_type": "stream",
       "stream": "stdout",
       "text": [
        "\n",
        "Updated relations for track 8"
       ]
      },
      {
       "output_type": "stream",
       "stream": "stdout",
       "text": [
        "\n",
        "ID 97: pretest snaredrum on 2014-11-25 10:00:\n",
        "Updated relations for track 9"
       ]
      },
      {
       "output_type": "stream",
       "stream": "stdout",
       "text": [
        "\n",
        "Updated relations for track 10"
       ]
      },
      {
       "output_type": "stream",
       "stream": "stdout",
       "text": [
        "\n",
        "ID 98: pretest snaredrum on 2014-11-25 10:00:\n",
        "Updated relations for track 11"
       ]
      },
      {
       "output_type": "stream",
       "stream": "stdout",
       "text": [
        "\n",
        "Updated relations for track 12"
       ]
      },
      {
       "output_type": "stream",
       "stream": "stdout",
       "text": [
        "\n",
        "ID 99: pretest snaredrum on 2014-11-25 10:00:\n",
        "Updated relations for track 13"
       ]
      },
      {
       "output_type": "stream",
       "stream": "stdout",
       "text": [
        "\n",
        "Updated relations for track 14"
       ]
      },
      {
       "output_type": "stream",
       "stream": "stdout",
       "text": [
        "\n",
        "ID 100: pretest snaredrum on 2014-11-25 10:00:\n",
        "Updated relations for track 15"
       ]
      },
      {
       "output_type": "stream",
       "stream": "stdout",
       "text": [
        "\n",
        "Updated relations for track 16"
       ]
      },
      {
       "output_type": "stream",
       "stream": "stdout",
       "text": [
        "\n",
        "ID 101: pretest snaredrum on 2014-11-25 10:00:\n",
        "Updated relations for track 17"
       ]
      },
      {
       "output_type": "stream",
       "stream": "stdout",
       "text": [
        "\n",
        "Updated relations for track 18"
       ]
      },
      {
       "output_type": "stream",
       "stream": "stdout",
       "text": [
        "\n",
        "ID 102: pretest snaredrum on 2014-11-25 10:00:\n",
        "Updated relations for track 19"
       ]
      },
      {
       "output_type": "stream",
       "stream": "stdout",
       "text": [
        "\n",
        "Updated relations for track 20"
       ]
      },
      {
       "output_type": "stream",
       "stream": "stdout",
       "text": [
        "\n",
        "ID 103: pretest snaredrum on 2014-11-25 10:00:\n",
        "Updated relations for track 21"
       ]
      },
      {
       "output_type": "stream",
       "stream": "stdout",
       "text": [
        "\n",
        "Updated relations for track 22"
       ]
      },
      {
       "output_type": "stream",
       "stream": "stdout",
       "text": [
        "\n",
        "ID 104: pretest snaredrum on 2014-11-25 10:00:\n",
        "Updated relations for track 23"
       ]
      },
      {
       "output_type": "stream",
       "stream": "stdout",
       "text": [
        "\n",
        "Updated relations for track 24"
       ]
      },
      {
       "output_type": "stream",
       "stream": "stdout",
       "text": [
        "\n",
        "ID 105: pretest snaredrum on 2014-11-25 10:00:\n",
        "Updated relations for track 25"
       ]
      },
      {
       "output_type": "stream",
       "stream": "stdout",
       "text": [
        "\n",
        "Updated relations for track 26"
       ]
      },
      {
       "output_type": "stream",
       "stream": "stdout",
       "text": [
        "\n",
        "ID 106: pretest snaredrum on 2014-11-25 10:00:\n",
        "Updated relations for track 27"
       ]
      },
      {
       "output_type": "stream",
       "stream": "stdout",
       "text": [
        "\n",
        "Updated relations for track 28"
       ]
      },
      {
       "output_type": "stream",
       "stream": "stdout",
       "text": [
        "\n",
        "ID 107: pretest snaredrum on 2014-11-25 10:00:\n",
        "Updated relations for track 29"
       ]
      },
      {
       "output_type": "stream",
       "stream": "stdout",
       "text": [
        "\n",
        "Updated relations for track 30"
       ]
      },
      {
       "output_type": "stream",
       "stream": "stdout",
       "text": [
        "\n",
        "ID 108: pretest snaredrum on 2014-11-25 10:00:\n",
        "Updated relations for track 31"
       ]
      },
      {
       "output_type": "stream",
       "stream": "stdout",
       "text": [
        "\n",
        "Updated relations for track 32"
       ]
      },
      {
       "output_type": "stream",
       "stream": "stdout",
       "text": [
        "\n",
        "ID 109: pretest snaredrum on 2014-11-25 10:00:\n",
        "Updated relations for track 33"
       ]
      },
      {
       "output_type": "stream",
       "stream": "stdout",
       "text": [
        "\n",
        "Updated relations for track 34"
       ]
      },
      {
       "output_type": "stream",
       "stream": "stdout",
       "text": [
        "\n",
        "ID 110: pretest snaredrum on 2014-11-25 10:00:\n",
        "Updated relations for track 35"
       ]
      },
      {
       "output_type": "stream",
       "stream": "stdout",
       "text": [
        "\n",
        "Updated relations for track 36"
       ]
      },
      {
       "output_type": "stream",
       "stream": "stdout",
       "text": [
        "\n",
        "ID 111: pretest snaredrum on 2014-11-25 10:00:\n",
        "Updated relations for track 37"
       ]
      },
      {
       "output_type": "stream",
       "stream": "stdout",
       "text": [
        "\n",
        "Updated relations for track 38"
       ]
      },
      {
       "output_type": "stream",
       "stream": "stdout",
       "text": [
        "\n",
        "ID 112: pretest snaredrum on 2014-11-25 10:00:\n",
        "Updated relations for track 39"
       ]
      },
      {
       "output_type": "stream",
       "stream": "stdout",
       "text": [
        "\n",
        "Updated relations for track 40"
       ]
      },
      {
       "output_type": "stream",
       "stream": "stdout",
       "text": [
        "\n",
        "ID 113: pretest snaredrum on 2014-11-25 10:00:\n",
        "Updated relations for track 41"
       ]
      },
      {
       "output_type": "stream",
       "stream": "stdout",
       "text": [
        "\n",
        "Updated relations for track 42"
       ]
      },
      {
       "output_type": "stream",
       "stream": "stdout",
       "text": [
        "\n",
        "ID 114: pretest snaredrum on 2014-11-25 10:00:\n",
        "Updated relations for track 43"
       ]
      },
      {
       "output_type": "stream",
       "stream": "stdout",
       "text": [
        "\n",
        "Updated relations for track 44"
       ]
      },
      {
       "output_type": "stream",
       "stream": "stdout",
       "text": [
        "\n",
        "ID 115: pretest snaredrum on 2014-11-25 10:00:\n",
        "Updated relations for track 45"
       ]
      },
      {
       "output_type": "stream",
       "stream": "stdout",
       "text": [
        "\n",
        "Updated relations for track 46"
       ]
      },
      {
       "output_type": "stream",
       "stream": "stdout",
       "text": [
        "\n",
        "ID 116: pretest snaredrum on 2014-11-25 10:00:\n",
        "Updated relations for track 47"
       ]
      },
      {
       "output_type": "stream",
       "stream": "stdout",
       "text": [
        "\n",
        "Updated relations for track 48"
       ]
      },
      {
       "output_type": "stream",
       "stream": "stdout",
       "text": [
        "\n",
        "ID 117: pretest snaredrum on 2014-11-25 10:00:\n",
        "Updated relations for track 49"
       ]
      },
      {
       "output_type": "stream",
       "stream": "stdout",
       "text": [
        "\n",
        "Updated relations for track 50"
       ]
      },
      {
       "output_type": "stream",
       "stream": "stdout",
       "text": [
        "\n",
        "ID 118: pretest snaredrum on 2014-11-25 10:00:\n",
        "Updated relations for track 51"
       ]
      },
      {
       "output_type": "stream",
       "stream": "stdout",
       "text": [
        "\n",
        "Updated relations for track 52"
       ]
      },
      {
       "output_type": "stream",
       "stream": "stdout",
       "text": [
        "\n",
        "ID 119: pretest snaredrum on 2014-11-25 10:00:\n",
        "Updated relations for track 53"
       ]
      },
      {
       "output_type": "stream",
       "stream": "stdout",
       "text": [
        "\n",
        "Updated relations for track 54"
       ]
      },
      {
       "output_type": "stream",
       "stream": "stdout",
       "text": [
        "\n",
        "ID 120: pretest snaredrum on 2014-11-25 10:00:\n",
        "Updated relations for track 55"
       ]
      },
      {
       "output_type": "stream",
       "stream": "stdout",
       "text": [
        "\n",
        "Updated relations for track 56"
       ]
      },
      {
       "output_type": "stream",
       "stream": "stdout",
       "text": [
        "\n",
        "ID 121: pretest snaredrum on 2014-11-25 10:00:\n",
        "Updated relations for track 57"
       ]
      },
      {
       "output_type": "stream",
       "stream": "stdout",
       "text": [
        "\n",
        "Updated relations for track 58"
       ]
      },
      {
       "output_type": "stream",
       "stream": "stdout",
       "text": [
        "\n",
        "ID 122: pretest snaredrum on 2014-11-25 10:00:\n",
        "Updated relations for track 59"
       ]
      },
      {
       "output_type": "stream",
       "stream": "stdout",
       "text": [
        "\n",
        "Updated relations for track 60"
       ]
      },
      {
       "output_type": "stream",
       "stream": "stdout",
       "text": [
        "\n"
       ]
      }
     ],
     "prompt_number": 9
    }
   ],
   "metadata": {}
  }
 ]
}