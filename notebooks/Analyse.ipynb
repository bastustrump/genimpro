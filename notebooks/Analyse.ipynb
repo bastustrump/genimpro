{
 "metadata": {
  "name": "",
  "signature": "sha256:c9cc8ad4be06a0ef7d4aab28613676513c6f12ca53a6add8fc50462f4a036864"
 },
 "nbformat": 3,
 "nbformat_minor": 0,
 "worksheets": [
  {
   "cells": [
    {
     "cell_type": "code",
     "collapsed": false,
     "input": [
      "cd /Users/bastus/Desktop/Forschungsprojekt/genimpro"
     ],
     "language": "python",
     "metadata": {},
     "outputs": [
      {
       "output_type": "stream",
       "stream": "stdout",
       "text": [
        "/Users/bastus/Desktop/Forschungsprojekt/genimpro\n"
       ]
      }
     ],
     "prompt_number": 1
    },
    {
     "cell_type": "code",
     "collapsed": false,
     "input": [
      "%run importwrapper.py\n",
      "%pylab inline\n",
      "samplerate=44100.0"
     ],
     "language": "python",
     "metadata": {},
     "outputs": [
      {
       "output_type": "stream",
       "stream": "stdout",
       "text": [
        "Populating the interactive namespace from numpy and matplotlib\n"
       ]
      }
     ],
     "prompt_number": 2
    },
    {
     "cell_type": "code",
     "collapsed": false,
     "input": [
      "import os.path, time\n",
      "from datetime import datetime\n",
      "import sqlite3 as lite\n",
      "db = lite.connect('genImpro.db')\n",
      "c = db.cursor() \n",
      "\n",
      "def updateDateForRecording:\n",
      "        f = '%Y-%m-%d %H:%M:%S'\n",
      "    \n",
      "    dt_obj = datetime.fromtimestamp(os.path.getmtime(recordingDetails[5])).strftime(f)\n",
      "    \n",
      "    sqlcommand = \"Update recordings set date=%s where ID = %i\" % (repr(dt_obj),recordingID)\n",
      "    #print sqlcommand\n",
      "    c.execute(sqlcommand)\n",
      "    db.commit()\n",
      "    \n",
      "    #print \"last modified: %s\" % time.ctime(os.path.getmtime(recordingDetails[5]).strftime(f))\n",
      "    #print \"created: %s\" % time.ctime(os.path.getctime(recordingDetails[5]).strftime(f))\n",
      "    "
     ],
     "language": "python",
     "metadata": {},
     "outputs": []
    },
    {
     "cell_type": "code",
     "collapsed": false,
     "input": [
      "def analyseTrack(track,updateAll=0):\n",
      "    \n",
      "    audio = genimpro.recordings.getAudioForTrack(track)\n",
      "    sonicevents = genimpro.recordings.getSoniceventsForTrack(track)\n",
      "    sequences = genimpro.recordings.getSequencesForTrack(track)\n",
      "    phenotypes = genimpro.recordings.getPhenotypesForTrack(track)\n",
      "    genotypes = genimpro.recordings.getGenotypesForTrack(track)\n",
      "    \n",
      "    if (sonicevents==None) | updateAll:\n",
      "        sonicevents = genimpro.soniceventsForTrack(track)\n",
      "        genimpro.recordings.updateSoniceventsForTrack(track,sonicevents)\n",
      "        \n",
      "        sequences = genimpro.grouping.sequencesForSonicevents(sonicevents)\n",
      "        genimpro.recordings.updateSequencesForTrack(track,sequences,sonicevents)\n",
      "        \n",
      "        phenotypes = genimpro.phenotypesForSequences(sequences,sonicevents,audio)\n",
      "        genimpro.recordings.updatePhenotypesForTrack(track,sequences,phenotypes)\n",
      "\n",
      "        genotypes = genimpro.genotypesForSequences(phenotypes)\n",
      "        genimpro.recordings.updateGenotypesForTrack(track,sequences,genotypes)\n",
      "\n",
      "        return\n",
      "        \n",
      "    if (sequences==None) | updateAll:\n",
      "        sequences = genimpro.grouping.sequencesForSonicevents(sonicevents)\n",
      "        genimpro.recordings.updateSequencesForTrack(track,sequences,sonicevents)\n",
      "    \n",
      "        phenotypes = genimpro.phenotypesForSequences(sequences,sonicevents,audio)\n",
      "        genimpro.recordings.updatePhenotypesForTrack(track,sequences,phenotypes)\n",
      "\n",
      "        genotypes = genimpro.genotypesForSequences(phenotypes)\n",
      "        genimpro.recordings.updateGenotypesForTrack(track,sequences,genotypes)\n",
      "        \n",
      "        return\n",
      "        \n",
      "    if (phenotypes==None) | updateAll:\n",
      "        phenotypes = genimpro.phenotypesForSequences(sequences,sonicevents,audio)\n",
      "        genimpro.recordings.updatePhenotypesForTrack(track,sequences,phenotypes)   \n",
      "\n",
      "        genotypes = genimpro.genotypesForSequences(phenotypes)\n",
      "        genimpro.recordings.updateGenotypesForTrack(track,sequences,genotypes)\n",
      "\n",
      "        return\n",
      "\n",
      "    if (genotypes==None) | updateAll: \n",
      "\n",
      "        genotypes = genimpro.genotypesForSequences(phenotypes)\n",
      "        genimpro.recordings.updateGenotypesForTrack(track,sequences,genotypes)        \n",
      "        \n"
     ],
     "language": "python",
     "metadata": {},
     "outputs": [],
     "prompt_number": 3
    },
    {
     "cell_type": "code",
     "collapsed": false,
     "input": [
      "def analyseGenotypes(track,sessionID):\n",
      "    cellBoundaries = genimpro.recordings.getSequencesForTrack(track)\n",
      "    phenotypes = genimpro.recordings.getPhenotypesForTrack(track)\n",
      "    genotypes = genimpro.genotypesForCells(phenotypes,sessionID)\n",
      "    genimpro.recordings.updateGenotypesForTrack(track,cellBoundaries,genotypes)"
     ],
     "language": "python",
     "metadata": {},
     "outputs": [],
     "prompt_number": 4
    },
    {
     "cell_type": "code",
     "collapsed": false,
     "input": [
      "def addRelations(track):\n",
      "    (genotypes,sequenceData) = genimpro.recordings.prepareDataForRelations(track[3])\n",
      "    sequences = genimpro.recordings.getSequencesForTrack(track)\n",
      "    relations = genimpro.calculateRelationsForGenotypes(genotypes,sequenceData)\n",
      "    relations = relations[0:len(sequences)]\n",
      "    genimpro.recordings.updateRelationsForTrack(track,sequences,relations)\n"
     ],
     "language": "python",
     "metadata": {},
     "outputs": [],
     "prompt_number": 5
    },
    {
     "cell_type": "code",
     "collapsed": false,
     "input": [
      "def analyseRecording(recordingID,sessionID,updateAll=0):\n",
      "    db = lite.connect('genImpro.db')\n",
      "    c = db.cursor() \n",
      "    recordingDetails = genimpro.recordings.getRecordingDetails(recordingID)\n",
      "    print \"Analysing ID %i: %s on %s:\" % (recordingDetails[0],recordingDetails[1],recordingDetails[6])\n",
      "    \n",
      "    for track in recordingDetails[4]:\n",
      "        analysePhenotypes(track)\n"
     ],
     "language": "python",
     "metadata": {},
     "outputs": []
    },
    {
     "cell_type": "code",
     "collapsed": false,
     "input": [
      "def analyseGenetics(recordingID,sessionID,updateAll=0):\n",
      "\n",
      "    recordingDetails = genimpro.recordings.getRecordingDetails(recordingID)\n",
      "    \n",
      "    for track in recordingDetails[4]:\n",
      "        analyseGenotypes(track,sessionID)\n",
      "    \n",
      "    for track in recordingDetails[4]:\n",
      "        addRelations(track)"
     ],
     "language": "python",
     "metadata": {},
     "outputs": [],
     "prompt_number": 7
    },
    {
     "cell_type": "code",
     "collapsed": false,
     "input": [
      "def analysePhenotypes(track):\n",
      "\n",
      "    audio = genimpro.recordings.getAudioForTrack(track,normalize=1)\n",
      "\n",
      "    cellBoundaries = genimpro.grouping.groupBySilence(audio)\n",
      "    genimpro.recordings.updateCellsForTrack(track,cellBoundaries)\n",
      "\n",
      "    phenotypes = genimpro.phenotypesForCells(cellBoundaries,audio)\n",
      "    genimpro.recordings.updatePhenotypesForTrack(track,cellBoundaries,phenotypes)"
     ],
     "language": "python",
     "metadata": {},
     "outputs": [],
     "prompt_number": 45
    },
    {
     "cell_type": "code",
     "collapsed": false,
     "input": [
      "def analyseSession(sessionID):\n",
      "    recordings = genimpro.recordings.listRecodings(sessionID)\n",
      "    for recordingID in recordings:\n",
      "        analyseRecording(recordingID,sessionID)\n",
      "        \n",
      "    genimpro.genomeForSession(sessionID)\n",
      "    \n",
      "    for recordingID in recordings:\n",
      "        analyseGenetics(recordingID,sessionID)"
     ],
     "language": "python",
     "metadata": {},
     "outputs": [],
     "prompt_number": 46
    },
    {
     "cell_type": "code",
     "collapsed": false,
     "input": [
      "import sqlite3 as lite\n",
      "\n",
      "def deleteRecording(recordingID):\n",
      "    db = lite.connect('genImpro.db')\n",
      "    c = db.cursor() \n",
      "    \n",
      "    sqlcommand = \"delete from tracks where recordingID = %i\" % (recordingID)\n",
      "    c.execute(sqlcommand)\n",
      "    db.commit()\n",
      "    \n",
      "    sqlcommand = \"delete from recordings where ID = %i\" % (recordingID)\n",
      "    c.execute(sqlcommand)\n",
      "    db.commit()    "
     ],
     "language": "python",
     "metadata": {},
     "outputs": [],
     "prompt_number": 13
    },
    {
     "cell_type": "code",
     "collapsed": false,
     "input": [
      "analyseSession(3)"
     ],
     "language": "python",
     "metadata": {},
     "outputs": [
      {
       "output_type": "stream",
       "stream": "stdout",
       "text": [
        "Analysing ID 139: Blind Date on 2015-10-17 20:00:\n",
        "Added 10 cells for track 85"
       ]
      },
      {
       "output_type": "stream",
       "stream": "stdout",
       "text": [
        "\n",
        "Updated 10 phenotypes for track 85"
       ]
      },
      {
       "output_type": "stream",
       "stream": "stdout",
       "text": [
        "\n",
        "Added 31 cells for track 86"
       ]
      },
      {
       "output_type": "stream",
       "stream": "stdout",
       "text": [
        "\n",
        "Updated 31 phenotypes for track 86"
       ]
      },
      {
       "output_type": "stream",
       "stream": "stdout",
       "text": [
        "\n",
        "Analysing ID 140: Blind Date on 2015-10-17 20:00:\n",
        "Added 22 cells for track 87"
       ]
      },
      {
       "output_type": "stream",
       "stream": "stdout",
       "text": [
        "\n",
        "Updated 22 phenotypes for track 87"
       ]
      },
      {
       "output_type": "stream",
       "stream": "stdout",
       "text": [
        "\n",
        "Added 42 cells for track 88"
       ]
      },
      {
       "output_type": "stream",
       "stream": "stdout",
       "text": [
        "\n",
        "Updated 42 phenotypes for track 88"
       ]
      },
      {
       "output_type": "stream",
       "stream": "stdout",
       "text": [
        "\n",
        "Analysing ID 141: Blind Date on 2015-10-17 20:00:\n",
        "Added 8 cells for track 89"
       ]
      },
      {
       "output_type": "stream",
       "stream": "stdout",
       "text": [
        "\n",
        "Updated 8 phenotypes for track 89"
       ]
      },
      {
       "output_type": "stream",
       "stream": "stdout",
       "text": [
        "\n",
        "Added 15 cells for track 90"
       ]
      },
      {
       "output_type": "stream",
       "stream": "stdout",
       "text": [
        "\n",
        "Updated 15 phenotypes for track 90"
       ]
      },
      {
       "output_type": "stream",
       "stream": "stdout",
       "text": [
        "\n",
        "Analysing ID 142: Blind Date on 2015-10-17 20:00:\n",
        "Added 26 cells for track 91"
       ]
      },
      {
       "output_type": "stream",
       "stream": "stdout",
       "text": [
        "\n",
        "Updated 26 phenotypes for track 91"
       ]
      },
      {
       "output_type": "stream",
       "stream": "stdout",
       "text": [
        "\n",
        "Added 5 cells for track 92"
       ]
      },
      {
       "output_type": "stream",
       "stream": "stdout",
       "text": [
        "\n",
        "Updated 5 phenotypes for track 92"
       ]
      },
      {
       "output_type": "stream",
       "stream": "stdout",
       "text": [
        "\n",
        "Analysing ID 143: Blind Date on 2015-10-17 20:00:\n",
        "Added 5 cells for track 93"
       ]
      },
      {
       "output_type": "stream",
       "stream": "stdout",
       "text": [
        "\n",
        "Updated 5 phenotypes for track 93"
       ]
      },
      {
       "output_type": "stream",
       "stream": "stdout",
       "text": [
        "\n",
        "Added 3 cells for track 94"
       ]
      },
      {
       "output_type": "stream",
       "stream": "stdout",
       "text": [
        "\n",
        "Updated 3 phenotypes for track 94"
       ]
      },
      {
       "output_type": "stream",
       "stream": "stdout",
       "text": [
        "\n",
        "Analysing ID 144: Blind Date on 2015-10-17 20:00:\n",
        "Added 0 cells for track 95"
       ]
      },
      {
       "output_type": "stream",
       "stream": "stdout",
       "text": [
        "\n",
        "Updated 0 phenotypes for track 95\n",
        "Added 6 cells for track 96"
       ]
      },
      {
       "output_type": "stream",
       "stream": "stdout",
       "text": [
        "\n",
        "Updated 6 phenotypes for track 96"
       ]
      },
      {
       "output_type": "stream",
       "stream": "stdout",
       "text": [
        "\n",
        "Analysing ID 145: Blind Date on 2015-10-17 20:00:\n",
        "Added 33 cells for track 97"
       ]
      },
      {
       "output_type": "stream",
       "stream": "stdout",
       "text": [
        "\n",
        "Updated 33 phenotypes for track 97"
       ]
      },
      {
       "output_type": "stream",
       "stream": "stdout",
       "text": [
        "\n",
        "Added 7 cells for track 98"
       ]
      },
      {
       "output_type": "stream",
       "stream": "stdout",
       "text": [
        "\n",
        "Updated 7 phenotypes for track 98"
       ]
      },
      {
       "output_type": "stream",
       "stream": "stdout",
       "text": [
        "\n",
        "Analysing ID 146: Blind Date on 2015-10-17 20:00:\n",
        "Added 3 cells for track 99"
       ]
      },
      {
       "output_type": "stream",
       "stream": "stdout",
       "text": [
        "\n",
        "Updated 3 phenotypes for track 99"
       ]
      },
      {
       "output_type": "stream",
       "stream": "stdout",
       "text": [
        "\n",
        "Added 5 cells for track 100"
       ]
      },
      {
       "output_type": "stream",
       "stream": "stdout",
       "text": [
        "\n",
        "Updated 5 phenotypes for track 100"
       ]
      },
      {
       "output_type": "stream",
       "stream": "stdout",
       "text": [
        "\n",
        "Analysing ID 147: Blind Date on 2015-10-17 20:00:\n",
        "Added 48 cells for track 101"
       ]
      },
      {
       "output_type": "stream",
       "stream": "stdout",
       "text": [
        "\n",
        "Updated 48 phenotypes for track 101"
       ]
      },
      {
       "output_type": "stream",
       "stream": "stdout",
       "text": [
        "\n",
        "Added 7 cells for track 102"
       ]
      },
      {
       "output_type": "stream",
       "stream": "stdout",
       "text": [
        "\n",
        "Updated 7 phenotypes for track 102"
       ]
      },
      {
       "output_type": "stream",
       "stream": "stdout",
       "text": [
        "\n",
        "Analysing ID 149: Blind Date on 2015-10-17 20:00:\n",
        "Added 6 cells for track 105"
       ]
      },
      {
       "output_type": "stream",
       "stream": "stdout",
       "text": [
        "\n",
        "Updated 6 phenotypes for track 105"
       ]
      },
      {
       "output_type": "stream",
       "stream": "stdout",
       "text": [
        "\n",
        "Added 2 cells for track 106"
       ]
      },
      {
       "output_type": "stream",
       "stream": "stdout",
       "text": [
        "\n",
        "Updated 2 phenotypes for track 106"
       ]
      },
      {
       "output_type": "stream",
       "stream": "stdout",
       "text": [
        "\n",
        "Analysing ID 150: Blind Date on 2015-10-17 20:00:\n",
        "Added 18 cells for track 107"
       ]
      },
      {
       "output_type": "stream",
       "stream": "stdout",
       "text": [
        "\n",
        "Updated 18 phenotypes for track 107"
       ]
      },
      {
       "output_type": "stream",
       "stream": "stdout",
       "text": [
        "\n",
        "Added 6 cells for track 108"
       ]
      },
      {
       "output_type": "stream",
       "stream": "stdout",
       "text": [
        "\n",
        "Updated 6 phenotypes for track 108"
       ]
      },
      {
       "output_type": "stream",
       "stream": "stdout",
       "text": [
        "\n",
        "Analysing ID 151: Blind Date on 2015-10-17 20:00:\n",
        "Added 16 cells for track 109"
       ]
      },
      {
       "output_type": "stream",
       "stream": "stdout",
       "text": [
        "\n",
        "Updated 16 phenotypes for track 109"
       ]
      },
      {
       "output_type": "stream",
       "stream": "stdout",
       "text": [
        "\n",
        "Added 19 cells for track 110"
       ]
      },
      {
       "output_type": "stream",
       "stream": "stdout",
       "text": [
        "\n",
        "Updated 19 phenotypes for track 110"
       ]
      },
      {
       "output_type": "stream",
       "stream": "stdout",
       "text": [
        "\n",
        "Analysing ID 152: Blind Date on 2015-10-17 20:00:\n",
        "Added 18 cells for track 111"
       ]
      },
      {
       "output_type": "stream",
       "stream": "stdout",
       "text": [
        "\n",
        "Updated 18 phenotypes for track 111"
       ]
      },
      {
       "output_type": "stream",
       "stream": "stdout",
       "text": [
        "\n",
        "Added 17 cells for track 112"
       ]
      },
      {
       "output_type": "stream",
       "stream": "stdout",
       "text": [
        "\n",
        "Updated 17 phenotypes for track 112"
       ]
      },
      {
       "output_type": "stream",
       "stream": "stdout",
       "text": [
        "\n",
        "Analysing ID 153: Blind Date on 2015-10-17 20:00:\n",
        "Added 0 cells for track 113"
       ]
      },
      {
       "output_type": "stream",
       "stream": "stdout",
       "text": [
        "\n",
        "Updated 0 phenotypes for track 113\n",
        "Added 26 cells for track 114"
       ]
      },
      {
       "output_type": "stream",
       "stream": "stdout",
       "text": [
        "\n",
        "Updated 26 phenotypes for track 114"
       ]
      },
      {
       "output_type": "stream",
       "stream": "stdout",
       "text": [
        "\n",
        "Analysing ID 154: Blind Date on 2015-10-17 20:00:\n",
        "Added 7 cells for track 115"
       ]
      },
      {
       "output_type": "stream",
       "stream": "stdout",
       "text": [
        "\n",
        "Updated 7 phenotypes for track 115"
       ]
      },
      {
       "output_type": "stream",
       "stream": "stdout",
       "text": [
        "\n",
        "Added 11 cells for track 116"
       ]
      },
      {
       "output_type": "stream",
       "stream": "stdout",
       "text": [
        "\n",
        "Updated 11 phenotypes for track 116"
       ]
      },
      {
       "output_type": "stream",
       "stream": "stdout",
       "text": [
        "\n",
        "Analysing ID 155: Blind Date on 2015-10-17 20:00:\n",
        "Added 9 cells for track 117"
       ]
      },
      {
       "output_type": "stream",
       "stream": "stdout",
       "text": [
        "\n",
        "Updated 9 phenotypes for track 117"
       ]
      },
      {
       "output_type": "stream",
       "stream": "stdout",
       "text": [
        "\n",
        "Added 16 cells for track 118"
       ]
      },
      {
       "output_type": "stream",
       "stream": "stdout",
       "text": [
        "\n",
        "Updated 16 phenotypes for track 118"
       ]
      },
      {
       "output_type": "stream",
       "stream": "stdout",
       "text": [
        "\n",
        "Analysing ID 156: Blind Date on 2015-10-17 20:00:\n",
        "Added 13 cells for track 119"
       ]
      },
      {
       "output_type": "stream",
       "stream": "stdout",
       "text": [
        "\n",
        "Updated 13 phenotypes for track 119"
       ]
      },
      {
       "output_type": "stream",
       "stream": "stdout",
       "text": [
        "\n",
        "Added 11 cells for track 120"
       ]
      },
      {
       "output_type": "stream",
       "stream": "stdout",
       "text": [
        "\n",
        "Updated 11 phenotypes for track 120"
       ]
      },
      {
       "output_type": "stream",
       "stream": "stdout",
       "text": [
        "\n",
        "Analysing ID 157: Blind Date on 2015-10-17 20:00:\n",
        "Added 8 cells for track 121"
       ]
      },
      {
       "output_type": "stream",
       "stream": "stdout",
       "text": [
        "\n",
        "Updated 8 phenotypes for track 121"
       ]
      },
      {
       "output_type": "stream",
       "stream": "stdout",
       "text": [
        "\n",
        "Added 7 cells for track 122"
       ]
      },
      {
       "output_type": "stream",
       "stream": "stdout",
       "text": [
        "\n",
        "Updated 7 phenotypes for track 122"
       ]
      },
      {
       "output_type": "stream",
       "stream": "stdout",
       "text": [
        "\n",
        "Analysing ID 158: Blind Date on 2015-10-17 20:00:\n",
        "Added 22 cells for track 123"
       ]
      }
     ]
    }
   ],
   "metadata": {}
  }
 ]
}