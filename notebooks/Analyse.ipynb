{
 "metadata": {
  "name": "",
  "signature": "sha256:42557d749ab6abd61ba3342a3cd3c1cd5ba89bb71be751ec4bf7a690f77b2b2c"
 },
 "nbformat": 3,
 "nbformat_minor": 0,
 "worksheets": [
  {
   "cells": [
    {
     "cell_type": "code",
     "collapsed": false,
     "input": [
      "cd /Users/bastus/Desktop/Forschungsprojekt/genimpro"
     ],
     "language": "python",
     "metadata": {},
     "outputs": [
      {
       "output_type": "stream",
       "stream": "stdout",
       "text": [
        "/Users/bastus/Desktop/Forschungsprojekt/genimpro\n"
       ]
      }
     ],
     "prompt_number": 1
    },
    {
     "cell_type": "code",
     "collapsed": false,
     "input": [
      "%run importwrapper.py\n",
      "%pylab inline"
     ],
     "language": "python",
     "metadata": {},
     "outputs": [
      {
       "output_type": "stream",
       "stream": "stdout",
       "text": [
        "Populating the interactive namespace from numpy and matplotlib\n"
       ]
      }
     ],
     "prompt_number": 2
    },
    {
     "cell_type": "code",
     "collapsed": false,
     "input": [
      "def analyseTrack(track,updateAll=0):\n",
      "    \n",
      "    audio = genimpro.recordings.getAudioForTrack(track)\n",
      "    sonicevents = genimpro.recordings.getSoniceventsForTrack(track)\n",
      "    sequences = genimpro.recordings.getSequencesForTrack(track)\n",
      "    phenotypes = genimpro.recordings.getPhenotypesForTrack(track)\n",
      "    genotypes = genimpro.recordings.getGenotypesForTrack(track)\n",
      "    \n",
      "    if (sonicevents==None) | updateAll:\n",
      "        sonicevents = genimpro.soniceventsForTrack(track)\n",
      "        genimpro.recordings.updateSoniceventsForTrack(track,sonicevents)\n",
      "        \n",
      "        sequences = genimpro.grouping.sequencesForSonicevents(sonicevents)\n",
      "        genimpro.recordings.updateSequencesForTrack(track,sequences,sonicevents)\n",
      "        \n",
      "        phenotypes = genimpro.phenotypesForSequences(sequences,sonicevents,audio)\n",
      "        genimpro.recordings.updatePhenotypesForTrack(track,sequences,phenotypes)\n",
      "\n",
      "        genotypes = genimpro.genotypesForSequences(phenotypes)\n",
      "        genimpro.recordings.updateGenotypesForTrack(track,sequences,genotypes)\n",
      "\n",
      "        return\n",
      "        \n",
      "    if (sequences==None) | updateAll:\n",
      "        sequences = genimpro.grouping.sequencesForSonicevents(sonicevents)\n",
      "        genimpro.recordings.updateSequencesForTrack(track,sequences,sonicevents)\n",
      "    \n",
      "        phenotypes = genimpro.phenotypesForSequences(sequences,sonicevents,audio)\n",
      "        genimpro.recordings.updatePhenotypesForTrack(track,sequences,phenotypes)\n",
      "\n",
      "        genotypes = genimpro.genotypesForSequences(phenotypes)\n",
      "        genimpro.recordings.updateGenotypesForTrack(track,sequences,genotypes)\n",
      "        \n",
      "        return\n",
      "        \n",
      "    if (phenotypes==None) | updateAll:\n",
      "        phenotypes = genimpro.phenotypesForSequences(sequences,sonicevents,audio)\n",
      "        genimpro.recordings.updatePhenotypesForTrack(track,sequences,phenotypes)   \n",
      "\n",
      "        genotypes = genimpro.genotypesForSequences(phenotypes)\n",
      "        genimpro.recordings.updateGenotypesForTrack(track,sequences,genotypes)\n",
      "\n",
      "        return\n",
      "\n",
      "    if (genotypes==None) | updateAll: \n",
      "\n",
      "        genotypes = genimpro.genotypesForSequences(phenotypes)\n",
      "        genimpro.recordings.updateGenotypesForTrack(track,sequences,genotypes)        \n",
      "        \n"
     ],
     "language": "python",
     "metadata": {},
     "outputs": [],
     "prompt_number": 3
    },
    {
     "cell_type": "code",
     "collapsed": false,
     "input": [
      "def addRelations(track):\n",
      "    (genotypes,sequenceData) = genimpro.recordings.prepareDataForRelations(track[3])\n",
      "    sequences = genimpro.recordings.getSequencesForTrack(track)\n",
      "    relations = genimpro.calculateRelationsForGenotypes(genotypes,sequenceData)\n",
      "    relations = relations[0:len(sequences)]\n",
      "    genimpro.recordings.updateRelationsForTrack(track,sequences,relations)\n"
     ],
     "language": "python",
     "metadata": {},
     "outputs": [],
     "prompt_number": 4
    },
    {
     "cell_type": "code",
     "collapsed": false,
     "input": [
      "def analyseRecording(recordingID,updateAll=0):\n",
      "\n",
      "    recordingDetails = genimpro.recordings.getRecordingDetails(recordingID)\n",
      "    print \"ID %i: %s on %s:\" % (recordingDetails[0],recordingDetails[1],recordingDetails[2])\n",
      "\n",
      "    for track in recordingDetails[4]:\n",
      "        #analyseTrack(track,updateAll=updateAll)\n",
      "        addRelations(track)"
     ],
     "language": "python",
     "metadata": {},
     "outputs": [],
     "prompt_number": 8
    },
    {
     "cell_type": "code",
     "collapsed": false,
     "input": [
      "recordings = genimpro.recordings.listRecodings()"
     ],
     "language": "python",
     "metadata": {},
     "outputs": [
      {
       "output_type": "stream",
       "stream": "stdout",
       "text": [
        "ID 93: pretest snaredrum on 2014-11-25 10:00:\n",
        "    Marius Werner (snaredrum): 1/f199ef77-778a-4fa5-9326-f377388687a8.aiff\n",
        "    Felix Bratfisch (snaredrum): 1/25a85c12-3e51-4aec-9e20-e4643d2dc31d.aiff\n",
        "ID 94: pretest snaredrum on 2014-11-25 10:00:\n",
        "    Marius Werner (snaredrum): 1/f90899e0-c4a5-40f6-bd9c-1ec3a7c40a59.aiff\n",
        "    Felix Bratfisch (snaredrum): 1/2e6c915a-85fa-49f2-9379-9d3b11f0d44e.aiff\n",
        "ID 95: pretest snaredrum on 2014-11-25 10:00:\n",
        "    Marius Werner (snaredrum): 1/522fcde8-7d32-451a-9035-4f0fa7972a5f.aiff\n",
        "    Felix Bratfisch (snaredrum): 1/adf42884-8cfd-422b-b780-e50c8893e663.aiff\n",
        "ID 96: pretest snaredrum on 2014-11-25 10:00:\n",
        "    Marius Werner (snaredrum): 1/9579ea8b-04f8-490f-a2fd-1d941bd9ccdb.aiff\n",
        "    Felix Uttenreuter (snaredrum): 1/b828e7e5-5951-4125-bada-35102dac0216.aiff\n",
        "ID 97: pretest snaredrum on 2014-11-25 10:00:\n",
        "    Marius Werner (snaredrum): 1/90180568-775a-4286-8851-6ef67ccee41a.aiff\n",
        "    Felix Uttenreuter (snaredrum): 1/d2d836b7-1875-40ac-9cf7-da76bd050a9c.aiff\n",
        "ID 98: pretest snaredrum on 2014-11-25 10:00:\n",
        "    Marius Werner (snaredrum): 1/33a0dd5c-4706-4397-85d5-f7082a6204e3.aiff\n",
        "    Felix Uttenreuter (snaredrum): 1/fb244910-c512-41a4-bb76-6237aecee5e0.aiff\n",
        "ID 99: pretest snaredrum on 2014-11-25 10:00:\n",
        "    Marius Werner (snaredrum): 1/919b4031-8360-4020-9d1c-83aac05a49de.aiff\n",
        "    Sarah Rempe (snaredrum): 1/d9d27662-8f68-462e-86df-c19312d624bd.aiff\n",
        "ID 100: pretest snaredrum on 2014-11-25 10:00:\n",
        "    Marius Werner (snaredrum): 1/81d33085-4ab7-4c5f-94b3-a6cd5f8bd3b3.aiff\n",
        "    Sarah Rempe (snaredrum): 1/57dda133-3413-44d5-855d-5546b39b76ff.aiff\n",
        "ID 101: pretest snaredrum on 2014-11-25 10:00:\n",
        "    Marius Werner (snaredrum): 1/da3ce29b-5a26-4dc8-96ba-6930ce6b3ae5.aiff\n",
        "    Sarah Rempe (snaredrum): 1/a7ebdd8f-8c11-46f8-a18f-28d64e66b0a7.aiff\n",
        "ID 102: pretest snaredrum on 2014-11-25 10:00:\n",
        "    Marius Werner (snaredrum): 1/44955e5c-76f8-4fd9-af90-cbe876c0edf4.aiff\n",
        "    Tobias Birke (snaredrum): 1/a88b3b29-3449-48f7-b2b0-f22c8178cd9e.aiff\n",
        "ID 103: pretest snaredrum on 2014-11-25 10:00:\n",
        "    Marius Werner (snaredrum): 1/378623ec-b9b8-4733-9a02-3c6c66b2d620.aiff\n",
        "    Tobias Birke (snaredrum): 1/c294fbce-bcd4-44d0-bc65-48ae1ea92c70.aiff\n",
        "ID 104: pretest snaredrum on 2014-11-25 10:00:\n",
        "    Marius Werner (snaredrum): 1/757ff596-d919-47cc-9b79-3b49d1dc6644.aiff\n",
        "    Tobias Birke (snaredrum): 1/6ff8d73f-726c-4d8f-a485-fc80225df435.aiff\n",
        "ID 105: pretest snaredrum on 2014-11-25 10:00:\n",
        "    Felix Bratfisch (snaredrum): 1/0c6747d5-4755-40b1-afb1-445476019be2.aiff\n",
        "    Tobias Birke (snaredrum): 1/9a3d7085-e6a7-4853-9603-258606d5adbb.aiff\n",
        "ID 106: pretest snaredrum on 2014-11-25 10:00:\n",
        "    Felix Bratfisch (snaredrum): 1/361f95fc-1a57-48d3-8192-3637ec0b44c8.aiff\n",
        "    Tobias Birke (snaredrum): 1/6b1242c9-b661-4703-8b4c-4a97f9225155.aiff\n",
        "ID 107: pretest snaredrum on 2014-11-25 10:00:\n",
        "    Felix Bratfisch (snaredrum): 1/5c2b28d7-feee-4646-95ee-5971e7f2437a.aiff\n",
        "    Tobias Birke (snaredrum): 1/6ca782cf-e0a0-4984-aac2-4df0fa16d066.aiff\n",
        "ID 108: pretest snaredrum on 2014-11-25 10:00:\n",
        "    Felix Uttenreuter (snaredrum): 1/96732b6d-bdf7-41a5-9a41-8eadd74333f5.aiff\n",
        "    Felix Bratfisch (snaredrum): 1/a8696bab-b900-4108-b326-1f8e472a0017.aiff\n",
        "ID 109: pretest snaredrum on 2014-11-25 10:00:\n",
        "    Felix Uttenreuter (snaredrum): 1/05689673-16ad-4fb8-806e-207183bbe7cb.aiff\n",
        "    Felix Bratfisch (snaredrum): 1/8f9dbb4e-b5b1-49dc-b837-00841ef21a59.aiff\n",
        "ID 110: pretest snaredrum on 2014-11-25 10:00:\n",
        "    Felix Uttenreuter (snaredrum): 1/e8d55fc7-64dd-41e3-b5f9-3446dad928cb.aiff\n",
        "    Felix Bratfisch (snaredrum): 1/92de9969-77ca-4b10-b065-37c1db60fa52.aiff\n",
        "ID 111: pretest snaredrum on 2014-11-25 10:00:\n",
        "    Felix Uttenreuter (snaredrum): 1/ef838caf-3b56-494d-80c1-1e8b280a3158.aiff\n",
        "    Tobias Birke (snaredrum): 1/a563721f-fe8b-4256-a0c6-9578b72ea338.aiff\n",
        "ID 112: pretest snaredrum on 2014-11-25 10:00:\n",
        "    Felix Uttenreuter (snaredrum): 1/4ff77ded-e84d-4fc6-87f8-f82a939c5276.aiff\n",
        "    Tobias Birke (snaredrum): 1/87d9068d-3c50-4841-9e93-800d9f5d732d.aiff\n",
        "ID 113: pretest snaredrum on 2014-11-25 10:00:\n",
        "    Felix Uttenreuter (snaredrum): 1/8f35d9d0-9512-478e-8276-d25fe0bacf50.aiff\n",
        "    Tobias Birke (snaredrum): 1/e21ded62-b214-4d41-b888-dc0509bcea38.aiff\n",
        "ID 114: pretest snaredrum on 2014-11-25 10:00:\n",
        "    Sarah Rempe (snaredrum): 1/923477f2-fcfc-45a1-bf84-fe36097fbd9d.aiff\n",
        "    Felix Bratfisch (snaredrum): 1/57dbd1dd-8753-41f3-bc26-31942091174b.aiff\n",
        "ID 115: pretest snaredrum on 2014-11-25 10:00:\n",
        "    Sarah Rempe (snaredrum): 1/b1c512ed-67ad-4868-8e8f-84b1211e9486.aiff\n",
        "    Felix Bratfisch (snaredrum): 1/c71af957-5048-4361-9116-e12c02817997.aiff\n",
        "ID 116: pretest snaredrum on 2014-11-25 10:00:\n",
        "    Sarah Rempe (snaredrum): 1/d33d3ad6-2f0a-4cf8-af06-a57d61d6f145.aiff\n",
        "    Felix Bratfisch (snaredrum): 1/dbac6e48-6e89-4eaf-a0ab-e8a1a8e7d57f.aiff\n",
        "ID 117: pretest snaredrum on 2014-11-25 10:00:\n",
        "    Sarah Rempe (snaredrum): 1/6bee4149-51b5-427b-ac60-9715e41d0b19.aiff\n",
        "    Felix Uttenreuter (snaredrum): 1/ba294df3-6f8b-4796-be5d-796ff3ee8a0f.aiff\n",
        "ID 118: pretest snaredrum on 2014-11-25 10:00:\n",
        "    Sarah Rempe (snaredrum): 1/3798d316-e9d5-49ab-8989-5fbf024e96a2.aiff\n",
        "    Felix Uttenreuter (snaredrum): 1/41eb1ddc-ef13-4635-93c7-9a37f551a683.aiff\n",
        "ID 119: pretest snaredrum on 2014-11-25 10:00:\n",
        "    Sarah Rempe (snaredrum): 1/926ccc8c-a2e2-4525-8758-1d9327a7c89d.aiff\n",
        "    Felix Uttenreuter (snaredrum): 1/4ef41440-0329-41dc-b646-c8fb05d88c23.aiff\n",
        "ID 120: pretest snaredrum on 2014-11-25 10:00:\n",
        "    Sarah Rempe (snaredrum): 1/12ca0bbc-87e4-4353-8db7-984d239976b9.aiff\n",
        "    Tobias Birke (snaredrum): 1/8a5c20a8-fa78-4978-b88d-baea25ad6e50.aiff\n",
        "ID 121: pretest snaredrum on 2014-11-25 10:00:\n",
        "    Sarah Rempe (snaredrum): 1/4401a09b-86cb-418f-9e0a-fdc248ec8449.aiff\n",
        "    Tobias Birke (snaredrum): 1/d13971aa-9cf4-4137-847b-d8660f38c2e3.aiff\n",
        "ID 122: pretest snaredrum on 2014-11-25 10:00:\n",
        "    Sarah Rempe (snaredrum): 1/eaee9b18-e2e8-4f47-8198-1f0862f2863a.aiff\n",
        "    Tobias Birke (snaredrum): 1/aaf38694-060a-4016-8814-1da6fd201ffc.aiff\n"
       ]
      }
     ],
     "prompt_number": 5
    },
    {
     "cell_type": "code",
     "collapsed": false,
     "input": [
      "track = genimpro.recordings.getRecordingDetails(122)[4][0]"
     ],
     "language": "python",
     "metadata": {},
     "outputs": [],
     "prompt_number": 6
    },
    {
     "cell_type": "code",
     "collapsed": false,
     "input": [
      "sonicevents = genimpro.soniceventsForTrack(track)"
     ],
     "language": "python",
     "metadata": {},
     "outputs": []
    },
    {
     "cell_type": "code",
     "collapsed": false,
     "input": [
      "def similarityMatrixP(events, norm=1):\n",
      "    similarityVectors = []\n",
      "    for n in range(0,(len(events))):\n",
      "        similarityVectors.append(genimpro.grouping.similarityVector(events[n]))\n",
      "\n",
      "    from scipy.spatial import distance\n",
      "    similarityMatrix = distance.cdist(similarityVectors, similarityVectors, 'euclidean')\n",
      "\n",
      "    if norm:\n",
      "        similarityMatrix = similarityMatrix/np.amax(similarityMatrix)\n",
      "\n",
      "    return similarityMatrix"
     ],
     "language": "python",
     "metadata": {},
     "outputs": [],
     "prompt_number": 15
    },
    {
     "cell_type": "code",
     "collapsed": false,
     "input": [
      "similarityMatrix = similarityMatrixP(sonicevents)"
     ],
     "language": "python",
     "metadata": {},
     "outputs": [],
     "prompt_number": 16
    },
    {
     "cell_type": "code",
     "collapsed": false,
     "input": [
      "for recordingID in recordings:\n",
      "    analyseRecording(recordingID)"
     ],
     "language": "python",
     "metadata": {},
     "outputs": [
      {
       "output_type": "stream",
       "stream": "stdout",
       "text": [
        "ID 93: pretest snaredrum on 2014-11-25 10:00:\n",
        "Updated relations for track 1"
       ]
      },
      {
       "output_type": "stream",
       "stream": "stdout",
       "text": [
        "\n",
        "Updated relations for track 2"
       ]
      },
      {
       "output_type": "stream",
       "stream": "stdout",
       "text": [
        "\n",
        "ID 94: pretest snaredrum on 2014-11-25 10:00:\n",
        "Updated relations for track 3"
       ]
      },
      {
       "output_type": "stream",
       "stream": "stdout",
       "text": [
        "\n",
        "Updated relations for track 4"
       ]
      },
      {
       "output_type": "stream",
       "stream": "stdout",
       "text": [
        "\n",
        "ID 95: pretest snaredrum on 2014-11-25 10:00:\n",
        "Updated relations for track 5"
       ]
      },
      {
       "output_type": "stream",
       "stream": "stdout",
       "text": [
        "\n",
        "Updated relations for track 6"
       ]
      },
      {
       "output_type": "stream",
       "stream": "stdout",
       "text": [
        "\n",
        "ID 96: pretest snaredrum on 2014-11-25 10:00:\n",
        "Updated relations for track 7"
       ]
      },
      {
       "output_type": "stream",
       "stream": "stdout",
       "text": [
        "\n",
        "Updated relations for track 8"
       ]
      },
      {
       "output_type": "stream",
       "stream": "stdout",
       "text": [
        "\n",
        "ID 97: pretest snaredrum on 2014-11-25 10:00:\n",
        "Updated relations for track 9"
       ]
      },
      {
       "output_type": "stream",
       "stream": "stdout",
       "text": [
        "\n",
        "Updated relations for track 10"
       ]
      },
      {
       "output_type": "stream",
       "stream": "stdout",
       "text": [
        "\n",
        "ID 98: pretest snaredrum on 2014-11-25 10:00:\n",
        "Updated relations for track 11"
       ]
      },
      {
       "output_type": "stream",
       "stream": "stdout",
       "text": [
        "\n",
        "Updated relations for track 12"
       ]
      },
      {
       "output_type": "stream",
       "stream": "stdout",
       "text": [
        "\n",
        "ID 99: pretest snaredrum on 2014-11-25 10:00:\n",
        "Updated relations for track 13"
       ]
      },
      {
       "output_type": "stream",
       "stream": "stdout",
       "text": [
        "\n",
        "Updated relations for track 14"
       ]
      },
      {
       "output_type": "stream",
       "stream": "stdout",
       "text": [
        "\n",
        "ID 100: pretest snaredrum on 2014-11-25 10:00:\n",
        "Updated relations for track 15"
       ]
      },
      {
       "output_type": "stream",
       "stream": "stdout",
       "text": [
        "\n",
        "Updated relations for track 16"
       ]
      },
      {
       "output_type": "stream",
       "stream": "stdout",
       "text": [
        "\n",
        "ID 101: pretest snaredrum on 2014-11-25 10:00:\n",
        "Updated relations for track 17"
       ]
      },
      {
       "output_type": "stream",
       "stream": "stdout",
       "text": [
        "\n",
        "Updated relations for track 18"
       ]
      },
      {
       "output_type": "stream",
       "stream": "stdout",
       "text": [
        "\n",
        "ID 102: pretest snaredrum on 2014-11-25 10:00:\n",
        "Updated relations for track 19"
       ]
      },
      {
       "output_type": "stream",
       "stream": "stdout",
       "text": [
        "\n",
        "Updated relations for track 20"
       ]
      },
      {
       "output_type": "stream",
       "stream": "stdout",
       "text": [
        "\n",
        "ID 103: pretest snaredrum on 2014-11-25 10:00:\n",
        "Updated relations for track 21"
       ]
      },
      {
       "output_type": "stream",
       "stream": "stdout",
       "text": [
        "\n",
        "Updated relations for track 22"
       ]
      },
      {
       "output_type": "stream",
       "stream": "stdout",
       "text": [
        "\n",
        "ID 104: pretest snaredrum on 2014-11-25 10:00:\n",
        "Updated relations for track 23"
       ]
      },
      {
       "output_type": "stream",
       "stream": "stdout",
       "text": [
        "\n",
        "Updated relations for track 24"
       ]
      },
      {
       "output_type": "stream",
       "stream": "stdout",
       "text": [
        "\n",
        "ID 105: pretest snaredrum on 2014-11-25 10:00:\n",
        "Updated relations for track 25"
       ]
      },
      {
       "output_type": "stream",
       "stream": "stdout",
       "text": [
        "\n",
        "Updated relations for track 26"
       ]
      },
      {
       "output_type": "stream",
       "stream": "stdout",
       "text": [
        "\n",
        "ID 106: pretest snaredrum on 2014-11-25 10:00:\n",
        "Updated relations for track 27"
       ]
      },
      {
       "output_type": "stream",
       "stream": "stdout",
       "text": [
        "\n",
        "Updated relations for track 28"
       ]
      },
      {
       "output_type": "stream",
       "stream": "stdout",
       "text": [
        "\n",
        "ID 107: pretest snaredrum on 2014-11-25 10:00:\n",
        "Updated relations for track 29"
       ]
      },
      {
       "output_type": "stream",
       "stream": "stdout",
       "text": [
        "\n",
        "Updated relations for track 30"
       ]
      },
      {
       "output_type": "stream",
       "stream": "stdout",
       "text": [
        "\n",
        "ID 108: pretest snaredrum on 2014-11-25 10:00:\n",
        "Updated relations for track 31"
       ]
      },
      {
       "output_type": "stream",
       "stream": "stdout",
       "text": [
        "\n",
        "Updated relations for track 32"
       ]
      },
      {
       "output_type": "stream",
       "stream": "stdout",
       "text": [
        "\n",
        "ID 109: pretest snaredrum on 2014-11-25 10:00:\n",
        "Updated relations for track 33"
       ]
      },
      {
       "output_type": "stream",
       "stream": "stdout",
       "text": [
        "\n",
        "Updated relations for track 34"
       ]
      },
      {
       "output_type": "stream",
       "stream": "stdout",
       "text": [
        "\n",
        "ID 110: pretest snaredrum on 2014-11-25 10:00:\n",
        "Updated relations for track 35"
       ]
      },
      {
       "output_type": "stream",
       "stream": "stdout",
       "text": [
        "\n",
        "Updated relations for track 36"
       ]
      },
      {
       "output_type": "stream",
       "stream": "stdout",
       "text": [
        "\n",
        "ID 111: pretest snaredrum on 2014-11-25 10:00:\n",
        "Updated relations for track 37"
       ]
      },
      {
       "output_type": "stream",
       "stream": "stdout",
       "text": [
        "\n",
        "Updated relations for track 38"
       ]
      },
      {
       "output_type": "stream",
       "stream": "stdout",
       "text": [
        "\n",
        "ID 112: pretest snaredrum on 2014-11-25 10:00:\n",
        "Updated relations for track 39"
       ]
      },
      {
       "output_type": "stream",
       "stream": "stdout",
       "text": [
        "\n",
        "Updated relations for track 40"
       ]
      },
      {
       "output_type": "stream",
       "stream": "stdout",
       "text": [
        "\n",
        "ID 113: pretest snaredrum on 2014-11-25 10:00:\n",
        "Updated relations for track 41"
       ]
      },
      {
       "output_type": "stream",
       "stream": "stdout",
       "text": [
        "\n",
        "Updated relations for track 42"
       ]
      },
      {
       "output_type": "stream",
       "stream": "stdout",
       "text": [
        "\n",
        "ID 114: pretest snaredrum on 2014-11-25 10:00:\n",
        "Updated relations for track 43"
       ]
      },
      {
       "output_type": "stream",
       "stream": "stdout",
       "text": [
        "\n",
        "Updated relations for track 44"
       ]
      },
      {
       "output_type": "stream",
       "stream": "stdout",
       "text": [
        "\n",
        "ID 115: pretest snaredrum on 2014-11-25 10:00:\n",
        "Updated relations for track 45"
       ]
      },
      {
       "output_type": "stream",
       "stream": "stdout",
       "text": [
        "\n",
        "Updated relations for track 46"
       ]
      },
      {
       "output_type": "stream",
       "stream": "stdout",
       "text": [
        "\n",
        "ID 116: pretest snaredrum on 2014-11-25 10:00:\n",
        "Updated relations for track 47"
       ]
      },
      {
       "output_type": "stream",
       "stream": "stdout",
       "text": [
        "\n",
        "Updated relations for track 48"
       ]
      },
      {
       "output_type": "stream",
       "stream": "stdout",
       "text": [
        "\n",
        "ID 117: pretest snaredrum on 2014-11-25 10:00:\n",
        "Updated relations for track 49"
       ]
      },
      {
       "output_type": "stream",
       "stream": "stdout",
       "text": [
        "\n",
        "Updated relations for track 50"
       ]
      },
      {
       "output_type": "stream",
       "stream": "stdout",
       "text": [
        "\n",
        "ID 118: pretest snaredrum on 2014-11-25 10:00:\n",
        "Updated relations for track 51"
       ]
      },
      {
       "output_type": "stream",
       "stream": "stdout",
       "text": [
        "\n",
        "Updated relations for track 52"
       ]
      },
      {
       "output_type": "stream",
       "stream": "stdout",
       "text": [
        "\n",
        "ID 119: pretest snaredrum on 2014-11-25 10:00:\n",
        "Updated relations for track 53"
       ]
      },
      {
       "output_type": "stream",
       "stream": "stdout",
       "text": [
        "\n",
        "Updated relations for track 54"
       ]
      },
      {
       "output_type": "stream",
       "stream": "stdout",
       "text": [
        "\n",
        "ID 120: pretest snaredrum on 2014-11-25 10:00:\n",
        "Updated relations for track 55"
       ]
      },
      {
       "output_type": "stream",
       "stream": "stdout",
       "text": [
        "\n",
        "Updated relations for track 56"
       ]
      },
      {
       "output_type": "stream",
       "stream": "stdout",
       "text": [
        "\n",
        "ID 121: pretest snaredrum on 2014-11-25 10:00:\n",
        "Updated relations for track 57"
       ]
      },
      {
       "output_type": "stream",
       "stream": "stdout",
       "text": [
        "\n",
        "Updated relations for track 58"
       ]
      },
      {
       "output_type": "stream",
       "stream": "stdout",
       "text": [
        "\n",
        "ID 122: pretest snaredrum on 2014-11-25 10:00:\n",
        "Updated relations for track 59"
       ]
      },
      {
       "output_type": "stream",
       "stream": "stdout",
       "text": [
        "\n",
        "Updated relations for track 60"
       ]
      },
      {
       "output_type": "stream",
       "stream": "stdout",
       "text": [
        "\n"
       ]
      }
     ],
     "prompt_number": 9
    }
   ],
   "metadata": {}
  }
 ]
}