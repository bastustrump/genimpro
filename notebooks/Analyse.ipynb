{
 "metadata": {
  "name": "",
  "signature": "sha256:92363a7ea1e925494f59217a9b8f6afa1b93c76233a9b2d1ef338ad2dd6c44d2"
 },
 "nbformat": 3,
 "nbformat_minor": 0,
 "worksheets": [
  {
   "cells": [
    {
     "cell_type": "code",
     "collapsed": false,
     "input": [
      "cd /Users/bastus/Desktop/Forschungsprojekt/genimpro"
     ],
     "language": "python",
     "metadata": {},
     "outputs": [
      {
       "output_type": "stream",
       "stream": "stdout",
       "text": [
        "/Users/bastus/Desktop/Forschungsprojekt/genimpro\n"
       ]
      }
     ],
     "prompt_number": 2
    },
    {
     "cell_type": "code",
     "collapsed": false,
     "input": [
      "%run importwrapper.py\n",
      "%pylab inline"
     ],
     "language": "python",
     "metadata": {},
     "outputs": [
      {
       "output_type": "stream",
       "stream": "stdout",
       "text": [
        "Populating the interactive namespace from numpy and matplotlib\n"
       ]
      }
     ],
     "prompt_number": 3
    },
    {
     "cell_type": "code",
     "collapsed": false,
     "input": [
      "def analyseTrack(track,updateAll=0):\n",
      "    \n",
      "    audio = genimpro.recordings.getAudioForTrack(track)\n",
      "    sonicevents = genimpro.recordings.getSoniceventsForTrack(track)\n",
      "    sequences = genimpro.recordings.getSequencesForTrack(track)\n",
      "    phenotypes = genimpro.recordings.getPhenotypesForTrack(track)\n",
      "    genotypes = genimpro.recordings.getGenotypesForTrack(track)\n",
      "    \n",
      "    if (sonicevents==None) | updateAll:\n",
      "        sonicevents = genimpro.soniceventsForTrack(track)\n",
      "        genimpro.recordings.updateSoniceventsForTrack(track,sonicevents)\n",
      "        \n",
      "        sequences = genimpro.grouping.sequencesForSonicevents(sonicevents)\n",
      "        genimpro.recordings.updateSequencesForTrack(track,sequences,sonicevents)\n",
      "        \n",
      "        phenotypes = genimpro.phenotypesForSequences(sequences,sonicevents,audio)\n",
      "        genimpro.recordings.updatePhenotypesForTrack(track,sequences,phenotypes)\n",
      "\n",
      "        genotypes = genimpro.genotypesForSequences(phenotypes)\n",
      "        genimpro.recordings.updateGenotypesForTrack(track,sequences,genotypes)\n",
      "\n",
      "        return\n",
      "        \n",
      "    if (sequences==None) | updateAll:\n",
      "        sequences = genimpro.grouping.sequencesForSonicevents(sonicevents)\n",
      "        genimpro.recordings.updateSequencesForTrack(track,sequences,sonicevents)\n",
      "    \n",
      "        phenotypes = genimpro.phenotypesForSequences(sequences,sonicevents,audio)\n",
      "        genimpro.recordings.updatePhenotypesForTrack(track,sequences,phenotypes)\n",
      "\n",
      "        genotypes = genimpro.genotypesForSequences(phenotypes)\n",
      "        genimpro.recordings.updateGenotypesForTrack(track,sequences,genotypes)\n",
      "        \n",
      "        return\n",
      "        \n",
      "    if (phenotypes==None) | updateAll:\n",
      "        phenotypes = genimpro.phenotypesForSequences(sequences,sonicevents,audio)\n",
      "        genimpro.recordings.updatePhenotypesForTrack(track,sequences,phenotypes)   \n",
      "\n",
      "        genotypes = genimpro.genotypesForSequences(phenotypes)\n",
      "        genimpro.recordings.updateGenotypesForTrack(track,sequences,genotypes)\n",
      "\n",
      "        return\n",
      "\n",
      "    if (genotypes==None) | updateAll: \n",
      "\n",
      "        genotypes = genimpro.genotypesForSequences(phenotypes)\n",
      "        genimpro.recordings.updateGenotypesForTrack(track,sequences,genotypes)        \n",
      "        \n"
     ],
     "language": "python",
     "metadata": {},
     "outputs": [],
     "prompt_number": 4
    },
    {
     "cell_type": "code",
     "collapsed": false,
     "input": [
      "def analysePhenotypes(track):\n",
      "\n",
      "    audio = genimpro.recordings.getAudioForTrack(track)\n",
      "    cellBoundaries = genimpro.grouping.groupBySilence(audio)\n",
      "    genimpro.recordings.updateCellsForTrack(track,cellBoundaries)\n",
      "\n",
      "    phenotypes = genimpro.phenotypesForCells(cellBoundaries,audio)\n",
      "    genimpro.recordings.updatePhenotypesForTrack(track,cellBoundaries,phenotypes)"
     ],
     "language": "python",
     "metadata": {},
     "outputs": [],
     "prompt_number": 5
    },
    {
     "cell_type": "code",
     "collapsed": false,
     "input": [
      "def analyseGenotypes(track,sessionID):\n",
      "    cellBoundaries = genimpro.recordings.getSequencesForTrack(track)\n",
      "    phenotypes = genimpro.recordings.getPhenotypesForTrack(track)\n",
      "    genotypes = genimpro.genotypesForCells(phenotypes,sessionID)\n",
      "    genimpro.recordings.updateGenotypesForTrack(track,cellBoundaries,genotypes)"
     ],
     "language": "python",
     "metadata": {},
     "outputs": [],
     "prompt_number": 20
    },
    {
     "cell_type": "code",
     "collapsed": false,
     "input": [
      "def addRelations(track):\n",
      "    (genotypes,sequenceData) = genimpro.recordings.prepareDataForRelations(track[3])\n",
      "    sequences = genimpro.recordings.getSequencesForTrack(track)\n",
      "    relations = genimpro.calculateRelationsForGenotypes(genotypes,sequenceData)\n",
      "    relations = relations[0:len(sequences)]\n",
      "    genimpro.recordings.updateRelationsForTrack(track,sequences,relations)\n"
     ],
     "language": "python",
     "metadata": {},
     "outputs": [],
     "prompt_number": 21
    },
    {
     "cell_type": "code",
     "collapsed": false,
     "input": [
      "def analyseRecording(recordingID,sessionID,updateAll=0):\n",
      "\n",
      "    recordingDetails = genimpro.recordings.getRecordingDetails(recordingID)\n",
      "    print \"Analysing ID %i: %s on %s:\" % (recordingDetails[0],recordingDetails[1],recordingDetails[2])\n",
      "\n",
      "    for track in recordingDetails[4]:\n",
      "        analyseGenotypes(track,sessionID)\n",
      "    \n",
      "    for track in recordingDetails[4]:\n",
      "        addRelations(track)"
     ],
     "language": "python",
     "metadata": {},
     "outputs": [],
     "prompt_number": 29
    },
    {
     "cell_type": "code",
     "collapsed": false,
     "input": [
      "def analyseSession(sessionID):\n",
      "    recordings = genimpro.recordings.listRecodings(sessionID)\n",
      "    for recordingID in recordings:\n",
      "        analyseRecording(recordingID,sessionID)"
     ],
     "language": "python",
     "metadata": {},
     "outputs": [],
     "prompt_number": 27
    },
    {
     "cell_type": "code",
     "collapsed": false,
     "input": [
      "analyseSession(2)"
     ],
     "language": "python",
     "metadata": {},
     "outputs": [
      {
       "output_type": "stream",
       "stream": "stdout",
       "text": [
        "ID 127: recorder on 2015-08-20 10:00:\n",
        "    Martin Weigert (recorder): 2/664e3329-b099-49ad-a139-c8b791242115.aiff\n",
        "    Johanna Steinborn (recorder): 2/2ad882dd-932b-4573-8811-96829a37d973.aiff\n",
        "ID 128: recorder on 2015-08-20 10:00:\n",
        "    Martin Weigert (recorder): 2/a977e983-d8bf-4d2d-86a7-def3357c1ff1.aiff\n",
        "    Johanna Steinborn (recorder): 2/01a53253-14e0-4323-895d-289a9a0eeb14.aiff\n",
        "ID 129: recorder on 2015-08-20 10:00:\n",
        "    Caroline Hausen (recorder): 2/9d4102b2-9e75-41ae-9222-12ba51bbbcb0.aiff\n",
        "    Johanna Steinborn (recorder): 2/5feeb19c-987a-4b64-b37f-34c6932adf90.aiff\n",
        "ID 130: recorder on 2015-08-20 10:00:\n",
        "    Caroline Hausen (recorder): 2/573a1bc9-089b-4856-a726-a5050269c261.aiff\n",
        "    Johanna Steinborn (recorder): 2/d40da0d4-2613-460e-a075-8f71a8c23cae.aiff\n",
        "ID 131: recorder on 2015-08-20 10:00:\n",
        "    Martin Weigert (recorder): 2/791f2a90-0ec4-4681-a1d7-ca6914fdc066.aiff\n",
        "    Johanna Steinborn (recorder): 2/d947e18b-acce-4301-878f-a586a6209a20.aiff\n",
        "ID 132: recorder on 2015-08-20 10:00:\n",
        "    Caroline Hausen (recorder): 2/d83f6b48-49a3-422b-a183-71937b406855.aiff\n",
        "    Johanna Steinborn (recorder): 2/3f8cf447-c34d-4794-af3e-b73d7ab2f34e.aiff\n",
        "ID 133: recorder on 2015-08-20 10:00:\n",
        "    Martin Weigert (recorder): 2/6c79816a-01ff-4742-8462-3ebba84b7eb8.aiff\n",
        "    Caroline Hausen (recorder): 2/b264c1d3-1737-4df1-99c3-b62e27dfcbf7.aiff\n",
        "ID 134: recorder on 2015-08-20 10:00:\n",
        "    Martin Weigert (recorder): 2/60ea534e-663b-4b29-b7e7-10ef0dd5d6c7.aiff\n",
        "    Caroline Hausen (recorder): 2/2ec91bb1-5f22-4478-85f4-844f7b5e1329.aiff\n",
        "ID 135: recorder on 2015-08-20 10:00:\n",
        "    Martin Weigert (recorder): 2/81cdc61a-8502-4700-b7e1-1e7f5c4052ae.aiff\n",
        "    Johanna Steinborn (recorder): 2/aee18a7c-4f2b-4c6c-bf70-99d919e4c6eb.aiff\n",
        "ID 136: recorder on 2015-08-20 10:00:\n",
        "    Caroline Hausen (recorder): 2/77da74df-6993-48f5-9954-37d6af69c8ec.aiff\n",
        "    Johanna Steinborn (recorder): 2/9980f7c1-b445-41e4-b00e-d1adbb66d9f7.aiff\n",
        "ID 137: recorder on 2015-08-20 10:00:\n",
        "    Martin Weigert (recorder): 2/7e145d94-8e2c-4f92-a975-ac755964cda9.aiff\n",
        "    Caroline Hausen (recorder): 2/75a49c6e-23c7-45ff-bdbc-5bc96797256a.aiff\n",
        "Analysing ID 127: recorder on 2015-08-20 10:00:\n",
        "Updated 45 genotypes for track 63"
       ]
      },
      {
       "output_type": "stream",
       "stream": "stdout",
       "text": [
        "\n",
        "Updated 37 genotypes for track 64"
       ]
      },
      {
       "output_type": "stream",
       "stream": "stdout",
       "text": [
        "\n",
        "Updated relations for track 63"
       ]
      },
      {
       "output_type": "stream",
       "stream": "stdout",
       "text": [
        "\n",
        "Updated relations for track 64"
       ]
      },
      {
       "output_type": "stream",
       "stream": "stdout",
       "text": [
        "\n",
        "Analysing ID 128: recorder on 2015-08-20 10:00:\n",
        "Updated 27 genotypes for track 65"
       ]
      },
      {
       "output_type": "stream",
       "stream": "stdout",
       "text": [
        "\n",
        "Updated 31 genotypes for track 66"
       ]
      },
      {
       "output_type": "stream",
       "stream": "stdout",
       "text": [
        "\n",
        "Updated relations for track 65"
       ]
      },
      {
       "output_type": "stream",
       "stream": "stdout",
       "text": [
        "\n",
        "Updated relations for track 66"
       ]
      },
      {
       "output_type": "stream",
       "stream": "stdout",
       "text": [
        "\n",
        "Analysing ID 129: recorder on 2015-08-20 10:00:\n",
        "Updated 16 genotypes for track 67"
       ]
      },
      {
       "output_type": "stream",
       "stream": "stdout",
       "text": [
        "\n",
        "Updated 14 genotypes for track 68"
       ]
      },
      {
       "output_type": "stream",
       "stream": "stdout",
       "text": [
        "\n",
        "Updated relations for track 67"
       ]
      },
      {
       "output_type": "stream",
       "stream": "stdout",
       "text": [
        "\n",
        "Updated relations for track 68"
       ]
      },
      {
       "output_type": "stream",
       "stream": "stdout",
       "text": [
        "\n",
        "Analysing ID 130: recorder on 2015-08-20 10:00:\n",
        "Updated 34 genotypes for track 69"
       ]
      },
      {
       "output_type": "stream",
       "stream": "stdout",
       "text": [
        "\n",
        "Updated 49 genotypes for track 70"
       ]
      },
      {
       "output_type": "stream",
       "stream": "stdout",
       "text": [
        "\n",
        "Updated relations for track 69"
       ]
      },
      {
       "output_type": "stream",
       "stream": "stdout",
       "text": [
        "\n",
        "Updated relations for track 70"
       ]
      },
      {
       "output_type": "stream",
       "stream": "stdout",
       "text": [
        "\n",
        "Analysing ID 131: recorder on 2015-08-20 10:00:\n",
        "Updated 25 genotypes for track 71"
       ]
      },
      {
       "output_type": "stream",
       "stream": "stdout",
       "text": [
        "\n",
        "Updated 27 genotypes for track 72"
       ]
      },
      {
       "output_type": "stream",
       "stream": "stdout",
       "text": [
        "\n",
        "Updated relations for track 71"
       ]
      },
      {
       "output_type": "stream",
       "stream": "stdout",
       "text": [
        "\n",
        "Updated relations for track 72"
       ]
      },
      {
       "output_type": "stream",
       "stream": "stdout",
       "text": [
        "\n",
        "Analysing ID 132: recorder on 2015-08-20 10:00:\n",
        "Updated 20 genotypes for track 73"
       ]
      },
      {
       "output_type": "stream",
       "stream": "stdout",
       "text": [
        "\n",
        "Updated 17 genotypes for track 74"
       ]
      },
      {
       "output_type": "stream",
       "stream": "stdout",
       "text": [
        "\n",
        "Updated relations for track 73"
       ]
      },
      {
       "output_type": "stream",
       "stream": "stdout",
       "text": [
        "\n",
        "Updated relations for track 74"
       ]
      },
      {
       "output_type": "stream",
       "stream": "stdout",
       "text": [
        "\n",
        "Analysing ID 133: recorder on 2015-08-20 10:00:\n",
        "Updated 35 genotypes for track 75"
       ]
      },
      {
       "output_type": "stream",
       "stream": "stdout",
       "text": [
        "\n",
        "Updated 44 genotypes for track 76"
       ]
      },
      {
       "output_type": "stream",
       "stream": "stdout",
       "text": [
        "\n",
        "Updated relations for track 75"
       ]
      },
      {
       "output_type": "stream",
       "stream": "stdout",
       "text": [
        "\n",
        "Updated relations for track 76"
       ]
      },
      {
       "output_type": "stream",
       "stream": "stdout",
       "text": [
        "\n",
        "Analysing ID 134: recorder on 2015-08-20 10:00:\n",
        "Updated 37 genotypes for track 77"
       ]
      },
      {
       "output_type": "stream",
       "stream": "stdout",
       "text": [
        "\n",
        "Updated 37 genotypes for track 78"
       ]
      },
      {
       "output_type": "stream",
       "stream": "stdout",
       "text": [
        "\n",
        "Updated relations for track 77"
       ]
      },
      {
       "output_type": "stream",
       "stream": "stdout",
       "text": [
        "\n",
        "Updated relations for track 78"
       ]
      },
      {
       "output_type": "stream",
       "stream": "stdout",
       "text": [
        "\n",
        "Analysing ID 135: recorder on 2015-08-20 10:00:\n",
        "Updated 37 genotypes for track 79"
       ]
      },
      {
       "output_type": "stream",
       "stream": "stdout",
       "text": [
        "\n",
        "Updated 43 genotypes for track 80"
       ]
      },
      {
       "output_type": "stream",
       "stream": "stdout",
       "text": [
        "\n",
        "Updated relations for track 79"
       ]
      },
      {
       "output_type": "stream",
       "stream": "stdout",
       "text": [
        "\n",
        "Updated relations for track 80"
       ]
      },
      {
       "output_type": "stream",
       "stream": "stdout",
       "text": [
        "\n",
        "Analysing ID 136: recorder on 2015-08-20 10:00:\n",
        "Updated 58 genotypes for track 81"
       ]
      },
      {
       "output_type": "stream",
       "stream": "stdout",
       "text": [
        "\n",
        "Updated 49 genotypes for track 82"
       ]
      },
      {
       "output_type": "stream",
       "stream": "stdout",
       "text": [
        "\n",
        "Updated relations for track 81"
       ]
      },
      {
       "output_type": "stream",
       "stream": "stdout",
       "text": [
        "\n",
        "Updated relations for track 82"
       ]
      },
      {
       "output_type": "stream",
       "stream": "stdout",
       "text": [
        "\n",
        "Analysing ID 137: recorder on 2015-08-20 10:00:\n",
        "Updated 23 genotypes for track 83"
       ]
      },
      {
       "output_type": "stream",
       "stream": "stdout",
       "text": [
        "\n",
        "Updated 22 genotypes for track 84"
       ]
      },
      {
       "output_type": "stream",
       "stream": "stdout",
       "text": [
        "\n",
        "Updated relations for track 83"
       ]
      },
      {
       "output_type": "stream",
       "stream": "stdout",
       "text": [
        "\n",
        "Updated relations for track 84"
       ]
      },
      {
       "output_type": "stream",
       "stream": "stdout",
       "text": [
        "\n"
       ]
      }
     ],
     "prompt_number": 30
    },
    {
     "cell_type": "code",
     "collapsed": false,
     "input": [
      "track = genimpro.recordings.getRecordingDetails(122)[4][0]"
     ],
     "language": "python",
     "metadata": {},
     "outputs": []
    },
    {
     "cell_type": "code",
     "collapsed": false,
     "input": [
      "analysePhenotypes(track)"
     ],
     "language": "python",
     "metadata": {},
     "outputs": []
    }
   ],
   "metadata": {}
  }
 ]
}