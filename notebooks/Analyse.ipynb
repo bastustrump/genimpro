{
 "metadata": {
  "name": "",
  "signature": "sha256:2dd537b4bd62a213922133c6520e4241f2908eb1507afd49bf0f6ca237669bc9"
 },
 "nbformat": 3,
 "nbformat_minor": 0,
 "worksheets": [
  {
   "cells": [
    {
     "cell_type": "code",
     "collapsed": false,
     "input": [
      "cd /Users/bastus/Desktop/Forschungsprojekt/genimpro"
     ],
     "language": "python",
     "metadata": {},
     "outputs": [
      {
       "output_type": "stream",
       "stream": "stdout",
       "text": [
        "/Users/bastus/Desktop/Forschungsprojekt/genimpro\n"
       ]
      }
     ],
     "prompt_number": 3
    },
    {
     "cell_type": "code",
     "collapsed": false,
     "input": [
      "%run importwrapper.py\n",
      "%pylab inline\n",
      "samplerate=44100.0"
     ],
     "language": "python",
     "metadata": {},
     "outputs": [
      {
       "output_type": "stream",
       "stream": "stdout",
       "text": [
        "Populating the interactive namespace from numpy and matplotlib\n"
       ]
      }
     ],
     "prompt_number": 4
    },
    {
     "cell_type": "code",
     "collapsed": false,
     "input": [
      "import os.path, time\n",
      "from datetime import datetime\n",
      "import sqlite3 as lite\n",
      "db = lite.connect('genImpro.db')\n",
      "c = db.cursor() \n",
      "\n",
      "def updateDateForRecording(recordingID):\n",
      "    f = '%Y-%m-%d %H:%M:%S'\n",
      "    \n",
      "    dt_obj = datetime.fromtimestamp(os.path.getmtime(recordingDetails[5])).strftime(f)\n",
      "    \n",
      "    sqlcommand = \"Update recordings set date=%s where ID = %i\" % (repr(dt_obj),recordingID)\n",
      "    #print sqlcommand\n",
      "    c.execute(sqlcommand)\n",
      "    db.commit()\n",
      "    \n",
      "    #print \"last modified: %s\" % time.ctime(os.path.getmtime(recordingDetails[5]).strftime(f))\n",
      "    #print \"created: %s\" % time.ctime(os.path.getctime(recordingDetails[5]).strftime(f))\n",
      "    "
     ],
     "language": "python",
     "metadata": {},
     "outputs": [],
     "prompt_number": 5
    },
    {
     "cell_type": "code",
     "collapsed": false,
     "input": [
      "def analyseTrack(track,updateAll=0):\n",
      "    \n",
      "    audio = genimpro.recordings.getAudioForTrack(track)\n",
      "    sonicevents = genimpro.recordings.getSoniceventsForTrack(track)\n",
      "    sequences = genimpro.recordings.getSequencesForTrack(track)\n",
      "    phenotypes = genimpro.recordings.getPhenotypesForTrack(track)\n",
      "    genotypes = genimpro.recordings.getGenotypesForTrack(track)\n",
      "    \n",
      "    if (sonicevents==None) | updateAll:\n",
      "        sonicevents = genimpro.soniceventsForTrack(track)\n",
      "        genimpro.recordings.updateSoniceventsForTrack(track,sonicevents)\n",
      "        \n",
      "        sequences = genimpro.grouping.sequencesForSonicevents(sonicevents)\n",
      "        genimpro.recordings.updateSequencesForTrack(track,sequences,sonicevents)\n",
      "        \n",
      "        phenotypes = genimpro.phenotypesForSequences(sequences,sonicevents,audio)\n",
      "        genimpro.recordings.updatePhenotypesForTrack(track,sequences,phenotypes)\n",
      "\n",
      "        genotypes = genimpro.genotypesForSequences(phenotypes)\n",
      "        genimpro.recordings.updateGenotypesForTrack(track,sequences,genotypes)\n",
      "\n",
      "        return\n",
      "        \n",
      "    if (sequences==None) | updateAll:\n",
      "        sequences = genimpro.grouping.sequencesForSonicevents(sonicevents)\n",
      "        genimpro.recordings.updateSequencesForTrack(track,sequences,sonicevents)\n",
      "    \n",
      "        phenotypes = genimpro.phenotypesForSequences(sequences,sonicevents,audio)\n",
      "        genimpro.recordings.updatePhenotypesForTrack(track,sequences,phenotypes)\n",
      "\n",
      "        genotypes = genimpro.genotypesForSequences(phenotypes)\n",
      "        genimpro.recordings.updateGenotypesForTrack(track,sequences,genotypes)\n",
      "        \n",
      "        return\n",
      "        \n",
      "    if (phenotypes==None) | updateAll:\n",
      "        phenotypes = genimpro.phenotypesForSequences(sequences,sonicevents,audio)\n",
      "        genimpro.recordings.updatePhenotypesForTrack(track,sequences,phenotypes)   \n",
      "\n",
      "        genotypes = genimpro.genotypesForSequences(phenotypes)\n",
      "        genimpro.recordings.updateGenotypesForTrack(track,sequences,genotypes)\n",
      "\n",
      "        return\n",
      "\n",
      "    if (genotypes==None) | updateAll: \n",
      "\n",
      "        genotypes = genimpro.genotypesForSequences(phenotypes)\n",
      "        genimpro.recordings.updateGenotypesForTrack(track,sequences,genotypes)        \n",
      "        \n"
     ],
     "language": "python",
     "metadata": {},
     "outputs": [],
     "prompt_number": 6
    },
    {
     "cell_type": "code",
     "collapsed": false,
     "input": [
      "def analyseGenotypes(track,sessionID):\n",
      "    cellBoundaries = genimpro.recordings.getSequencesForTrack(track)\n",
      "    phenotypes = genimpro.recordings.getPhenotypesForTrack(track)\n",
      "    if type(phenotypes) <> type(None):\n",
      "        genotypes = genimpro.genotypesForCells(phenotypes,sessionID)\n",
      "        genimpro.recordings.updateGenotypesForTrack(track,cellBoundaries,genotypes)"
     ],
     "language": "python",
     "metadata": {},
     "outputs": [],
     "prompt_number": 7
    },
    {
     "cell_type": "code",
     "collapsed": false,
     "input": [
      "def addRelations(track):\n",
      "    sequences = genimpro.recordings.getSequencesForTrack(track)\n",
      "    (genotypes,sequenceData) = genimpro.recordings.prepareDataForRelations(track[3])\n",
      "\n",
      "    relations = genimpro.calculateRelationsForGenotypes(genotypes,sequenceData)\n",
      "    relations = relations[0:len(sequences)]\n",
      "    genimpro.recordings.updateRelationsForTrack(track,sequences,relations)\n"
     ],
     "language": "python",
     "metadata": {},
     "outputs": [],
     "prompt_number": 8
    },
    {
     "cell_type": "code",
     "collapsed": false,
     "input": [
      "def analyseRecording(recordingID,sessionID,updateAll=0):\n",
      "\n",
      "    recordingDetails = genimpro.recordings.getRecordingDetails(recordingID)\n",
      "    print \"Analysing ID %i: %s on %s:\" % (recordingDetails[0],recordingDetails[1],recordingDetails[6])\n",
      "    \n",
      "    for track in recordingDetails[4]:\n",
      "        analysePhenotypes(track)\n"
     ],
     "language": "python",
     "metadata": {},
     "outputs": [],
     "prompt_number": 9
    },
    {
     "cell_type": "code",
     "collapsed": false,
     "input": [
      "def analyseGenetics(recordingID,sessionID,updateAll=0):\n",
      "\n",
      "    recordingDetails = genimpro.recordings.getRecordingDetails(recordingID)\n",
      "    \n",
      "    for track in recordingDetails[4]:\n",
      "        analyseGenotypes(track,sessionID)\n",
      "    \n",
      "    for track in recordingDetails[4]:\n",
      "        addRelations(track)"
     ],
     "language": "python",
     "metadata": {},
     "outputs": [],
     "prompt_number": 10
    },
    {
     "cell_type": "code",
     "collapsed": false,
     "input": [
      "import aifc\n",
      "track = genimpro.recordings.getRecordingDetails(133)[4][0]\n",
      "audio = genimpro.recordings.getAudioForTrack(track,normalize=1)\n",
      "\n",
      "\n",
      "filename = \"soundcells/\" + str(track[4])+\".aiff\"\n",
      "b=aifc.open(filename,\"w\")\n",
      "b.setnchannels(1)\n",
      "b.setsampwidth(1)\n",
      "b.setframerate(44100)\n",
      "packed_channel = struct.pack(str(len(audio))+'h',*audio)\n",
      "b.writeframes(audio)\n",
      "b.close()"
     ],
     "language": "python",
     "metadata": {},
     "outputs": [],
     "prompt_number": 14
    },
    {
     "cell_type": "code",
     "collapsed": false,
     "input": [
      "track = genimpro.recordings.getRecordingDetails(133)[4][0]\n",
      "\n"
     ],
     "language": "python",
     "metadata": {},
     "outputs": [
      {
       "metadata": {},
       "output_type": "pyout",
       "prompt_number": 21,
       "text": [
        "<open file 'soundcells/133.aiff', mode 'wb+' at 0x10cf03300>"
       ]
      }
     ],
     "prompt_number": 21
    },
    {
     "cell_type": "code",
     "collapsed": false,
     "input": [
      "import pydub\n",
      "import cStringIO\n",
      "def analysePhenotypes(track):\n",
      "\n",
      "    #audio = genimpro.recordings.getAudioForTrack(track,normalize=1)\n",
      "    \n",
      "    print track[4]\n",
      "    cellBoundaries = genimpro.recordings.getSequencesForTrack(track)\n",
      "    \n",
      "    if len(cellBoundaries)>4:\n",
      "        cellIdx = 4\n",
      "\n",
      "        audio = pydub.AudioSegment.from_file(track[2],\"aiff\")\n",
      "        filename = \"soundcells/\" + str(track[4])+\".aiff\"\n",
      "        audioslice=audio[(cellBoundaries[cellIdx][0]/samplerate)*1000:(cellBoundaries[cellIdx][1]/samplerate)*1000]+5\n",
      "        audioslice.export(filename, format=\"aiff\")\n",
      "\n",
      "        if 1==0:\n",
      "            t_silence = track[6]\n",
      "            print t_silence\n",
      "\n",
      "            minGapSize = track[7]\n",
      "            print minGapSize\n",
      "\n",
      "            cellBoundaries = genimpro.grouping.groupBySilence(audio,minGapSize=minGapSize,t_silence=t_silence)\n",
      "\n",
      "            genimpro.recordings.updateCellsForTrack(track,cellBoundaries)\n",
      "\n",
      "            phenotypes = genimpro.phenotypesForCells(cellBoundaries,audio)\n",
      "            genimpro.recordings.updatePhenotypesForTrack(track,cellBoundaries,phenotypes)"
     ],
     "language": "python",
     "metadata": {},
     "outputs": [],
     "prompt_number": 31
    },
    {
     "cell_type": "code",
     "collapsed": false,
     "input": [
      "def analyseSession(sessionID):\n",
      "    recordings = genimpro.recordings.listRecodings(sessionID)\n",
      "    for recordingID in recordings:\n",
      "        analyseRecording(recordingID,sessionID)\n",
      "        \n",
      "    #genimpro.genomeForSession(sessionID)\n",
      "    \n",
      "    #for recordingID in recordings:\n",
      "    #    analyseGenetics(recordingID,sessionID)"
     ],
     "language": "python",
     "metadata": {},
     "outputs": [],
     "prompt_number": 24
    },
    {
     "cell_type": "code",
     "collapsed": false,
     "input": [
      "import sqlite3 as lite\n",
      "\n",
      "def deleteRecording(recordingID):\n",
      "    db = lite.connect('genImpro.db')\n",
      "    c = db.cursor() \n",
      "    \n",
      "    sqlcommand = \"delete from tracks where recordingID = %i\" % (recordingID)\n",
      "    c.execute(sqlcommand)\n",
      "    db.commit()\n",
      "    \n",
      "    sqlcommand = \"delete from recordings where ID = %i\" % (recordingID)\n",
      "    c.execute(sqlcommand)\n",
      "    db.commit()    "
     ],
     "language": "python",
     "metadata": {},
     "outputs": []
    },
    {
     "cell_type": "code",
     "collapsed": false,
     "input": [
      "analyseSession(3)"
     ],
     "language": "python",
     "metadata": {},
     "outputs": [
      {
       "output_type": "stream",
       "stream": "stdout",
       "text": [
        "Analysing ID 139: Blind Date on 2015-10-17 20:37:16:\n",
        "139\n",
        "139"
       ]
      },
      {
       "output_type": "stream",
       "stream": "stdout",
       "text": [
        "\n",
        "Analysing ID 140: Blind Date on 2015-10-17 20:25:11:"
       ]
      },
      {
       "output_type": "stream",
       "stream": "stdout",
       "text": [
        "\n",
        "140\n",
        "140"
       ]
      },
      {
       "output_type": "stream",
       "stream": "stdout",
       "text": [
        "\n",
        "Analysing ID 141: Blind Date on 2015-10-17 20:17:42:"
       ]
      },
      {
       "output_type": "stream",
       "stream": "stdout",
       "text": [
        "\n",
        "141\n",
        "141"
       ]
      },
      {
       "output_type": "stream",
       "stream": "stdout",
       "text": [
        "\n",
        "Analysing ID 142: Blind Date on 2015-10-17 20:47:12:"
       ]
      },
      {
       "output_type": "stream",
       "stream": "stdout",
       "text": [
        "\n",
        "142\n",
        "142"
       ]
      },
      {
       "output_type": "stream",
       "stream": "stdout",
       "text": [
        "\n",
        "Analysing ID 143: Blind Date on 2015-10-17 16:20:18:"
       ]
      },
      {
       "output_type": "stream",
       "stream": "stdout",
       "text": [
        "\n",
        "143\n",
        "143"
       ]
      },
      {
       "output_type": "stream",
       "stream": "stdout",
       "text": [
        "\n",
        "Analysing ID 144: Blind Date on 2015-10-17 14:54:06:"
       ]
      },
      {
       "output_type": "stream",
       "stream": "stdout",
       "text": [
        "\n",
        "144\n",
        "144\n",
        "Analysing ID 145: Blind Date on 2015-10-17 20:23:45:"
       ]
      },
      {
       "output_type": "stream",
       "stream": "stdout",
       "text": [
        "\n",
        "145\n",
        "145"
       ]
      },
      {
       "output_type": "stream",
       "stream": "stdout",
       "text": [
        "\n",
        "Analysing ID 146: Blind Date on 2015-10-17 16:20:34:"
       ]
      },
      {
       "output_type": "stream",
       "stream": "stdout",
       "text": [
        "\n",
        "146\n",
        "146\n",
        "Analysing ID 147: Blind Date on 2015-10-17 20:41:37:"
       ]
      },
      {
       "output_type": "stream",
       "stream": "stdout",
       "text": [
        "\n",
        "147\n",
        "147"
       ]
      },
      {
       "output_type": "stream",
       "stream": "stdout",
       "text": [
        "\n",
        "Analysing ID 149: Blind Date on 2015-12-29 16:49:56:"
       ]
      },
      {
       "output_type": "stream",
       "stream": "stdout",
       "text": [
        "\n",
        "149\n",
        "149"
       ]
      },
      {
       "output_type": "stream",
       "stream": "stdout",
       "text": [
        "\n",
        "Analysing ID 150: Blind Date on 2015-10-17 20:54:40:"
       ]
      },
      {
       "output_type": "stream",
       "stream": "stdout",
       "text": [
        "\n",
        "150\n",
        "150"
       ]
      },
      {
       "output_type": "stream",
       "stream": "stdout",
       "text": [
        "\n",
        "Analysing ID 151: Blind Date on 2015-10-17 20:19:39:"
       ]
      },
      {
       "output_type": "stream",
       "stream": "stdout",
       "text": [
        "\n",
        "151\n",
        "151"
       ]
      },
      {
       "output_type": "stream",
       "stream": "stdout",
       "text": [
        "\n",
        "Analysing ID 152: Blind Date on 2015-10-17 20:45:29:"
       ]
      },
      {
       "output_type": "stream",
       "stream": "stdout",
       "text": [
        "\n",
        "152\n",
        "152"
       ]
      },
      {
       "output_type": "stream",
       "stream": "stdout",
       "text": [
        "\n",
        "Analysing ID 153: Blind Date on 2015-10-17 14:58:57:"
       ]
      },
      {
       "output_type": "stream",
       "stream": "stdout",
       "text": [
        "\n",
        "153\n",
        "153\n",
        "Analysing ID 154: Blind Date on 2015-10-17 16:21:10:"
       ]
      },
      {
       "output_type": "stream",
       "stream": "stdout",
       "text": [
        "\n",
        "154\n",
        "154"
       ]
      },
      {
       "output_type": "stream",
       "stream": "stdout",
       "text": [
        "\n",
        "Analysing ID 155: Blind Date on 2015-10-17 20:49:40:"
       ]
      },
      {
       "output_type": "stream",
       "stream": "stdout",
       "text": [
        "\n",
        "155\n",
        "155"
       ]
      },
      {
       "output_type": "stream",
       "stream": "stdout",
       "text": [
        "\n",
        "Analysing ID 156: Blind Date on 2015-10-17 21:02:21:"
       ]
      },
      {
       "output_type": "stream",
       "stream": "stdout",
       "text": [
        "\n",
        "156\n",
        "156"
       ]
      },
      {
       "output_type": "stream",
       "stream": "stdout",
       "text": [
        "\n",
        "Analysing ID 157: Blind Date on 2015-10-17 16:19:49:"
       ]
      },
      {
       "output_type": "stream",
       "stream": "stdout",
       "text": [
        "\n",
        "157\n",
        "157"
       ]
      },
      {
       "output_type": "stream",
       "stream": "stdout",
       "text": [
        "\n",
        "Analysing ID 158: Blind Date on 2015-10-17 20:32:29:"
       ]
      },
      {
       "output_type": "stream",
       "stream": "stdout",
       "text": [
        "\n",
        "158\n",
        "158"
       ]
      },
      {
       "output_type": "stream",
       "stream": "stdout",
       "text": [
        "\n",
        "Analysing ID 159: Blind Date on 2015-10-17 20:22:42:"
       ]
      },
      {
       "output_type": "stream",
       "stream": "stdout",
       "text": [
        "\n",
        "159\n",
        "159"
       ]
      },
      {
       "output_type": "stream",
       "stream": "stdout",
       "text": [
        "\n",
        "Analysing ID 160: Blind Date on 2015-10-17 20:44:14:"
       ]
      },
      {
       "output_type": "stream",
       "stream": "stdout",
       "text": [
        "\n",
        "160\n",
        "160\n",
        "Analysing ID 161: Blind Date on 2015-10-17 20:55:02:"
       ]
      },
      {
       "output_type": "stream",
       "stream": "stdout",
       "text": [
        "\n",
        "161\n",
        "161\n",
        "Analysing ID 162: Blind Date on 2015-10-17 20:34:13:"
       ]
      },
      {
       "output_type": "stream",
       "stream": "stdout",
       "text": [
        "\n",
        "162\n",
        "162"
       ]
      },
      {
       "output_type": "stream",
       "stream": "stdout",
       "text": [
        "\n",
        "Analysing ID 163: Blind Date on 2015-10-17 21:00:23:"
       ]
      },
      {
       "output_type": "stream",
       "stream": "stdout",
       "text": [
        "\n",
        "163\n",
        "163\n",
        "Analysing ID 164: Blind Date on 2015-10-17 20:46:12:"
       ]
      },
      {
       "output_type": "stream",
       "stream": "stdout",
       "text": [
        "\n",
        "164\n",
        "164"
       ]
      },
      {
       "output_type": "stream",
       "stream": "stdout",
       "text": [
        "\n",
        "Analysing ID 165: Blind Date on 2015-10-17 21:03:35:"
       ]
      },
      {
       "output_type": "stream",
       "stream": "stdout",
       "text": [
        "\n",
        "165\n",
        "165"
       ]
      },
      {
       "output_type": "stream",
       "stream": "stdout",
       "text": [
        "\n",
        "Analysing ID 166: Blind Date on 2015-10-17 20:48:36:"
       ]
      },
      {
       "output_type": "stream",
       "stream": "stdout",
       "text": [
        "\n",
        "166\n",
        "166"
       ]
      },
      {
       "output_type": "stream",
       "stream": "stdout",
       "text": [
        "\n",
        "Analysing ID 167: Blind Date on 2015-10-17 21:01:44:"
       ]
      },
      {
       "output_type": "stream",
       "stream": "stdout",
       "text": [
        "\n",
        "167\n",
        "167"
       ]
      },
      {
       "output_type": "stream",
       "stream": "stdout",
       "text": [
        "\n",
        "Analysing ID 168: Blind Date on 2015-10-17 20:42:06:"
       ]
      },
      {
       "output_type": "stream",
       "stream": "stdout",
       "text": [
        "\n",
        "168\n",
        "168\n",
        "Analysing ID 170: Blind Date on 2015-10-17 20:50:47:"
       ]
      },
      {
       "output_type": "stream",
       "stream": "stdout",
       "text": [
        "\n",
        "170\n",
        "170"
       ]
      },
      {
       "output_type": "stream",
       "stream": "stdout",
       "text": [
        "\n",
        "Analysing ID 171: Blind Date on 2015-10-17 20:26:14:"
       ]
      },
      {
       "output_type": "stream",
       "stream": "stdout",
       "text": [
        "\n",
        "171\n",
        "171"
       ]
      },
      {
       "output_type": "stream",
       "stream": "stdout",
       "text": [
        "\n",
        "Analysing ID 172: Blind Date on 2015-10-17 20:21:08:"
       ]
      },
      {
       "output_type": "stream",
       "stream": "stdout",
       "text": [
        "\n",
        "172\n",
        "172"
       ]
      },
      {
       "output_type": "stream",
       "stream": "stdout",
       "text": [
        "\n",
        "Analysing ID 173: Blind Date on 2015-10-17 20:51:52:"
       ]
      },
      {
       "output_type": "stream",
       "stream": "stdout",
       "text": [
        "\n",
        "173\n",
        "173"
       ]
      },
      {
       "output_type": "stream",
       "stream": "stdout",
       "text": [
        "\n",
        "Analysing ID 175: Blind Date on 2015-10-17 20:35:17:"
       ]
      },
      {
       "output_type": "stream",
       "stream": "stdout",
       "text": [
        "\n",
        "175\n",
        "175"
       ]
      },
      {
       "output_type": "stream",
       "stream": "stdout",
       "text": [
        "\n",
        "Analysing ID 176: Blind Date on 2015-10-17 20:49:40:"
       ]
      },
      {
       "output_type": "stream",
       "stream": "stdout",
       "text": [
        "\n",
        "176\n",
        "176"
       ]
      },
      {
       "output_type": "stream",
       "stream": "stdout",
       "text": [
        "\n",
        "Analysing ID 177: Blind Date on 2015-10-17 16:19:03:"
       ]
      },
      {
       "output_type": "stream",
       "stream": "stdout",
       "text": [
        "\n",
        "177\n",
        "177"
       ]
      },
      {
       "output_type": "stream",
       "stream": "stdout",
       "text": [
        "\n",
        "Analysing ID 178: Blind Date on 2015-12-29 16:14:03:"
       ]
      },
      {
       "output_type": "stream",
       "stream": "stdout",
       "text": [
        "\n",
        "178\n",
        "178"
       ]
      },
      {
       "output_type": "stream",
       "stream": "stdout",
       "text": [
        "\n",
        "Analysing ID 179: Blind Date on 2015-10-17 20:34:13:"
       ]
      },
      {
       "output_type": "stream",
       "stream": "stdout",
       "text": [
        "\n",
        "179\n",
        "179"
       ]
      },
      {
       "output_type": "stream",
       "stream": "stdout",
       "text": [
        "\n",
        "Analysing ID 180: Blind Date on 2015-10-17 14:58:57:"
       ]
      },
      {
       "output_type": "stream",
       "stream": "stdout",
       "text": [
        "\n",
        "180\n",
        "180"
       ]
      },
      {
       "output_type": "stream",
       "stream": "stdout",
       "text": [
        "\n",
        "Analysing ID 181: Blind Date on 2015-10-17 20:47:12:"
       ]
      },
      {
       "output_type": "stream",
       "stream": "stdout",
       "text": [
        "\n",
        "181\n",
        "181"
       ]
      },
      {
       "output_type": "stream",
       "stream": "stdout",
       "text": [
        "\n",
        "Analysing ID 182: Blind Date on 2015-10-17 20:30:46:"
       ]
      },
      {
       "output_type": "stream",
       "stream": "stdout",
       "text": [
        "\n",
        "182\n",
        "182"
       ]
      },
      {
       "output_type": "stream",
       "stream": "stdout",
       "text": [
        "\n",
        "Analysing ID 183: Blind Date on 2015-10-17 20:42:06:"
       ]
      },
      {
       "output_type": "stream",
       "stream": "stdout",
       "text": [
        "\n",
        "183\n",
        "183"
       ]
      },
      {
       "output_type": "stream",
       "stream": "stdout",
       "text": [
        "\n",
        "Analysing ID 184: Blind Date on 2015-10-17 21:01:44:"
       ]
      },
      {
       "output_type": "stream",
       "stream": "stdout",
       "text": [
        "\n",
        "184\n",
        "184"
       ]
      },
      {
       "output_type": "stream",
       "stream": "stdout",
       "text": [
        "\n",
        "Analysing ID 186: Blind Date on 2015-10-17 16:19:49:"
       ]
      },
      {
       "output_type": "stream",
       "stream": "stdout",
       "text": [
        "\n",
        "186\n",
        "186"
       ]
      },
      {
       "output_type": "stream",
       "stream": "stdout",
       "text": [
        "\n",
        "Analysing ID 187: Blind Date on 2015-10-17 20:44:14:"
       ]
      },
      {
       "output_type": "stream",
       "stream": "stdout",
       "text": [
        "\n",
        "187\n",
        "187"
       ]
      },
      {
       "output_type": "stream",
       "stream": "stdout",
       "text": [
        "\n",
        "Analysing ID 188: Blind Date on 2015-10-17 20:22:42:"
       ]
      },
      {
       "output_type": "stream",
       "stream": "stdout",
       "text": [
        "\n",
        "188\n",
        "188\n",
        "Analysing ID 189: Blind Date on 2015-10-17 21:03:35:"
       ]
      },
      {
       "output_type": "stream",
       "stream": "stdout",
       "text": [
        "\n",
        "189\n",
        "189"
       ]
      },
      {
       "output_type": "stream",
       "stream": "stdout",
       "text": [
        "\n",
        "Analysing ID 190: Blind Date on 2015-10-17 20:50:47:"
       ]
      },
      {
       "output_type": "stream",
       "stream": "stdout",
       "text": [
        "\n",
        "190\n",
        "190"
       ]
      },
      {
       "output_type": "stream",
       "stream": "stdout",
       "text": [
        "\n",
        "Analysing ID 192: Blind Date on 2015-10-17 20:56:50:"
       ]
      },
      {
       "output_type": "stream",
       "stream": "stdout",
       "text": [
        "\n",
        "192\n",
        "192"
       ]
      },
      {
       "output_type": "stream",
       "stream": "stdout",
       "text": [
        "\n",
        "Analysing ID 193: Blind Date on 2015-10-17 20:43:42:"
       ]
      },
      {
       "output_type": "stream",
       "stream": "stdout",
       "text": [
        "\n",
        "193\n",
        "193"
       ]
      },
      {
       "output_type": "stream",
       "stream": "stdout",
       "text": [
        "\n",
        "Analysing ID 194: Blind Date on 2015-10-17 20:27:30:"
       ]
      },
      {
       "output_type": "stream",
       "stream": "stdout",
       "text": [
        "\n",
        "194\n",
        "194"
       ]
      },
      {
       "output_type": "stream",
       "stream": "stdout",
       "text": [
        "\n",
        "Analysing ID 195: Blind Date on 2015-10-17 15:00:19:"
       ]
      },
      {
       "output_type": "stream",
       "stream": "stdout",
       "text": [
        "\n",
        "195\n",
        "195"
       ]
      },
      {
       "output_type": "stream",
       "stream": "stdout",
       "text": [
        "\n",
        "Analysing ID 196: Blind Date on 2015-10-17 21:02:21:"
       ]
      },
      {
       "output_type": "stream",
       "stream": "stdout",
       "text": [
        "\n",
        "196\n",
        "196\n",
        "Analysing ID 197: Blind Date on 2015-10-17 20:45:29:"
       ]
      },
      {
       "output_type": "stream",
       "stream": "stdout",
       "text": [
        "\n",
        "197\n",
        "197"
       ]
      },
      {
       "output_type": "stream",
       "stream": "stdout",
       "text": [
        "\n",
        "Analysing ID 198: Blind Date on 2015-10-17 15:04:59:"
       ]
      },
      {
       "output_type": "stream",
       "stream": "stdout",
       "text": [
        "\n",
        "198\n",
        "198"
       ]
      },
      {
       "output_type": "stream",
       "stream": "stdout",
       "text": [
        "\n",
        "Analysing ID 199: Blind Date on 2015-10-17 20:32:29:"
       ]
      },
      {
       "output_type": "stream",
       "stream": "stdout",
       "text": [
        "\n",
        "199\n",
        "199"
       ]
      },
      {
       "output_type": "stream",
       "stream": "stdout",
       "text": [
        "\n",
        "Analysing ID 200: Blind Date on 2015-10-17 20:19:39:"
       ]
      },
      {
       "output_type": "stream",
       "stream": "stdout",
       "text": [
        "\n",
        "200\n",
        "200"
       ]
      },
      {
       "output_type": "stream",
       "stream": "stdout",
       "text": [
        "\n",
        "Analysing ID 201: Blind Date on 2015-10-17 20:48:36:"
       ]
      },
      {
       "output_type": "stream",
       "stream": "stdout",
       "text": [
        "\n",
        "201\n",
        "201"
       ]
      },
      {
       "output_type": "stream",
       "stream": "stdout",
       "text": [
        "\n",
        "Analysing ID 202: Blind Date on 2015-10-17 20:28:33:"
       ]
      },
      {
       "output_type": "stream",
       "stream": "stdout",
       "text": [
        "\n",
        "202\n",
        "202"
       ]
      },
      {
       "output_type": "stream",
       "stream": "stdout",
       "text": [
        "\n",
        "Analysing ID 203: Blind Date on 2015-10-17 14:56:56:"
       ]
      },
      {
       "output_type": "stream",
       "stream": "stdout",
       "text": [
        "\n",
        "203\n",
        "203"
       ]
      },
      {
       "output_type": "stream",
       "stream": "stdout",
       "text": [
        "\n",
        "Analysing ID 204: Blind Date on 2015-10-17 20:55:02:"
       ]
      },
      {
       "output_type": "stream",
       "stream": "stdout",
       "text": [
        "\n",
        "204\n",
        "204\n",
        "Analysing ID 205: Blind Date on 2015-10-17 16:21:10:\n",
        "205\n",
        "205"
       ]
      },
      {
       "output_type": "stream",
       "stream": "stdout",
       "text": [
        "\n",
        "Analysing ID 206: Blind Date on 2015-10-17 20:37:47:\n",
        "206\n",
        "206\n",
        "Analysing ID 207: Blind Date on 2015-10-17 15:01:51:"
       ]
      },
      {
       "output_type": "stream",
       "stream": "stdout",
       "text": [
        "\n",
        "207\n",
        "207"
       ]
      },
      {
       "output_type": "stream",
       "stream": "stdout",
       "text": [
        "\n",
        "Analysing ID 208: Blind Date on 2015-10-17 20:53:50:"
       ]
      },
      {
       "output_type": "stream",
       "stream": "stdout",
       "text": [
        "\n",
        "208\n",
        "208\n",
        "Analysing ID 209: Blind Date on 2015-10-17 14:57:41:"
       ]
      },
      {
       "output_type": "stream",
       "stream": "stdout",
       "text": [
        "\n",
        "209\n",
        "209"
       ]
      },
      {
       "output_type": "stream",
       "stream": "stdout",
       "text": [
        "\n",
        "Analysing ID 210: Blind Date on 2015-10-17 20:59:41:\n",
        "210\n",
        "210"
       ]
      },
      {
       "output_type": "stream",
       "stream": "stdout",
       "text": [
        "\n",
        "Analysing ID 211: Blind Date on 2015-10-17 20:56:50:"
       ]
      },
      {
       "output_type": "stream",
       "stream": "stdout",
       "text": [
        "\n",
        "211\n",
        "211"
       ]
      },
      {
       "output_type": "stream",
       "stream": "stdout",
       "text": [
        "\n",
        "Analysing ID 213: Blind Date on 2015-10-17 20:21:58:"
       ]
      },
      {
       "output_type": "stream",
       "stream": "stdout",
       "text": [
        "\n",
        "213\n",
        "213"
       ]
      },
      {
       "output_type": "stream",
       "stream": "stdout",
       "text": [
        "\n",
        "Analysing ID 214: Blind Date on 2015-10-17 20:52:45:"
       ]
      },
      {
       "output_type": "stream",
       "stream": "stdout",
       "text": [
        "\n",
        "214\n",
        "214"
       ]
      },
      {
       "output_type": "stream",
       "stream": "stdout",
       "text": [
        "\n",
        "Analysing ID 215: Blind Date on 2015-10-17 20:39:52:"
       ]
      },
      {
       "output_type": "stream",
       "stream": "stdout",
       "text": [
        "\n",
        "215\n",
        "215"
       ]
      },
      {
       "output_type": "stream",
       "stream": "stdout",
       "text": [
        "\n",
        "Analysing ID 216: Blind Date on 2015-10-17 20:54:40:"
       ]
      },
      {
       "output_type": "stream",
       "stream": "stdout",
       "text": [
        "\n",
        "216\n",
        "216"
       ]
      },
      {
       "output_type": "stream",
       "stream": "stdout",
       "text": [
        "\n",
        "Analysing ID 217: Blind Date on 2015-10-17 20:32:29:\n",
        "217\n",
        "217"
       ]
      },
      {
       "output_type": "stream",
       "stream": "stdout",
       "text": [
        "\n",
        "Analysing ID 218: Blind Date on 2015-10-17 20:17:42:"
       ]
      },
      {
       "output_type": "stream",
       "stream": "stdout",
       "text": [
        "\n",
        "218\n",
        "218"
       ]
      },
      {
       "output_type": "stream",
       "stream": "stdout",
       "text": [
        "\n",
        "Analysing ID 219: Blind Date on 2015-10-17 20:50:47:"
       ]
      },
      {
       "output_type": "stream",
       "stream": "stdout",
       "text": [
        "\n",
        "219\n",
        "219"
       ]
      },
      {
       "output_type": "stream",
       "stream": "stdout",
       "text": [
        "\n",
        "Analysing ID 220: Blind Date on 2015-10-17 20:57:31:"
       ]
      },
      {
       "output_type": "stream",
       "stream": "stdout",
       "text": [
        "\n",
        "220\n",
        "220"
       ]
      },
      {
       "output_type": "stream",
       "stream": "stdout",
       "text": [
        "\n",
        "Analysing ID 221: Blind Date on 2015-10-17 20:58:43:"
       ]
      },
      {
       "output_type": "stream",
       "stream": "stdout",
       "text": [
        "\n",
        "221\n",
        "221"
       ]
      },
      {
       "output_type": "stream",
       "stream": "stdout",
       "text": [
        "\n",
        "Analysing ID 222: Blind Date on 2015-10-17 20:19:39:"
       ]
      },
      {
       "output_type": "stream",
       "stream": "stdout",
       "text": [
        "\n",
        "222\n",
        "222"
       ]
      },
      {
       "output_type": "stream",
       "stream": "stdout",
       "text": [
        "\n",
        "Analysing ID 223: Blind Date on 2015-10-17 21:02:40:"
       ]
      },
      {
       "output_type": "stream",
       "stream": "stdout",
       "text": [
        "\n",
        "223\n",
        "223\n",
        "Analysing ID 224: Blind Date on 2015-10-17 20:28:33:\n",
        "224\n",
        "224"
       ]
      },
      {
       "output_type": "stream",
       "stream": "stdout",
       "text": [
        "\n",
        "Analysing ID 225: Blind Date on 2015-12-29 17:26:38:"
       ]
      },
      {
       "output_type": "stream",
       "stream": "stdout",
       "text": [
        "\n",
        "225\n",
        "225"
       ]
      },
      {
       "output_type": "stream",
       "stream": "stdout",
       "text": [
        "\n",
        "Analysing ID 226: Blind Date on 2015-10-17 14:56:56:"
       ]
      },
      {
       "output_type": "stream",
       "stream": "stdout",
       "text": [
        "\n",
        "226\n",
        "226"
       ]
      },
      {
       "output_type": "stream",
       "stream": "stdout",
       "text": [
        "\n",
        "Analysing ID 227: Blind Date on 2015-10-17 20:42:06:"
       ]
      },
      {
       "output_type": "stream",
       "stream": "stdout",
       "text": [
        "\n",
        "227\n",
        "227"
       ]
      },
      {
       "output_type": "stream",
       "stream": "stdout",
       "text": [
        "\n",
        "Analysing ID 228: Blind Date on 2015-10-17 20:37:47:"
       ]
      },
      {
       "output_type": "stream",
       "stream": "stdout",
       "text": [
        "\n",
        "228\n",
        "228"
       ]
      },
      {
       "output_type": "stream",
       "stream": "stdout",
       "text": [
        "\n",
        "Analysing ID 229: Blind Date on 2015-10-17 21:01:44:\n",
        "229\n",
        "229"
       ]
      },
      {
       "output_type": "stream",
       "stream": "stdout",
       "text": [
        "\n",
        "Analysing ID 230: Blind Date on 2015-10-17 15:04:59:"
       ]
      },
      {
       "output_type": "stream",
       "stream": "stdout",
       "text": [
        "\n",
        "230\n",
        "230"
       ]
      },
      {
       "output_type": "stream",
       "stream": "stdout",
       "text": [
        "\n",
        "Analysing ID 231: Blind Date on 2015-10-17 16:21:10:"
       ]
      },
      {
       "output_type": "stream",
       "stream": "stdout",
       "text": [
        "\n",
        "231\n",
        "231"
       ]
      },
      {
       "output_type": "stream",
       "stream": "stdout",
       "text": [
        "\n",
        "Analysing ID 232: Blind Date on 2015-10-17 20:56:10:"
       ]
      },
      {
       "output_type": "stream",
       "stream": "stdout",
       "text": [
        "\n",
        "232\n",
        "232"
       ]
      },
      {
       "output_type": "stream",
       "stream": "stdout",
       "text": [
        "\n",
        "Analysing ID 233: Blind Date on 2015-10-17 20:25:11:"
       ]
      },
      {
       "output_type": "stream",
       "stream": "stdout",
       "text": [
        "\n",
        "233\n",
        "233"
       ]
      },
      {
       "output_type": "stream",
       "stream": "stdout",
       "text": [
        "\n",
        "Analysing ID 234: Blind Date on 2015-10-17 14:54:46:"
       ]
      },
      {
       "output_type": "stream",
       "stream": "stdout",
       "text": [
        "\n",
        "234\n",
        "234"
       ]
      },
      {
       "output_type": "stream",
       "stream": "stdout",
       "text": [
        "\n",
        "Analysing ID 235: Blind Date on 2015-10-17 16:19:49:"
       ]
      },
      {
       "output_type": "stream",
       "stream": "stdout",
       "text": [
        "\n",
        "235\n",
        "235\n",
        "Analysing ID 236: Blind Date on 2015-10-17 20:21:08:"
       ]
      },
      {
       "output_type": "stream",
       "stream": "stdout",
       "text": [
        "\n",
        "236\n",
        "236"
       ]
      },
      {
       "output_type": "stream",
       "stream": "stdout",
       "text": [
        "\n",
        "Analysing ID 237: Blind Date on 2015-10-17 20:27:13:"
       ]
      },
      {
       "output_type": "stream",
       "stream": "stdout",
       "text": [
        "\n",
        "237\n",
        "237"
       ]
      },
      {
       "output_type": "stream",
       "stream": "stdout",
       "text": [
        "\n",
        "Analysing ID 238: Blind Date on 2015-10-17 16:19:03:"
       ]
      },
      {
       "output_type": "stream",
       "stream": "stdout",
       "text": [
        "\n",
        "238\n",
        "238"
       ]
      },
      {
       "output_type": "stream",
       "stream": "stdout",
       "text": [
        "\n",
        "Analysing ID 239: Blind Date on 2015-10-17 20:27:13:"
       ]
      },
      {
       "output_type": "stream",
       "stream": "stdout",
       "text": [
        "\n",
        "239\n",
        "239"
       ]
      },
      {
       "output_type": "stream",
       "stream": "stdout",
       "text": [
        "\n",
        "Analysing ID 240: Blind Date on 2015-10-17 15:03:34:"
       ]
      },
      {
       "output_type": "stream",
       "stream": "stdout",
       "text": [
        "\n",
        "240\n",
        "240"
       ]
      },
      {
       "output_type": "stream",
       "stream": "stdout",
       "text": [
        "\n",
        "Analysing ID 241: Blind Date on 2015-10-17 20:56:10:"
       ]
      },
      {
       "output_type": "stream",
       "stream": "stdout",
       "text": [
        "\n",
        "241\n",
        "241"
       ]
      },
      {
       "output_type": "stream",
       "stream": "stdout",
       "text": [
        "\n",
        "Analysing ID 242: Blind Date on 2015-10-17 20:27:31:"
       ]
      },
      {
       "output_type": "stream",
       "stream": "stdout",
       "text": [
        "\n",
        "242\n",
        "242\n",
        "Analysing ID 243: Blind Date on 2015-10-17 20:44:14:"
       ]
      },
      {
       "output_type": "stream",
       "stream": "stdout",
       "text": [
        "\n",
        "243\n",
        "243"
       ]
      },
      {
       "output_type": "stream",
       "stream": "stdout",
       "text": [
        "\n",
        "Analysing ID 244: Blind Date on 2015-10-17 15:01:50:"
       ]
      },
      {
       "output_type": "stream",
       "stream": "stdout",
       "text": [
        "\n",
        "244\n",
        "244"
       ]
      },
      {
       "output_type": "stream",
       "stream": "stdout",
       "text": [
        "\n",
        "Analysing ID 245: Blind Date on 2015-10-17 16:20:18:"
       ]
      },
      {
       "output_type": "stream",
       "stream": "stdout",
       "text": [
        "\n",
        "245\n",
        "245"
       ]
      },
      {
       "output_type": "stream",
       "stream": "stdout",
       "text": [
        "\n",
        "Analysing ID 246: Blind Date on 2015-10-17 20:22:42:"
       ]
      },
      {
       "output_type": "stream",
       "stream": "stdout",
       "text": [
        "\n",
        "246\n",
        "246"
       ]
      },
      {
       "output_type": "stream",
       "stream": "stdout",
       "text": [
        "\n",
        "Analysing ID 247: Blind Date on 2015-10-17 20:39:52:"
       ]
      },
      {
       "output_type": "stream",
       "stream": "stdout",
       "text": [
        "\n",
        "247\n",
        "247"
       ]
      },
      {
       "output_type": "stream",
       "stream": "stdout",
       "text": [
        "\n",
        "Analysing ID 248: Blind Date on 2015-10-17 21:02:21:"
       ]
      },
      {
       "output_type": "stream",
       "stream": "stdout",
       "text": [
        "\n",
        "248\n",
        "248"
       ]
      },
      {
       "output_type": "stream",
       "stream": "stdout",
       "text": [
        "\n",
        "Analysing ID 249: Blind Date on 2015-10-17 20:56:50:"
       ]
      },
      {
       "output_type": "stream",
       "stream": "stdout",
       "text": [
        "\n",
        "249\n",
        "249"
       ]
      },
      {
       "output_type": "stream",
       "stream": "stdout",
       "text": [
        "\n",
        "Analysing ID 250: Blind Date on 2015-10-17 20:45:29:"
       ]
      },
      {
       "output_type": "stream",
       "stream": "stdout",
       "text": [
        "\n",
        "250\n",
        "250"
       ]
      },
      {
       "output_type": "stream",
       "stream": "stdout",
       "text": [
        "\n",
        "Analysing ID 251: Blind Date on 2015-10-17 20:37:16:"
       ]
      },
      {
       "output_type": "stream",
       "stream": "stdout",
       "text": [
        "\n",
        "251\n",
        "251"
       ]
      },
      {
       "output_type": "stream",
       "stream": "stdout",
       "text": [
        "\n",
        "Analysing ID 252: Blind Date on 2015-10-17 20:26:14:"
       ]
      },
      {
       "output_type": "stream",
       "stream": "stdout",
       "text": [
        "\n",
        "252\n",
        "252"
       ]
      },
      {
       "output_type": "stream",
       "stream": "stdout",
       "text": [
        "\n",
        "Analysing ID 253: Blind Date on 2015-10-17 16:21:10:"
       ]
      },
      {
       "output_type": "stream",
       "stream": "stdout",
       "text": [
        "\n",
        "253\n",
        "253"
       ]
      },
      {
       "output_type": "stream",
       "stream": "stdout",
       "text": [
        "\n",
        "Analysing ID 254: Blind Date on 2015-10-17 14:57:41:"
       ]
      },
      {
       "output_type": "stream",
       "stream": "stdout",
       "text": [
        "\n",
        "254\n",
        "254"
       ]
      },
      {
       "output_type": "stream",
       "stream": "stdout",
       "text": [
        "\n",
        "Analysing ID 255: Blind Date on 2015-10-17 20:35:17:"
       ]
      },
      {
       "output_type": "stream",
       "stream": "stdout",
       "text": [
        "\n",
        "255\n",
        "255"
       ]
      },
      {
       "output_type": "stream",
       "stream": "stdout",
       "text": [
        "\n",
        "Analysing ID 256: Blind Date on 2015-10-17 20:46:12:"
       ]
      },
      {
       "output_type": "stream",
       "stream": "stdout",
       "text": [
        "\n",
        "256\n",
        "256"
       ]
      },
      {
       "output_type": "stream",
       "stream": "stdout",
       "text": [
        "\n",
        "Analysing ID 258: Blind Date on 2015-10-17 20:28:34:"
       ]
      },
      {
       "output_type": "stream",
       "stream": "stdout",
       "text": [
        "\n",
        "258\n",
        "258"
       ]
      },
      {
       "output_type": "stream",
       "stream": "stdout",
       "text": [
        "\n",
        "Analysing ID 259: Blind Date on 2015-10-17 20:43:42:"
       ]
      },
      {
       "output_type": "stream",
       "stream": "stdout",
       "text": [
        "\n",
        "259\n",
        "259"
       ]
      },
      {
       "output_type": "stream",
       "stream": "stdout",
       "text": [
        "\n",
        "Analysing ID 260: Blind Date on 2015-10-17 21:02:40:"
       ]
      },
      {
       "output_type": "stream",
       "stream": "stdout",
       "text": [
        "\n",
        "260\n",
        "260\n",
        "Analysing ID 261: Blind Date on 2015-10-17 20:41:37:\n",
        "261\n",
        "261"
       ]
      },
      {
       "output_type": "stream",
       "stream": "stdout",
       "text": [
        "\n",
        "Analysing ID 262: Blind Date on 2015-10-17 20:53:50:"
       ]
      },
      {
       "output_type": "stream",
       "stream": "stdout",
       "text": [
        "\n",
        "262\n",
        "262"
       ]
      },
      {
       "output_type": "stream",
       "stream": "stdout",
       "text": [
        "\n",
        "Analysing ID 263: Blind Date on 2015-10-17 20:36:05:"
       ]
      },
      {
       "output_type": "stream",
       "stream": "stdout",
       "text": [
        "\n",
        "263\n",
        "263"
       ]
      },
      {
       "output_type": "stream",
       "stream": "stdout",
       "text": [
        "\n",
        "Analysing ID 264: Blind Date on 2015-10-17 20:35:17:\n",
        "264\n",
        "264"
       ]
      },
      {
       "output_type": "stream",
       "stream": "stdout",
       "text": [
        "\n",
        "Analysing ID 265: Blind Date on 2015-10-17 20:27:13:"
       ]
      },
      {
       "output_type": "stream",
       "stream": "stdout",
       "text": [
        "\n",
        "265\n",
        "265"
       ]
      },
      {
       "output_type": "stream",
       "stream": "stdout",
       "text": [
        "\n",
        "Analysing ID 266: Blind Date on 2015-10-17 20:37:47:"
       ]
      },
      {
       "output_type": "stream",
       "stream": "stdout",
       "text": [
        "\n",
        "266\n",
        "266"
       ]
      },
      {
       "output_type": "stream",
       "stream": "stdout",
       "text": [
        "\n",
        "Analysing ID 267: Blind Date on 2015-10-17 20:53:50:\n",
        "267\n",
        "267"
       ]
      },
      {
       "output_type": "stream",
       "stream": "stdout",
       "text": [
        "\n",
        "Analysing ID 268: Blind Date on 2015-10-17 14:54:06:"
       ]
      },
      {
       "output_type": "stream",
       "stream": "stdout",
       "text": [
        "\n",
        "268\n",
        "268"
       ]
      },
      {
       "output_type": "stream",
       "stream": "stdout",
       "text": [
        "\n",
        "Analysing ID 269: Blind Date on 2015-10-17 20:57:31:"
       ]
      },
      {
       "output_type": "stream",
       "stream": "stdout",
       "text": [
        "\n",
        "269\n",
        "269"
       ]
      },
      {
       "output_type": "stream",
       "stream": "stdout",
       "text": [
        "\n",
        "Analysing ID 270: Blind Date on 2015-10-17 20:55:02:"
       ]
      },
      {
       "output_type": "stream",
       "stream": "stdout",
       "text": [
        "\n",
        "270\n",
        "270"
       ]
      },
      {
       "output_type": "stream",
       "stream": "stdout",
       "text": [
        "\n",
        "Analysing ID 271: Blind Date on 2015-10-17 20:30:45:"
       ]
      },
      {
       "output_type": "stream",
       "stream": "stdout",
       "text": [
        "\n",
        "271\n",
        "271"
       ]
      },
      {
       "output_type": "stream",
       "stream": "stdout",
       "text": [
        "\n",
        "Analysing ID 272: Blind Date on 2015-10-17 20:46:12:"
       ]
      },
      {
       "output_type": "stream",
       "stream": "stdout",
       "text": [
        "\n",
        "272\n",
        "272"
       ]
      },
      {
       "output_type": "stream",
       "stream": "stdout",
       "text": [
        "\n",
        "Analysing ID 273: Blind Date on 2015-10-17 20:43:42:"
       ]
      },
      {
       "output_type": "stream",
       "stream": "stdout",
       "text": [
        "\n",
        "273\n",
        "273"
       ]
      },
      {
       "output_type": "stream",
       "stream": "stdout",
       "text": [
        "\n",
        "Analysing ID 274: Blind Date on 2015-10-17 20:34:13:\n",
        "274\n",
        "274"
       ]
      },
      {
       "output_type": "stream",
       "stream": "stdout",
       "text": [
        "\n",
        "Analysing ID 275: Blind Date on 2015-10-17 15:04:59:"
       ]
      },
      {
       "output_type": "stream",
       "stream": "stdout",
       "text": [
        "\n",
        "275\n",
        "275"
       ]
      },
      {
       "output_type": "stream",
       "stream": "stdout",
       "text": [
        "\n",
        "Analysing ID 276: Blind Date on 2015-10-17 21:03:35:"
       ]
      },
      {
       "output_type": "stream",
       "stream": "stdout",
       "text": [
        "\n",
        "276\n",
        "276"
       ]
      },
      {
       "output_type": "stream",
       "stream": "stdout",
       "text": [
        "\n",
        "Analysing ID 277: Blind Date on 2015-10-17 21:00:23:"
       ]
      },
      {
       "output_type": "stream",
       "stream": "stdout",
       "text": [
        "\n",
        "277\n",
        "277"
       ]
      },
      {
       "output_type": "stream",
       "stream": "stdout",
       "text": [
        "\n",
        "Analysing ID 278: Blind Date on 2015-10-17 20:48:36:"
       ]
      },
      {
       "output_type": "stream",
       "stream": "stdout",
       "text": [
        "\n",
        "278\n",
        "278\n",
        "Analysing ID 279: Blind Date on 2015-10-17 15:00:19:"
       ]
      },
      {
       "output_type": "stream",
       "stream": "stdout",
       "text": [
        "\n",
        "279\n",
        "279"
       ]
      },
      {
       "output_type": "stream",
       "stream": "stdout",
       "text": [
        "\n",
        "Analysing ID 280: Blind Date on 2015-10-17 16:20:34:"
       ]
      },
      {
       "output_type": "stream",
       "stream": "stdout",
       "text": [
        "\n",
        "280\n",
        "280\n",
        "Analysing ID 281: Blind Date on 2015-10-17 20:59:41:\n",
        "281\n",
        "281"
       ]
      },
      {
       "output_type": "stream",
       "stream": "stdout",
       "text": [
        "\n",
        "Analysing ID 282: Blind Date on 2015-10-17 20:21:58:"
       ]
      },
      {
       "output_type": "stream",
       "stream": "stdout",
       "text": [
        "\n",
        "282\n",
        "282\n",
        "Analysing ID 283: Blind Date on 2015-12-29 16:27:36:"
       ]
      },
      {
       "output_type": "stream",
       "stream": "stdout",
       "text": [
        "\n",
        "283\n",
        "283"
       ]
      },
      {
       "output_type": "stream",
       "stream": "stdout",
       "text": [
        "\n",
        "Analysing ID 284: Blind Date on 2015-10-17 16:19:03:"
       ]
      },
      {
       "output_type": "stream",
       "stream": "stdout",
       "text": [
        "\n",
        "284\n",
        "284"
       ]
      },
      {
       "output_type": "stream",
       "stream": "stdout",
       "text": [
        "\n",
        "Analysing ID 285: Blind Date on 2015-10-17 15:01:50:"
       ]
      },
      {
       "output_type": "stream",
       "stream": "stdout",
       "text": [
        "\n",
        "285\n",
        "285"
       ]
      },
      {
       "output_type": "stream",
       "stream": "stdout",
       "text": [
        "\n",
        "Analysing ID 286: Blind Date on 2015-10-17 20:17:42:"
       ]
      },
      {
       "output_type": "stream",
       "stream": "stdout",
       "text": [
        "\n",
        "286\n",
        "286"
       ]
      },
      {
       "output_type": "stream",
       "stream": "stdout",
       "text": [
        "\n",
        "Analysing ID 287: Blind Date on 2015-10-17 20:43:00:"
       ]
      },
      {
       "output_type": "stream",
       "stream": "stdout",
       "text": [
        "\n",
        "287\n",
        "287"
       ]
      },
      {
       "output_type": "stream",
       "stream": "stdout",
       "text": [
        "\n",
        "Analysing ID 288: Blind Date on 2015-10-17 20:54:40:"
       ]
      },
      {
       "output_type": "stream",
       "stream": "stdout",
       "text": [
        "\n",
        "288\n",
        "288"
       ]
      },
      {
       "output_type": "stream",
       "stream": "stdout",
       "text": [
        "\n",
        "Analysing ID 289: Blind Date on 2015-10-17 20:41:37:"
       ]
      },
      {
       "output_type": "stream",
       "stream": "stdout",
       "text": [
        "\n",
        "289\n",
        "289"
       ]
      },
      {
       "output_type": "stream",
       "stream": "stdout",
       "text": [
        "\n",
        "Analysing ID 290: Blind Date on 2015-10-17 20:21:08:"
       ]
      },
      {
       "output_type": "stream",
       "stream": "stdout",
       "text": [
        "\n",
        "290\n",
        "290"
       ]
      },
      {
       "output_type": "stream",
       "stream": "stdout",
       "text": [
        "\n",
        "Analysing ID 291: Blind Date on 2015-10-17 20:47:12:"
       ]
      },
      {
       "output_type": "stream",
       "stream": "stdout",
       "text": [
        "\n",
        "291\n",
        "291"
       ]
      },
      {
       "output_type": "stream",
       "stream": "stdout",
       "text": [
        "\n",
        "Analysing ID 292: Blind Date on 2015-10-17 20:56:10:"
       ]
      },
      {
       "output_type": "stream",
       "stream": "stdout",
       "text": [
        "\n",
        "292\n",
        "292"
       ]
      },
      {
       "output_type": "stream",
       "stream": "stdout",
       "text": [
        "\n",
        "Analysing ID 294: Blind Date on 2015-10-17 20:25:11:"
       ]
      },
      {
       "output_type": "stream",
       "stream": "stdout",
       "text": [
        "\n",
        "294\n",
        "294"
       ]
      },
      {
       "output_type": "stream",
       "stream": "stdout",
       "text": [
        "\n",
        "Analysing ID 295: Blind Date on 2015-10-17 14:54:46:"
       ]
      },
      {
       "output_type": "stream",
       "stream": "stdout",
       "text": [
        "\n",
        "295\n",
        "295"
       ]
      },
      {
       "output_type": "stream",
       "stream": "stdout",
       "text": [
        "\n",
        "Analysing ID 296: Blind Date on 2015-10-17 20:26:14:"
       ]
      },
      {
       "output_type": "stream",
       "stream": "stdout",
       "text": [
        "\n",
        "296\n",
        "296"
       ]
      },
      {
       "output_type": "stream",
       "stream": "stdout",
       "text": [
        "\n",
        "Analysing ID 297: Blind Date on 2015-10-17 20:28:34:"
       ]
      },
      {
       "output_type": "stream",
       "stream": "stdout",
       "text": [
        "\n",
        "297\n",
        "297"
       ]
      },
      {
       "output_type": "stream",
       "stream": "stdout",
       "text": [
        "\n",
        "Analysing ID 298: Blind Date on 2015-10-17 20:56:10:"
       ]
      },
      {
       "output_type": "stream",
       "stream": "stdout",
       "text": [
        "\n",
        "298\n",
        "298"
       ]
      },
      {
       "output_type": "stream",
       "stream": "stdout",
       "text": [
        "\n",
        "Analysing ID 299: Blind Date on 2015-10-17 15:00:19:"
       ]
      },
      {
       "output_type": "stream",
       "stream": "stdout",
       "text": [
        "\n",
        "299\n",
        "299"
       ]
      },
      {
       "output_type": "stream",
       "stream": "stdout",
       "text": [
        "\n",
        "Analysing ID 300: Blind Date on 2015-10-17 14:57:41:\n",
        "300\n",
        "300"
       ]
      },
      {
       "output_type": "stream",
       "stream": "stdout",
       "text": [
        "\n",
        "Analysing ID 301: Blind Date on 2015-10-17 20:58:43:"
       ]
      },
      {
       "output_type": "stream",
       "stream": "stdout",
       "text": [
        "\n",
        "301\n",
        "301"
       ]
      },
      {
       "output_type": "stream",
       "stream": "stdout",
       "text": [
        "\n",
        "Analysing ID 302: Blind Date on 2015-10-17 20:46:12:"
       ]
      },
      {
       "output_type": "stream",
       "stream": "stdout",
       "text": [
        "\n",
        "302\n",
        "302"
       ]
      },
      {
       "output_type": "stream",
       "stream": "stdout",
       "text": [
        "\n",
        "Analysing ID 303: Blind Date on 2015-10-17 20:41:37:"
       ]
      },
      {
       "output_type": "stream",
       "stream": "stdout",
       "text": [
        "\n",
        "303\n",
        "303"
       ]
      },
      {
       "output_type": "stream",
       "stream": "stdout",
       "text": [
        "\n",
        "Analysing ID 304: Blind Date on 2015-10-17 16:20:18:"
       ]
      },
      {
       "output_type": "stream",
       "stream": "stdout",
       "text": [
        "\n",
        "304\n",
        "304"
       ]
      },
      {
       "output_type": "stream",
       "stream": "stdout",
       "text": [
        "\n",
        "Analysing ID 305: Blind Date on 2015-10-17 20:36:05:"
       ]
      },
      {
       "output_type": "stream",
       "stream": "stdout",
       "text": [
        "\n",
        "305\n",
        "305"
       ]
      },
      {
       "output_type": "stream",
       "stream": "stdout",
       "text": [
        "\n",
        "Analysing ID 306: Blind Date on 2015-10-17 20:48:36:"
       ]
      },
      {
       "output_type": "stream",
       "stream": "stdout",
       "text": [
        "\n",
        "306\n",
        "306"
       ]
      },
      {
       "output_type": "stream",
       "stream": "stdout",
       "text": [
        "\n",
        "Analysing ID 307: Blind Date on 2015-10-17 21:00:23:"
       ]
      },
      {
       "output_type": "stream",
       "stream": "stdout",
       "text": [
        "\n",
        "307\n",
        "307"
       ]
      },
      {
       "output_type": "stream",
       "stream": "stdout",
       "text": [
        "\n",
        "Analysing ID 308: Blind Date on 2015-10-17 20:21:08:"
       ]
      },
      {
       "output_type": "stream",
       "stream": "stdout",
       "text": [
        "\n",
        "308\n",
        "308"
       ]
      },
      {
       "output_type": "stream",
       "stream": "stdout",
       "text": [
        "\n",
        "Analysing ID 309: Blind Date on 2015-12-29 15:37:03:"
       ]
      },
      {
       "output_type": "stream",
       "stream": "stdout",
       "text": [
        "\n",
        "309\n",
        "309"
       ]
      },
      {
       "output_type": "stream",
       "stream": "stdout",
       "text": [
        "\n",
        "Analysing ID 310: Blind Date on 2015-10-17 20:55:02:"
       ]
      },
      {
       "output_type": "stream",
       "stream": "stdout",
       "text": [
        "\n",
        "310\n",
        "310\n",
        "Analysing ID 311: Blind Date on 2015-10-17 20:25:11:"
       ]
      },
      {
       "output_type": "stream",
       "stream": "stdout",
       "text": [
        "\n",
        "311\n",
        "311"
       ]
      },
      {
       "output_type": "stream",
       "stream": "stdout",
       "text": [
        "\n",
        "Analysing ID 312: Blind Date on 2015-10-17 20:52:45:"
       ]
      },
      {
       "output_type": "stream",
       "stream": "stdout",
       "text": [
        "\n",
        "312\n",
        "312"
       ]
      },
      {
       "output_type": "stream",
       "stream": "stdout",
       "text": [
        "\n",
        "Analysing ID 313: Blind Date on 2015-10-17 20:51:52:"
       ]
      },
      {
       "output_type": "stream",
       "stream": "stdout",
       "text": [
        "\n",
        "313\n",
        "313"
       ]
      },
      {
       "output_type": "stream",
       "stream": "stdout",
       "text": [
        "\n",
        "Analysing ID 314: Blind Date on 2015-10-17 20:27:13:"
       ]
      },
      {
       "output_type": "stream",
       "stream": "stdout",
       "text": [
        "\n",
        "314\n",
        "314\n",
        "Analysing ID 316: Blind Date on 2015-10-17 14:54:06:"
       ]
      },
      {
       "output_type": "stream",
       "stream": "stdout",
       "text": [
        "\n",
        "316\n",
        "316"
       ]
      },
      {
       "output_type": "stream",
       "stream": "stdout",
       "text": [
        "\n",
        "Analysing ID 317: Blind Date on 2015-10-17 20:53:50:"
       ]
      },
      {
       "output_type": "stream",
       "stream": "stdout",
       "text": [
        "\n",
        "317\n",
        "317\n",
        "Analysing ID 318: Blind Date on 2015-12-29 15:25:56:"
       ]
      },
      {
       "output_type": "stream",
       "stream": "stdout",
       "text": [
        "\n",
        "318\n",
        "318"
       ]
      },
      {
       "output_type": "stream",
       "stream": "stdout",
       "text": [
        "\n",
        "Analysing ID 319: Blind Date on 2015-10-17 20:43:00:"
       ]
      },
      {
       "output_type": "stream",
       "stream": "stdout",
       "text": [
        "\n",
        "319\n",
        "319"
       ]
      },
      {
       "output_type": "stream",
       "stream": "stdout",
       "text": [
        "\n",
        "Analysing ID 320: Blind Date on 2015-10-17 20:30:46:"
       ]
      },
      {
       "output_type": "stream",
       "stream": "stdout",
       "text": [
        "\n",
        "320\n",
        "320"
       ]
      },
      {
       "output_type": "stream",
       "stream": "stdout",
       "text": [
        "\n",
        "Analysing ID 321: Blind Date on 2015-10-17 20:35:17:"
       ]
      },
      {
       "output_type": "stream",
       "stream": "stdout",
       "text": [
        "\n",
        "321\n",
        "321"
       ]
      },
      {
       "output_type": "stream",
       "stream": "stdout",
       "text": [
        "\n",
        "Analysing ID 322: Blind Date on 2015-10-17 20:44:14:"
       ]
      },
      {
       "output_type": "stream",
       "stream": "stdout",
       "text": [
        "\n",
        "322\n",
        "322\n",
        "Analysing ID 323: Blind Date on 2015-10-17 20:21:58:\n",
        "323\n",
        "323"
       ]
      },
      {
       "output_type": "stream",
       "stream": "stdout",
       "text": [
        "\n",
        "Analysing ID 324: Blind Date on 2015-10-17 20:34:13:"
       ]
      },
      {
       "output_type": "stream",
       "stream": "stdout",
       "text": [
        "\n",
        "324\n",
        "324"
       ]
      },
      {
       "output_type": "stream",
       "stream": "stdout",
       "text": [
        "\n",
        "Analysing ID 325: Blind Date on 2015-10-17 16:20:34:"
       ]
      },
      {
       "output_type": "stream",
       "stream": "stdout",
       "text": [
        "\n",
        "325\n",
        "325\n",
        "Analysing ID 326: Blind Date on 2015-10-17 15:03:33:"
       ]
      },
      {
       "output_type": "stream",
       "stream": "stdout",
       "text": [
        "\n",
        "326\n",
        "326"
       ]
      },
      {
       "output_type": "stream",
       "stream": "stdout",
       "text": [
        "\n",
        "Analysing ID 328: Blind Date on 2015-10-17 21:02:40:"
       ]
      },
      {
       "output_type": "stream",
       "stream": "stdout",
       "text": [
        "\n",
        "328\n",
        "328\n",
        "Analysing ID 329: Blind Date on 2015-10-17 20:21:58:\n",
        "329\n",
        "329"
       ]
      },
      {
       "output_type": "stream",
       "stream": "stdout",
       "text": [
        "\n",
        "Analysing ID 330: Blind Date on 2015-10-17 20:30:46:\n",
        "330\n",
        "330"
       ]
      },
      {
       "output_type": "stream",
       "stream": "stdout",
       "text": [
        "\n",
        "Analysing ID 331: Blind Date on 2015-10-17 15:01:50:"
       ]
      },
      {
       "output_type": "stream",
       "stream": "stdout",
       "text": [
        "\n",
        "331\n",
        "331"
       ]
      },
      {
       "output_type": "stream",
       "stream": "stdout",
       "text": [
        "\n",
        "Analysing ID 332: Blind Date on 2015-10-17 20:27:31:\n",
        "332\n",
        "332"
       ]
      },
      {
       "output_type": "stream",
       "stream": "stdout",
       "text": [
        "\n",
        "Analysing ID 333: Blind Date on 2015-10-17 20:43:42:\n",
        "333\n",
        "333"
       ]
      },
      {
       "output_type": "stream",
       "stream": "stdout",
       "text": [
        "\n",
        "Analysing ID 334: Blind Date on 2015-10-17 15:03:34:\n",
        "334\n",
        "334"
       ]
      },
      {
       "output_type": "stream",
       "stream": "stdout",
       "text": [
        "\n",
        "Analysing ID 335: Blind Date on 2015-10-17 16:20:34:\n",
        "335\n",
        "335"
       ]
      },
      {
       "output_type": "stream",
       "stream": "stdout",
       "text": [
        "\n",
        "Analysing ID 336: Blind Date on 2015-10-17 20:37:16:\n",
        "336\n",
        "336"
       ]
      },
      {
       "output_type": "stream",
       "stream": "stdout",
       "text": [
        "\n",
        "Analysing ID 337: Blind Date on 2015-10-17 14:58:57:"
       ]
      },
      {
       "output_type": "stream",
       "stream": "stdout",
       "text": [
        "\n",
        "337\n",
        "337"
       ]
      },
      {
       "output_type": "stream",
       "stream": "stdout",
       "text": [
        "\n",
        "Analysing ID 338: Blind Date on 2015-10-17 20:26:14:"
       ]
      },
      {
       "output_type": "stream",
       "stream": "stdout",
       "text": [
        "\n",
        "338\n",
        "338"
       ]
      },
      {
       "output_type": "stream",
       "stream": "stdout",
       "text": [
        "\n",
        "Analysing ID 339: Blind Date on 2015-10-17 21:03:35:"
       ]
      },
      {
       "output_type": "stream",
       "stream": "stdout",
       "text": [
        "\n",
        "339\n",
        "339"
       ]
      },
      {
       "output_type": "stream",
       "stream": "stdout",
       "text": [
        "\n",
        "Analysing ID 340: Blind Date on 2015-10-17 20:36:05:"
       ]
      },
      {
       "output_type": "stream",
       "stream": "stdout",
       "text": [
        "\n",
        "340\n",
        "340"
       ]
      },
      {
       "output_type": "stream",
       "stream": "stdout",
       "text": [
        "\n",
        "Analysing ID 341: Blind Date on 2015-10-17 20:51:52:"
       ]
      },
      {
       "output_type": "stream",
       "stream": "stdout",
       "text": [
        "\n",
        "341\n",
        "341"
       ]
      },
      {
       "output_type": "stream",
       "stream": "stdout",
       "text": [
        "\n",
        "Analysing ID 342: Blind Date on 2015-10-17 20:58:43:"
       ]
      },
      {
       "output_type": "stream",
       "stream": "stdout",
       "text": [
        "\n",
        "342\n",
        "342"
       ]
      },
      {
       "output_type": "stream",
       "stream": "stdout",
       "text": [
        "\n",
        "Analysing ID 343: Blind Date on 2015-10-17 20:52:45:"
       ]
      },
      {
       "output_type": "stream",
       "stream": "stdout",
       "text": [
        "\n",
        "343\n",
        "343"
       ]
      },
      {
       "output_type": "stream",
       "stream": "stdout",
       "text": [
        "\n",
        "Analysing ID 344: Blind Date on 2015-10-17 20:37:47:"
       ]
      },
      {
       "output_type": "stream",
       "stream": "stdout",
       "text": [
        "\n",
        "344\n",
        "344"
       ]
      },
      {
       "output_type": "stream",
       "stream": "stdout",
       "text": [
        "\n",
        "Analysing ID 345: Blind Date on 2015-10-17 20:23:45:"
       ]
      },
      {
       "output_type": "stream",
       "stream": "stdout",
       "text": [
        "\n",
        "345\n",
        "345"
       ]
      },
      {
       "output_type": "stream",
       "stream": "stdout",
       "text": [
        "\n",
        "Analysing ID 346: Blind Date on 2015-10-17 21:01:44:"
       ]
      },
      {
       "output_type": "stream",
       "stream": "stdout",
       "text": [
        "\n",
        "346\n",
        "346"
       ]
      },
      {
       "output_type": "stream",
       "stream": "stdout",
       "text": [
        "\n",
        "Analysing ID 347: Blind Date on 2015-10-17 20:49:40:"
       ]
      },
      {
       "output_type": "stream",
       "stream": "stdout",
       "text": [
        "\n",
        "347\n",
        "347"
       ]
      },
      {
       "output_type": "stream",
       "stream": "stdout",
       "text": [
        "\n",
        "Analysing ID 348: Blind Date on 2015-10-17 20:50:47:"
       ]
      },
      {
       "output_type": "stream",
       "stream": "stdout",
       "text": [
        "\n",
        "348\n",
        "348"
       ]
      },
      {
       "output_type": "stream",
       "stream": "stdout",
       "text": [
        "\n",
        "Analysing ID 349: Blind Date on 2015-10-17 20:42:06:"
       ]
      },
      {
       "output_type": "stream",
       "stream": "stdout",
       "text": [
        "\n",
        "349\n",
        "349"
       ]
      },
      {
       "output_type": "stream",
       "stream": "stdout",
       "text": [
        "\n",
        "Analysing ID 350: Blind Date on 2015-10-17 14:56:56:"
       ]
      },
      {
       "output_type": "stream",
       "stream": "stdout",
       "text": [
        "\n",
        "350\n",
        "350"
       ]
      },
      {
       "output_type": "stream",
       "stream": "stdout",
       "text": [
        "\n",
        "Analysing ID 351: Blind Date on 2015-10-17 20:47:12:"
       ]
      },
      {
       "output_type": "stream",
       "stream": "stdout",
       "text": [
        "\n",
        "351\n",
        "351"
       ]
      },
      {
       "output_type": "stream",
       "stream": "stdout",
       "text": [
        "\n",
        "Analysing ID 352: Blind Date on 2015-10-17 20:59:41:"
       ]
      },
      {
       "output_type": "stream",
       "stream": "stdout",
       "text": [
        "\n",
        "352\n",
        "352"
       ]
      },
      {
       "output_type": "stream",
       "stream": "stdout",
       "text": [
        "\n",
        "Analysing ID 353: Blind Date on 2015-10-17 20:39:52:"
       ]
      },
      {
       "output_type": "stream",
       "stream": "stdout",
       "text": [
        "\n",
        "353\n",
        "353"
       ]
      },
      {
       "output_type": "stream",
       "stream": "stdout",
       "text": [
        "\n",
        "Analysing ID 354: Blind Date on 2015-10-17 20:17:42:"
       ]
      },
      {
       "output_type": "stream",
       "stream": "stdout",
       "text": [
        "\n",
        "354\n",
        "354"
       ]
      },
      {
       "output_type": "stream",
       "stream": "stdout",
       "text": [
        "\n",
        "Analysing ID 355: Blind Date on 2015-12-29 16:00:32:\n",
        "355\n",
        "355"
       ]
      },
      {
       "output_type": "stream",
       "stream": "stdout",
       "text": [
        "\n",
        "Analysing ID 356: Blind Date on 2015-10-17 16:19:03:"
       ]
      },
      {
       "output_type": "stream",
       "stream": "stdout",
       "text": [
        "\n",
        "356\n",
        "356\n",
        "Analysing ID 357: Blind Date on 2015-10-17 20:52:45:\n",
        "357\n",
        "357"
       ]
      },
      {
       "output_type": "stream",
       "stream": "stdout",
       "text": [
        "\n",
        "Analysing ID 358: Blind Date on 2015-10-17 20:39:52:"
       ]
      },
      {
       "output_type": "stream",
       "stream": "stdout",
       "text": [
        "\n",
        "358\n",
        "358"
       ]
      },
      {
       "output_type": "stream",
       "stream": "stdout",
       "text": [
        "\n",
        "Analysing ID 359: Blind Date on 2015-10-17 20:57:31:"
       ]
      },
      {
       "output_type": "stream",
       "stream": "stdout",
       "text": [
        "\n",
        "359\n",
        "359\n",
        "Analysing ID 360: Blind Date on 2015-10-17 20:58:43:\n",
        "360\n",
        "360"
       ]
      },
      {
       "output_type": "stream",
       "stream": "stdout",
       "text": [
        "\n",
        "Analysing ID 361: Blind Date on 2015-10-17 20:59:41:"
       ]
      },
      {
       "output_type": "stream",
       "stream": "stdout",
       "text": [
        "\n",
        "361\n",
        "361"
       ]
      },
      {
       "output_type": "stream",
       "stream": "stdout",
       "text": [
        "\n",
        "Analysing ID 362: Blind Date on 2015-10-17 21:00:23:"
       ]
      },
      {
       "output_type": "stream",
       "stream": "stdout",
       "text": [
        "\n",
        "362\n",
        "362"
       ]
      },
      {
       "output_type": "stream",
       "stream": "stdout",
       "text": [
        "\n",
        "Analysing ID 363: Blind Date on 2015-10-17 20:23:45:"
       ]
      },
      {
       "output_type": "stream",
       "stream": "stdout",
       "text": [
        "\n",
        "363\n",
        "363"
       ]
      },
      {
       "output_type": "stream",
       "stream": "stdout",
       "text": [
        "\n",
        "Analysing ID 364: Blind Date on 2015-10-17 20:22:42:"
       ]
      },
      {
       "output_type": "stream",
       "stream": "stdout",
       "text": [
        "\n",
        "364\n",
        "364"
       ]
      },
      {
       "output_type": "stream",
       "stream": "stdout",
       "text": [
        "\n",
        "Analysing ID 365: Blind Date on 2015-10-17 21:02:21:"
       ]
      },
      {
       "output_type": "stream",
       "stream": "stdout",
       "text": [
        "\n",
        "365\n",
        "365"
       ]
      },
      {
       "output_type": "stream",
       "stream": "stdout",
       "text": [
        "\n",
        "Analysing ID 366: Blind Date on 2015-12-29 17:23:18:"
       ]
      },
      {
       "output_type": "stream",
       "stream": "stdout",
       "text": [
        "\n",
        "366\n",
        "366\n",
        "Analysing ID 367: Blind Date on 2015-10-17 15:00:19:\n",
        "367\n",
        "367"
       ]
      },
      {
       "output_type": "stream",
       "stream": "stdout",
       "text": [
        "\n",
        "Analysing ID 368: Blind Date on 2015-10-17 16:19:49:"
       ]
      },
      {
       "output_type": "stream",
       "stream": "stdout",
       "text": [
        "\n",
        "368\n",
        "368"
       ]
      },
      {
       "output_type": "stream",
       "stream": "stdout",
       "text": [
        "\n",
        "Analysing ID 369: Blind Date on 2015-10-17 14:54:06:"
       ]
      },
      {
       "output_type": "stream",
       "stream": "stdout",
       "text": [
        "\n",
        "369\n",
        "369"
       ]
      },
      {
       "output_type": "stream",
       "stream": "stdout",
       "text": [
        "\n",
        "Analysing ID 370: Blind Date on 2015-10-17 20:36:05:"
       ]
      },
      {
       "output_type": "stream",
       "stream": "stdout",
       "text": [
        "\n",
        "370\n",
        "370"
       ]
      },
      {
       "output_type": "stream",
       "stream": "stdout",
       "text": [
        "\n",
        "Analysing ID 371: Blind Date on 2015-10-17 20:51:52:\n",
        "371\n",
        "371"
       ]
      },
      {
       "output_type": "stream",
       "stream": "stdout",
       "text": [
        "\n",
        "Analysing ID 372: Blind Date on 2015-12-29 16:59:18:"
       ]
      },
      {
       "output_type": "stream",
       "stream": "stdout",
       "text": [
        "\n",
        "372\n",
        "372"
       ]
      },
      {
       "output_type": "stream",
       "stream": "stdout",
       "text": [
        "\n",
        "Analysing ID 373: Blind Date on 2015-10-17 20:49:40:"
       ]
      },
      {
       "output_type": "stream",
       "stream": "stdout",
       "text": [
        "\n",
        "373\n",
        "373"
       ]
      },
      {
       "output_type": "stream",
       "stream": "stdout",
       "text": [
        "\n",
        "Analysing ID 374: Blind Date on 2015-10-17 20:37:16:"
       ]
      },
      {
       "output_type": "stream",
       "stream": "stdout",
       "text": [
        "\n",
        "374\n",
        "374"
       ]
      },
      {
       "output_type": "stream",
       "stream": "stdout",
       "text": [
        "\n",
        "Analysing ID 375: Blind Date on 2015-10-17 20:27:31:"
       ]
      },
      {
       "output_type": "stream",
       "stream": "stdout",
       "text": [
        "\n",
        "375\n",
        "375"
       ]
      },
      {
       "output_type": "stream",
       "stream": "stdout",
       "text": [
        "\n",
        "Analysing ID 376: Blind Date on 2015-10-17 20:32:29:\n",
        "376\n",
        "376"
       ]
      },
      {
       "output_type": "stream",
       "stream": "stdout",
       "text": [
        "\n",
        "Analysing ID 377: Blind Date on 2015-10-17 20:19:39:"
       ]
      },
      {
       "output_type": "stream",
       "stream": "stdout",
       "text": [
        "\n",
        "377\n",
        "377"
       ]
      },
      {
       "output_type": "stream",
       "stream": "stdout",
       "text": [
        "\n",
        "Analysing ID 378: Blind Date on 2015-10-17 14:58:57:"
       ]
      },
      {
       "output_type": "stream",
       "stream": "stdout",
       "text": [
        "\n",
        "378\n",
        "378"
       ]
      },
      {
       "output_type": "stream",
       "stream": "stdout",
       "text": [
        "\n",
        "Analysing ID 379: Blind Date on 2015-10-17 20:54:40:"
       ]
      },
      {
       "output_type": "stream",
       "stream": "stdout",
       "text": [
        "\n",
        "379\n",
        "379\n",
        "Analysing ID 380: Blind Date on 2015-10-17 16:20:18:"
       ]
      },
      {
       "output_type": "stream",
       "stream": "stdout",
       "text": [
        "\n",
        "380\n",
        "380"
       ]
      },
      {
       "output_type": "stream",
       "stream": "stdout",
       "text": [
        "\n"
       ]
      }
     ],
     "prompt_number": 32
    }
   ],
   "metadata": {}
  }
 ]
}