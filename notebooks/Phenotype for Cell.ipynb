{
 "metadata": {
  "name": "",
  "signature": "sha256:89e1891483aa55afef716136fe86287a88201d1eeada626923882d498f26b603"
 },
 "nbformat": 3,
 "nbformat_minor": 0,
 "worksheets": [
  {
   "cells": [
    {
     "cell_type": "code",
     "collapsed": false,
     "input": [
      "cd /Users/bastus/Desktop/Forschungsprojekt/genimpro"
     ],
     "language": "python",
     "metadata": {},
     "outputs": [
      {
       "output_type": "stream",
       "stream": "stdout",
       "text": [
        "/Users/bastus/Desktop/Forschungsprojekt/genimpro\n"
       ]
      }
     ],
     "prompt_number": 1
    },
    {
     "cell_type": "code",
     "collapsed": false,
     "input": [
      "%run importwrapper.py\n",
      "%pylab inline"
     ],
     "language": "python",
     "metadata": {},
     "outputs": [
      {
       "output_type": "stream",
       "stream": "stdout",
       "text": [
        "Populating the interactive namespace from numpy and matplotlib\n"
       ]
      }
     ],
     "prompt_number": 3
    },
    {
     "cell_type": "code",
     "collapsed": false,
     "input": [
      "analysedTrack = genimpro.recordings.getRecordingDetails(133)[4][0]\n",
      "audio = genimpro.recordings.getAudioForTrack(analysedTrack)"
     ],
     "language": "python",
     "metadata": {},
     "outputs": [],
     "prompt_number": 4
    },
    {
     "cell_type": "code",
     "collapsed": false,
     "input": [
      "cellBoundaries = genimpro.grouping.groupBySilence(audio)"
     ],
     "language": "python",
     "metadata": {},
     "outputs": [],
     "prompt_number": 5
    },
    {
     "cell_type": "code",
     "collapsed": false,
     "input": [
      "from essentia.standard import *\n",
      "from essentia import Pool, array\n",
      "import numpy as np\n",
      "from scipy.ndimage.interpolation import zoom\n",
      "\n",
      "\n",
      "win_s = 512             # fft size\n",
      "hop_s = win_s/2           # hop size\n",
      "onset_mode = \"hfc\" \t\t\t#complex\n",
      "\n",
      "samplerate = 44100.0\n",
      "resolution=5.0\n",
      "\n",
      "def phenotypeForCell(cellAudio):\n",
      "\n",
      "    \n",
      "    effectiveDuration = essentia.standard.EffectiveDuration(sampleRate=samplerate,thresholdRatio=0.01)\n",
      "    loudness = essentia.standard.Loudness()\n",
      "    zerocrossingrate = essentia.standard.ZeroCrossingRate()\n",
      "    w = essentia.standard.Windowing()\n",
      "    spec = essentia.standard.Spectrum()\n",
      "    centroid = essentia.standard.Centroid()\n",
      "    SpectralComplexity = essentia.standard.SpectralComplexity(sampleRate=samplerate)\n",
      "    SpectralRolloff = essentia.standard.RollOff(sampleRate=samplerate)\n",
      "    SpectralFlux = essentia.standard.Flux()\n",
      "    Envelope = essentia.standard.Envelope()\n",
      "    TCToTotal = essentia.standard.TCToTotal()\n",
      "    LAT = essentia.standard.LogAttackTime()\n",
      "    Pitch = essentia.standard.PitchYinFFT(sampleRate=samplerate)\n",
      "    SpectralPeaks = essentia.standard.SpectralPeaks(sampleRate=samplerate)\n",
      "    Dissonance = essentia.standard.Dissonance()\n",
      "    DynamicComplexity = essentia.standard.DynamicComplexity()\n",
      "    SpectralPeaks = essentia.standard.SpectralPeaks(sampleRate=samplerate)\n",
      "    RhythmExtractor = essentia.standard.RhythmExtractor2013()\n",
      "    Key = essentia.standard.Key()\n",
      "    TuningFrequency = essentia.standard.TuningFrequency()\n",
      "    \n",
      "    if (len(cellAudio) % 2 <> 0):\n",
      "        chromaAudio = cellAudio[0:-1]\n",
      "    else:\n",
      "        chromaAudio = cellAudio\n",
      "        \n",
      "    spectrum = spec(chromaAudio)\n",
      "    peaks = SpectralPeaks(spectrum)\n",
      "    tuning = TuningFrequency(peaks[0],peaks[1])\n",
      "    \n",
      "    HPCP = essentia.standard.HPCP(sampleRate=samplerate, referenceFrequency =tuning[0])\n",
      "    chroma = HPCP(peaks[0],peaks[1])\n",
      "\n",
      "    \n",
      "    eff_duration = effectiveDuration(cellAudio)\n",
      " \n",
      "    featurelist = [\"ZCR\",\"SpectralCentroid\",\"SpectralComplexity\",\"SpectralRolloff\",\"Roughness\"]\n",
      "    features = {}\n",
      "    \n",
      "    for feature in featurelist:\n",
      "        features[feature] = {}\n",
      "        features[feature][\"raw\"]=[0]\n",
      "    \n",
      "    features[\"Chroma\"] = chroma.tolist()\n",
      "    features[\"DynamicComplexity\"] = list(DynamicComplexity(cellAudio))\n",
      "    #features[\"SpectralCentroidA\"]= centroid(spectrum)\n",
      "    #features[\"SpectralRolloffA\"] = SpectralRolloff(spectrum)\n",
      "    ###features[\"SpectralFluxA\"] = SpectralFlux(spectrum)\n",
      "    #features[\"SpectralComplexityA\"] = SpectralComplexity(spectrum)\n",
      "    #features[\"RoughnessA\"] = Dissonance(peaks[0],peaks[1])\n",
      "    features[\"Rhythm\"] = RhythmExtractor(cellAudio)[0]\n",
      "    #features[\"ZCRA\"] = zerocrossingrate(cellAudio)\n",
      "    features[\"Density\"] = eff_duration * samplerate / len(cellAudio)\n",
      "    \n",
      "    \n",
      "    for featureframe in FrameGenerator(cellAudio, frameSize = hop_s, hopSize = hop_s/2):\n",
      "        #features[\"Loudness\"][\"raw\"].append(loudness(featureframe))\n",
      "        features[\"ZCR\"][\"raw\"].append(zerocrossingrate(featureframe))\n",
      "        spectrum = spec(w(featureframe))\n",
      "        features[\"SpectralCentroid\"][\"raw\"].append(centroid(spectrum))\n",
      "        features[\"SpectralComplexity\"][\"raw\"].append(SpectralComplexity(spectrum))\n",
      "        features[\"SpectralRolloff\"][\"raw\"].append(SpectralRolloff(spectrum))\n",
      "       \n",
      "        peaks = SpectralPeaks(spectrum)\n",
      "        features[\"Roughness\"][\"raw\"].append(Dissonance(peaks[0],peaks[1]))\n",
      "        #features[\"SpectralFlux\"][\"raw\"].append(SpectralFlux(spectrum))\n",
      "    \n",
      "    for feature in featurelist:\n",
      "        features[feature] = np.mean(features[feature][\"raw\"])\n",
      "        #zoomFactor = 1/(len(features[feature][\"raw\"])/resolution)\n",
      "        #features[feature +  \"I\"] = zoom(features[feature][\"raw\"],zoomFactor)\n",
      "        #features[feature].pop(\"raw\",None)\n",
      "    \n",
      "    \n",
      "    return features"
     ],
     "language": "python",
     "metadata": {},
     "outputs": [],
     "prompt_number": 188
    },
    {
     "cell_type": "code",
     "collapsed": false,
     "input": [
      "cellPhenotypes = []\n",
      "\n",
      "for cell in cellBoundaries:\n",
      "\n",
      "    cellAudio = audio[cell[0]:cell[1]]\n",
      "    \n",
      "    cellPhenotype = phenotypeForCell(cellAudio)\n",
      "    cellPhenotypes.append(cellPhenotype)"
     ],
     "language": "python",
     "metadata": {},
     "outputs": [],
     "prompt_number": 150
    },
    {
     "cell_type": "code",
     "collapsed": false,
     "input": [
      "cellPhenotype = phenotypeForCell(audio[cellBoundaries[0][0]:cellBoundaries[0][1]])\n",
      "cellPhenotype"
     ],
     "language": "python",
     "metadata": {},
     "outputs": [
      {
       "metadata": {},
       "output_type": "pyout",
       "prompt_number": 187,
       "text": [
        "{'Chroma': [0.026155933737754822,\n",
        "  0.1071673333644867,\n",
        "  0.05817843973636627,\n",
        "  0.012222004123032093,\n",
        "  0.08373598754405975,\n",
        "  0.03412938490509987,\n",
        "  0.010918245650827885,\n",
        "  0.02819824405014515,\n",
        "  0.44226279854774475,\n",
        "  1.0,\n",
        "  0.7502961754798889,\n",
        "  0.4161165952682495],\n",
        " 'Density': 0.7346687604577377,\n",
        " 'DynamicComplexity': [13.154158592224121, -27.65814208984375],\n",
        " 'Rhythm': 131.4077606201172,\n",
        " 'Roughness': 0.01060225586312977,\n",
        " 'SpectralCentroid': 0.12654649837453497,\n",
        " 'SpectralComplexity': 1.1066763425253991,\n",
        " 'SpectralRolloff': 1046.9699632619738,\n",
        " 'ZCR': 0.047719747822931785}"
       ]
      }
     ],
     "prompt_number": 187
    },
    {
     "cell_type": "code",
     "collapsed": false,
     "input": [],
     "language": "python",
     "metadata": {},
     "outputs": [],
     "prompt_number": 140
    },
    {
     "cell_type": "code",
     "collapsed": false,
     "input": [
      "flatten(cellPhenotypes[10].values())"
     ],
     "language": "python",
     "metadata": {},
     "outputs": [
      {
       "metadata": {},
       "output_type": "pyout",
       "prompt_number": 142,
       "text": [
        "[0.1642560213804245,\n",
        " 0.039700936526060104,\n",
        " 0.9847512916981577,\n",
        " 0.0,\n",
        " 0.0,\n",
        " 0.0,\n",
        " 0.0,\n",
        " 0.0,\n",
        " 0.0,\n",
        " 0.0,\n",
        " 0.0,\n",
        " 0.0,\n",
        " 0.0,\n",
        " 0.0,\n",
        " 0.0,\n",
        " 0.0,\n",
        " 5340.314453125,\n",
        " 100.0,\n",
        " 94.51403045654297,\n",
        " 1.5667800903320312,\n",
        " -35.60968017578125,\n",
        " 867.2586059570312]"
       ]
      }
     ],
     "prompt_number": 142
    }
   ],
   "metadata": {}
  }
 ]
}