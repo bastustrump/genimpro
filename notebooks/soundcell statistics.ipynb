{
 "metadata": {
  "name": "",
  "signature": "sha256:5605f2fd933887789b789e1ee1d793ccd396978276a390a033c28662338438f8"
 },
 "nbformat": 3,
 "nbformat_minor": 0,
 "worksheets": [
  {
   "cells": [
    {
     "cell_type": "code",
     "collapsed": false,
     "input": [
      "import pydub\n",
      "import sys"
     ],
     "language": "python",
     "metadata": {},
     "outputs": [],
     "prompt_number": 1
    },
    {
     "cell_type": "code",
     "collapsed": false,
     "input": [
      "cd /Users/bastus/Desktop/Forschungsprojekt/genimpro"
     ],
     "language": "python",
     "metadata": {},
     "outputs": [
      {
       "output_type": "stream",
       "stream": "stdout",
       "text": [
        "/Users/bastus/Desktop/Forschungsprojekt/genimpro\n"
       ]
      }
     ],
     "prompt_number": 2
    },
    {
     "cell_type": "code",
     "collapsed": false,
     "input": [
      "%run importwrapper.py\n",
      "%pylab inline"
     ],
     "language": "python",
     "metadata": {},
     "outputs": [
      {
       "output_type": "stream",
       "stream": "stdout",
       "text": [
        "Populating the interactive namespace from numpy and matplotlib\n"
       ]
      }
     ],
     "prompt_number": 3
    },
    {
     "cell_type": "code",
     "collapsed": false,
     "input": [
      "cd ~/Desktop/VSCC/"
     ],
     "language": "python",
     "metadata": {},
     "outputs": [
      {
       "output_type": "stream",
       "stream": "stdout",
       "text": [
        "/Users/bastus/Desktop/VSCC\n"
       ]
      }
     ],
     "prompt_number": 4
    },
    {
     "cell_type": "code",
     "collapsed": false,
     "input": [
      "cd soundcells/"
     ],
     "language": "python",
     "metadata": {},
     "outputs": [
      {
       "output_type": "stream",
       "stream": "stdout",
       "text": [
        "/Users/bastus/Desktop/VSCC/soundcells\n"
       ]
      }
     ],
     "prompt_number": 5
    },
    {
     "cell_type": "code",
     "collapsed": false,
     "input": [
      "import os, json"
     ],
     "language": "python",
     "metadata": {},
     "outputs": [],
     "prompt_number": 9
    },
    {
     "cell_type": "code",
     "collapsed": false,
     "input": [
      "soundcells = []\n",
      "for file in os.listdir(\".\"):\n",
      "    if file.endswith(\".aiff\"):\n",
      "        audio = pydub.AudioSegment.from_file(file,\"aiff\")\n",
      "        size = len(audio)/100.0\n",
      "        soundcells.append({\"name\":file,\"size\":size})"
     ],
     "language": "python",
     "metadata": {},
     "outputs": [],
     "prompt_number": 16
    },
    {
     "cell_type": "code",
     "collapsed": false,
     "input": [
      "json.dumps(soundcells)"
     ],
     "language": "python",
     "metadata": {},
     "outputs": [
      {
       "metadata": {},
       "output_type": "pyout",
       "prompt_number": 24,
       "text": [
        "'[{\"name\": \"100.aiff\", \"size\": 14.16}, {\"name\": \"101.aiff\", \"size\": 18.58}, {\"name\": \"102.aiff\", \"size\": 16.02}, {\"name\": \"103.aiff\", \"size\": 23.68}, {\"name\": \"104.aiff\", \"size\": 94.97}, {\"name\": \"105.aiff\", \"size\": 3.02}, {\"name\": \"106.aiff\", \"size\": 20.9}, {\"name\": \"107.aiff\", \"size\": 46.67}, {\"name\": \"108.aiff\", \"size\": 8.36}, {\"name\": \"109.aiff\", \"size\": 8.36}, {\"name\": \"110.aiff\", \"size\": 1.63}, {\"name\": \"111.aiff\", \"size\": 5.11}, {\"name\": \"112.aiff\", \"size\": 22.99}, {\"name\": \"113.aiff\", \"size\": 116.8}, {\"name\": \"114.aiff\", \"size\": 15.79}, {\"name\": \"115.aiff\", \"size\": 21.59}, {\"name\": \"116.aiff\", \"size\": 84.06}, {\"name\": \"117.aiff\", \"size\": 8.82}, {\"name\": \"118.aiff\", \"size\": 6.97}, {\"name\": \"119.aiff\", \"size\": 23.68}, {\"name\": \"120.aiff\", \"size\": 10.68}, {\"name\": \"121.aiff\", \"size\": 19.74}, {\"name\": \"122.aiff\", \"size\": 66.41}, {\"name\": \"127.aiff\", \"size\": 52.71}, {\"name\": \"128.aiff\", \"size\": 1.63}, {\"name\": \"129.aiff\", \"size\": 40.87}, {\"name\": \"130.aiff\", \"size\": 14.63}, {\"name\": \"131.aiff\", \"size\": 4.18}, {\"name\": \"132.aiff\", \"size\": 13.24}, {\"name\": \"133.aiff\", \"size\": 58.98}, {\"name\": \"134.aiff\", \"size\": 27.17}, {\"name\": \"135.aiff\", \"size\": 55.26}, {\"name\": \"136.aiff\", \"size\": 40.87}, {\"name\": \"137.aiff\", \"size\": 17.65}, {\"name\": \"139.aiff\", \"size\": 2.79}, {\"name\": \"140.aiff\", \"size\": 6.97}, {\"name\": \"141.aiff\", \"size\": 4.64}, {\"name\": \"142.aiff\", \"size\": 18.34}, {\"name\": \"143.aiff\", \"size\": 11.15}, {\"name\": \"144.aiff\", \"size\": 97.99}, {\"name\": \"145.aiff\", \"size\": 19.04}, {\"name\": \"146.aiff\", \"size\": 1.16}, {\"name\": \"147.aiff\", \"size\": 132.12}, {\"name\": \"149.aiff\", \"size\": 74.07}, {\"name\": \"150.aiff\", \"size\": 3.25}, {\"name\": \"151.aiff\", \"size\": 29.95}, {\"name\": \"152.aiff\", \"size\": 102.4}, {\"name\": \"153.aiff\", \"size\": 6.27}, {\"name\": \"154.aiff\", \"size\": 9.52}, {\"name\": \"155.aiff\", \"size\": 58.51}, {\"name\": \"156.aiff\", \"size\": 4.18}, {\"name\": \"157.aiff\", \"size\": 1.16}, {\"name\": \"158.aiff\", \"size\": 7.2}, {\"name\": \"159.aiff\", \"size\": 8.59}, {\"name\": \"160.aiff\", \"size\": 37.38}, {\"name\": \"162.aiff\", \"size\": 39.01}, {\"name\": \"163.aiff\", \"size\": 8.82}, {\"name\": \"164.aiff\", \"size\": 16.25}, {\"name\": \"165.aiff\", \"size\": 190.4}, {\"name\": \"166.aiff\", \"size\": 19.97}, {\"name\": \"167.aiff\", \"size\": 22.52}, {\"name\": \"168.aiff\", \"size\": 8.59}, {\"name\": \"170.aiff\", \"size\": 1.16}, {\"name\": \"171.aiff\", \"size\": 56.42}, {\"name\": \"172.aiff\", \"size\": 53.64}, {\"name\": \"173.aiff\", \"size\": 17.18}, {\"name\": \"175.aiff\", \"size\": 39.71}, {\"name\": \"176.aiff\", \"size\": 7.66}, {\"name\": \"177.aiff\", \"size\": 16.72}, {\"name\": \"178.aiff\", \"size\": 2.55}, {\"name\": \"179.aiff\", \"size\": 15.33}, {\"name\": \"180.aiff\", \"size\": 2.79}, {\"name\": \"181.aiff\", \"size\": 7.89}, {\"name\": \"182.aiff\", \"size\": 15.33}, {\"name\": \"183.aiff\", \"size\": 17.18}, {\"name\": \"184.aiff\", \"size\": 25.31}, {\"name\": \"186.aiff\", \"size\": 14.4}, {\"name\": \"187.aiff\", \"size\": 4.41}, {\"name\": \"188.aiff\", \"size\": 8.59}, {\"name\": \"189.aiff\", \"size\": 53.17}, {\"name\": \"190.aiff\", \"size\": 1.39}, {\"name\": \"192.aiff\", \"size\": 3.72}, {\"name\": \"193.aiff\", \"size\": 1.63}, {\"name\": \"194.aiff\", \"size\": 9.75}, {\"name\": \"195.aiff\", \"size\": 15.09}, {\"name\": \"196.aiff\", \"size\": 62.69}, {\"name\": \"197.aiff\", \"size\": 13.7}, {\"name\": \"198.aiff\", \"size\": 2.32}, {\"name\": \"199.aiff\", \"size\": 4.41}, {\"name\": \"200.aiff\", \"size\": 16.72}, {\"name\": \"201.aiff\", \"size\": 73.14}, {\"name\": \"202.aiff\", \"size\": 5.11}, {\"name\": \"203.aiff\", \"size\": 13.0}, {\"name\": \"205.aiff\", \"size\": 8.36}, {\"name\": \"207.aiff\", \"size\": 10.45}, {\"name\": \"208.aiff\", \"size\": 127.94}, {\"name\": \"209.aiff\", \"size\": 16.95}, {\"name\": \"210.aiff\", \"size\": 1.39}, {\"name\": \"211.aiff\", \"size\": 5.34}, {\"name\": \"213.aiff\", \"size\": 11.15}, {\"name\": \"214.aiff\", \"size\": 51.32}, {\"name\": \"215.aiff\", \"size\": 12.31}, {\"name\": \"216.aiff\", \"size\": 5.81}, {\"name\": \"217.aiff\", \"size\": 5.57}, {\"name\": \"218.aiff\", \"size\": 3.02}, {\"name\": \"219.aiff\", \"size\": 7.66}, {\"name\": \"220.aiff\", \"size\": 2.09}, {\"name\": \"221.aiff\", \"size\": 9.98}, {\"name\": \"222.aiff\", \"size\": 61.53}, {\"name\": \"224.aiff\", \"size\": 488.32}, {\"name\": \"225.aiff\", \"size\": 28.79}, {\"name\": \"226.aiff\", \"size\": 10.91}, {\"name\": \"227.aiff\", \"size\": 120.51}, {\"name\": \"228.aiff\", \"size\": 32.97}, {\"name\": \"229.aiff\", \"size\": 3.48}, {\"name\": \"230.aiff\", \"size\": 4.41}, {\"name\": \"231.aiff\", \"size\": 45.05}, {\"name\": \"232.aiff\", \"size\": 11.84}, {\"name\": \"233.aiff\", \"size\": 6.5}, {\"name\": \"234.aiff\", \"size\": 5.57}, {\"name\": \"235.aiff\", \"size\": 8.36}, {\"name\": \"236.aiff\", \"size\": 52.94}, {\"name\": \"237.aiff\", \"size\": 72.68}, {\"name\": \"238.aiff\", \"size\": 70.12}, {\"name\": \"239.aiff\", \"size\": 6.97}, {\"name\": \"240.aiff\", \"size\": 147.21}, {\"name\": \"241.aiff\", \"size\": 31.81}, {\"name\": \"242.aiff\", \"size\": 23.68}, {\"name\": \"243.aiff\", \"size\": 10.22}, {\"name\": \"244.aiff\", \"size\": 8.36}, {\"name\": \"245.aiff\", \"size\": 2.09}, {\"name\": \"246.aiff\", \"size\": 22.76}, {\"name\": \"247.aiff\", \"size\": 13.93}, {\"name\": \"248.aiff\", \"size\": 1.16}, {\"name\": \"249.aiff\", \"size\": 1.63}, {\"name\": \"250.aiff\", \"size\": 83.13}, {\"name\": \"251.aiff\", \"size\": 10.91}, {\"name\": \"252.aiff\", \"size\": 6.73}, {\"name\": \"253.aiff\", \"size\": 7.43}, {\"name\": \"254.aiff\", \"size\": 14.86}, {\"name\": \"255.aiff\", \"size\": 21.59}, {\"name\": \"256.aiff\", \"size\": 6.04}, {\"name\": \"258.aiff\", \"size\": 28.56}, {\"name\": \"259.aiff\", \"size\": 10.68}, {\"name\": \"261.aiff\", \"size\": 19.27}, {\"name\": \"262.aiff\", \"size\": 34.13}, {\"name\": \"263.aiff\", \"size\": 6.04}, {\"name\": \"264.aiff\", \"size\": 4.18}, {\"name\": \"265.aiff\", \"size\": 3.95}, {\"name\": \"266.aiff\", \"size\": 2.32}, {\"name\": \"267.aiff\", \"size\": 4.88}, {\"name\": \"268.aiff\", \"size\": 16.72}, {\"name\": \"269.aiff\", \"size\": 12.54}, {\"name\": \"270.aiff\", \"size\": 9.98}, {\"name\": \"271.aiff\", \"size\": 10.22}, {\"name\": \"272.aiff\", \"size\": 3.48}, {\"name\": \"273.aiff\", \"size\": 12.07}, {\"name\": \"274.aiff\", \"size\": 18.34}, {\"name\": \"275.aiff\", \"size\": 6.27}, {\"name\": \"276.aiff\", \"size\": 142.34}, {\"name\": \"277.aiff\", \"size\": 16.49}, {\"name\": \"278.aiff\", \"size\": 2.09}, {\"name\": \"279.aiff\", \"size\": 13.93}, {\"name\": \"281.aiff\", \"size\": 1.16}, {\"name\": \"282.aiff\", \"size\": 3.02}, {\"name\": \"283.aiff\", \"size\": 12.31}, {\"name\": \"284.aiff\", \"size\": 7.66}, {\"name\": \"285.aiff\", \"size\": 29.26}, {\"name\": \"286.aiff\", \"size\": 17.42}, {\"name\": \"287.aiff\", \"size\": 7.66}, {\"name\": \"288.aiff\", \"size\": 24.85}, {\"name\": \"289.aiff\", \"size\": 37.62}, {\"name\": \"290.aiff\", \"size\": 2.32}, {\"name\": \"291.aiff\", \"size\": 68.03}, {\"name\": \"292.aiff\", \"size\": 28.56}, {\"name\": \"294.aiff\", \"size\": 15.79}, {\"name\": \"295.aiff\", \"size\": 3.02}, {\"name\": \"296.aiff\", \"size\": 11.38}, {\"name\": \"297.aiff\", \"size\": 70.82}, {\"name\": \"298.aiff\", \"size\": 3.25}, {\"name\": \"299.aiff\", \"size\": 21.59}, {\"name\": \"300.aiff\", \"size\": 12.77}, {\"name\": \"301.aiff\", \"size\": 103.79}, {\"name\": \"302.aiff\", \"size\": 11.61}, {\"name\": \"303.aiff\", \"size\": 7.43}, {\"name\": \"304.aiff\", \"size\": 15.79}, {\"name\": \"305.aiff\", \"size\": 111.22}, {\"name\": \"306.aiff\", \"size\": 3.72}, {\"name\": \"307.aiff\", \"size\": 15.79}, {\"name\": \"308.aiff\", \"size\": 3.25}, {\"name\": \"309.aiff\", \"size\": 2.09}, {\"name\": \"310.aiff\", \"size\": 1.86}, {\"name\": \"311.aiff\", \"size\": 14.16}, {\"name\": \"312.aiff\", \"size\": 1.86}, {\"name\": \"313.aiff\", \"size\": 8.36}, {\"name\": \"314.aiff\", \"size\": 25.54}, {\"name\": \"316.aiff\", \"size\": 8.36}, {\"name\": \"317.aiff\", \"size\": 1.86}, {\"name\": \"318.aiff\", \"size\": 9.29}, {\"name\": \"319.aiff\", \"size\": 24.38}, {\"name\": \"320.aiff\", \"size\": 17.42}, {\"name\": \"321.aiff\", \"size\": 24.15}, {\"name\": \"323.aiff\", \"size\": 30.42}, {\"name\": \"324.aiff\", \"size\": 3.72}, {\"name\": \"325.aiff\", \"size\": 2.09}, {\"name\": \"326.aiff\", \"size\": 4.88}, {\"name\": \"329.aiff\", \"size\": 2.79}, {\"name\": \"330.aiff\", \"size\": 11.61}, {\"name\": \"331.aiff\", \"size\": 1.39}, {\"name\": \"332.aiff\", \"size\": 4.18}, {\"name\": \"333.aiff\", \"size\": 14.63}, {\"name\": \"334.aiff\", \"size\": 2.79}, {\"name\": \"335.aiff\", \"size\": 4.41}, {\"name\": \"336.aiff\", \"size\": 11.84}, {\"name\": \"337.aiff\", \"size\": 19.5}, {\"name\": \"338.aiff\", \"size\": 3.02}, {\"name\": \"339.aiff\", \"size\": 9.75}, {\"name\": \"340.aiff\", \"size\": 22.76}, {\"name\": \"341.aiff\", \"size\": 7.43}, {\"name\": \"342.aiff\", \"size\": 8.13}, {\"name\": \"343.aiff\", \"size\": 1.39}, {\"name\": \"344.aiff\", \"size\": 4.18}, {\"name\": \"345.aiff\", \"size\": 3.02}, {\"name\": \"346.aiff\", \"size\": 6.27}, {\"name\": \"347.aiff\", \"size\": 9.52}, {\"name\": \"348.aiff\", \"size\": 2.32}, {\"name\": \"349.aiff\", \"size\": 7.66}, {\"name\": \"350.aiff\", \"size\": 52.25}, {\"name\": \"351.aiff\", \"size\": 19.04}, {\"name\": \"352.aiff\", \"size\": 31.81}, {\"name\": \"353.aiff\", \"size\": 29.03}, {\"name\": \"355.aiff\", \"size\": 39.24}, {\"name\": \"357.aiff\", \"size\": 9.75}, {\"name\": \"358.aiff\", \"size\": 82.2}, {\"name\": \"360.aiff\", \"size\": 7.66}, {\"name\": \"361.aiff\", \"size\": 26.7}, {\"name\": \"362.aiff\", \"size\": 50.39}, {\"name\": \"363.aiff\", \"size\": 26.24}, {\"name\": \"364.aiff\", \"size\": 6.27}, {\"name\": \"365.aiff\", \"size\": 18.58}, {\"name\": \"367.aiff\", \"size\": 16.02}, {\"name\": \"368.aiff\", \"size\": 4.18}, {\"name\": \"369.aiff\", \"size\": 19.04}, {\"name\": \"370.aiff\", \"size\": 19.97}, {\"name\": \"371.aiff\", \"size\": 6.5}, {\"name\": \"372.aiff\", \"size\": 40.4}, {\"name\": \"373.aiff\", \"size\": 4.41}, {\"name\": \"374.aiff\", \"size\": 29.95}, {\"name\": \"375.aiff\", \"size\": 7.2}, {\"name\": \"376.aiff\", \"size\": 22.76}, {\"name\": \"377.aiff\", \"size\": 1.16}, {\"name\": \"378.aiff\", \"size\": 7.66}, {\"name\": \"379.aiff\", \"size\": 16.95}, {\"name\": \"380.aiff\", \"size\": 1.86}, {\"name\": \"93.aiff\", \"size\": 6.04}, {\"name\": \"94.aiff\", \"size\": 1.16}, {\"name\": \"95.aiff\", \"size\": 53.17}, {\"name\": \"96.aiff\", \"size\": 9.98}, {\"name\": \"97.aiff\", \"size\": 21.59}, {\"name\": \"98.aiff\", \"size\": 8.13}, {\"name\": \"99.aiff\", \"size\": 5.11}]'"
       ]
      }
     ],
     "prompt_number": 24
    },
    {
     "cell_type": "code",
     "collapsed": false,
     "input": [],
     "language": "python",
     "metadata": {},
     "outputs": [
      {
       "ename": "TypeError",
       "evalue": "'module' object is not callable",
       "output_type": "pyerr",
       "traceback": [
        "\u001b[0;31m---------------------------------------------------------------------------\u001b[0m\n\u001b[0;31mTypeError\u001b[0m                                 Traceback (most recent call last)",
        "\u001b[0;32m<ipython-input-23-dbe75e0a4151>\u001b[0m in \u001b[0;36m<module>\u001b[0;34m()\u001b[0m\n\u001b[0;32m----> 1\u001b[0;31m \u001b[0mencode\u001b[0m\u001b[0;34m(\u001b[0m\u001b[0msoundcells\u001b[0m\u001b[0;34m)\u001b[0m\u001b[0;34m\u001b[0m\u001b[0m\n\u001b[0m",
        "\u001b[0;31mTypeError\u001b[0m: 'module' object is not callable"
       ]
      }
     ],
     "prompt_number": 23
    },
    {
     "cell_type": "code",
     "collapsed": false,
     "input": [],
     "language": "python",
     "metadata": {},
     "outputs": []
    },
    {
     "cell_type": "code",
     "collapsed": false,
     "input": [],
     "language": "python",
     "metadata": {},
     "outputs": []
    }
   ],
   "metadata": {}
  }
 ]
}