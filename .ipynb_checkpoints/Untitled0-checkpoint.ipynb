{
 "metadata": {
  "name": "",
  "signature": "sha256:17655a82a6338b01d5279a213969b7c7bab1807df1203e978dd09d41f165992a"
 },
 "nbformat": 3,
 "nbformat_minor": 0,
 "worksheets": []
}